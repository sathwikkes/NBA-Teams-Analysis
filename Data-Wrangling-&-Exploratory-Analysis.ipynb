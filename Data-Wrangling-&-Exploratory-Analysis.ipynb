{
 "cells": [
  {
   "cell_type": "markdown",
   "metadata": {},
   "source": [
    "# Kmeans Clustering -- NBA Teams\n",
    "- Title Contender(4):   \n",
    "- Playoff Team(12):  \n",
    "- Good(5):  \n",
    "- Below Average(5):  \n",
    "- Worst(4):   "
   ]
  },
  {
   "cell_type": "markdown",
   "metadata": {},
   "source": [
    "## Project Motivation  \n",
    "Although the past decade had witnessed never seen before trades and insane franchise expansions, it has been regarded as one of the most lopsided times in basketball history because of how highly predictable the Finals' matchups were. An unstoppable dynasty from the west versus one of greatest to ever play basketball, Lebron James, from the east. Overtime teams went from having a couple superstars and several mediocre players to an equally balanced league where talent is found on any team. Whether it is an advancement in sports medicine, increased cap space, shift to brilliant recruiting, or improved management, the league as a whole is getting better. Not to mention, the overall style of play in todays era has changed remarkably. Younger players such as Luka Doncic and Jaysum Tatum are rising stars who will lift the association to new heights. With substantial moves happening every season, the purpose of this project is to indicate/define these teams into clusters based on their past performances."
   ]
  },
  {
   "cell_type": "markdown",
   "metadata": {},
   "source": [
    "## Data Source\n",
    "The data was scraped from basketball-reference and nba.com/stats for every team from 2014 to 2019 were collected. 2014 was used as the initial start year just to view a crucial period (Lebron going back to the Cavs and the take over of Golden State). In total there are 30 teams and 48 features that include both averages and totals describing each team. "
   ]
  },
  {
   "cell_type": "code",
   "execution_count": 1,
   "metadata": {
    "ExecuteTime": {
     "end_time": "2021-01-21T07:24:08.784523Z",
     "start_time": "2021-01-21T07:24:07.858995Z"
    }
   },
   "outputs": [],
   "source": [
    "# helpful packages to load\n",
    "import pandas as pd \n",
    "import numpy as np \n",
    "import matplotlib.pyplot as plt\n",
    "%matplotlib inline\n",
    "# learning plotly\n",
    "import plotly.express as px\n",
    "import plotly.graph_objs as go"
   ]
  },
  {
   "cell_type": "code",
   "execution_count": 2,
   "metadata": {
    "ExecuteTime": {
     "end_time": "2021-01-21T07:24:08.822460Z",
     "start_time": "2021-01-21T07:24:08.786511Z"
    }
   },
   "outputs": [],
   "source": [
    "df_2015 = pd.read_csv('data/totals_2015.csv') #2014-2015\n",
    "df_2016 = pd.read_csv('data/totals_2016.csv') #2015-2016\n",
    "df_2017 = pd.read_csv('data/totals_2017.csv') #2016-2017\n",
    "df_2018 = pd.read_csv('data/totals_2018.csv') #2017-2018\n",
    "df_2019 = pd.read_csv('data/totals_2019.csv') #2018-2019"
   ]
  },
  {
   "cell_type": "code",
   "execution_count": 3,
   "metadata": {
    "ExecuteTime": {
     "end_time": "2021-01-21T07:24:08.835111Z",
     "start_time": "2021-01-21T07:24:08.825136Z"
    }
   },
   "outputs": [],
   "source": [
    "df_2015['season'] = '2014-15'\n",
    "df_2016['season'] = '2015-16'\n",
    "df_2017['season'] = '2016-17'\n",
    "df_2018['season'] = '2017-18'\n",
    "df_2019['season'] = '2018-19'"
   ]
  },
  {
   "cell_type": "code",
   "execution_count": 4,
   "metadata": {
    "ExecuteTime": {
     "end_time": "2021-01-21T07:24:08.873084Z",
     "start_time": "2021-01-21T07:24:08.839099Z"
    }
   },
   "outputs": [],
   "source": [
    "df = df_2015.append(df_2016).append(df_2017).append(df_2018).append(df_2019)\n",
    "df = df.drop(['Team2', 'G2'], axis = 1)"
   ]
  },
  {
   "cell_type": "code",
   "execution_count": 5,
   "metadata": {
    "ExecuteTime": {
     "end_time": "2021-01-21T07:24:08.884018Z",
     "start_time": "2021-01-21T07:24:08.875003Z"
    }
   },
   "outputs": [],
   "source": [
    "df['made_playoffs'] = df['Team'].str.contains('*', regex=False)\n",
    "df['made_playoffs'] = df['made_playoffs'].astype(int)\n",
    "df['Team'] = df['Team'].str.replace('*', '', regex=False)"
   ]
  },
  {
   "cell_type": "code",
   "execution_count": 6,
   "metadata": {
    "ExecuteTime": {
     "end_time": "2021-01-21T07:24:08.901930Z",
     "start_time": "2021-01-21T07:24:08.887968Z"
    }
   },
   "outputs": [
    {
     "data": {
      "text/plain": [
       "0     Golden State Warriors\n",
       "1      Los Angeles Clippers\n",
       "2          Dallas Mavericks\n",
       "3           Toronto Raptors\n",
       "4     Oklahoma City Thunder\n",
       "              ...          \n",
       "26            Chicago Bulls\n",
       "27          New York Knicks\n",
       "28      Cleveland Cavaliers\n",
       "29        Memphis Grizzlies\n",
       "30           League Average\n",
       "Name: Team, Length: 155, dtype: object"
      ]
     },
     "execution_count": 6,
     "metadata": {},
     "output_type": "execute_result"
    }
   ],
   "source": [
    "df.Team"
   ]
  },
  {
   "cell_type": "code",
   "execution_count": 7,
   "metadata": {
    "ExecuteTime": {
     "end_time": "2021-01-21T07:24:08.916892Z",
     "start_time": "2021-01-21T07:24:08.905921Z"
    }
   },
   "outputs": [
    {
     "data": {
      "text/plain": [
       "(155, 48)"
      ]
     },
     "execution_count": 7,
     "metadata": {},
     "output_type": "execute_result"
    }
   ],
   "source": [
    "df.shape"
   ]
  },
  {
   "cell_type": "code",
   "execution_count": 8,
   "metadata": {
    "ExecuteTime": {
     "end_time": "2021-01-21T07:24:08.956784Z",
     "start_time": "2021-01-21T07:24:08.922875Z"
    },
    "scrolled": true
   },
   "outputs": [
    {
     "name": "stdout",
     "output_type": "stream",
     "text": [
      "<class 'pandas.core.frame.DataFrame'>\n",
      "Int64Index: 155 entries, 0 to 30\n",
      "Data columns (total 48 columns):\n",
      " #   Column         Non-Null Count  Dtype  \n",
      "---  ------         --------------  -----  \n",
      " 0   Team           155 non-null    object \n",
      " 1   G              155 non-null    int64  \n",
      " 2   MP-Total       155 non-null    int64  \n",
      " 3   FGM-Total      155 non-null    int64  \n",
      " 4   FGA-Total      155 non-null    int64  \n",
      " 5   FG%-Total      155 non-null    float64\n",
      " 6   3PM-Total      155 non-null    int64  \n",
      " 7   3PA-Total      155 non-null    int64  \n",
      " 8   3P%-Total      155 non-null    float64\n",
      " 9   2PM-Total      155 non-null    int64  \n",
      " 10  2PA-Total      155 non-null    int64  \n",
      " 11  2P%-Total      155 non-null    float64\n",
      " 12  FTM-Total      155 non-null    int64  \n",
      " 13  FTA-Total      155 non-null    int64  \n",
      " 14  FT%-Total      155 non-null    float64\n",
      " 15  ORB-Total      155 non-null    int64  \n",
      " 16  DRB-Total      155 non-null    int64  \n",
      " 17  TRB-Total      155 non-null    int64  \n",
      " 18  AST-Total      155 non-null    int64  \n",
      " 19  STL-Total      155 non-null    int64  \n",
      " 20  BLK-Total      155 non-null    int64  \n",
      " 21  TOV-Total      155 non-null    int64  \n",
      " 22  PF-Total       155 non-null    int64  \n",
      " 23  PTS-Total      155 non-null    int64  \n",
      " 24  MP-PG          155 non-null    float64\n",
      " 25  FGM-PG         155 non-null    float64\n",
      " 26  FGA-PG         155 non-null    float64\n",
      " 27  FG%-PG         155 non-null    float64\n",
      " 28  3PM-PG         155 non-null    float64\n",
      " 29  3PA-PG         155 non-null    float64\n",
      " 30  3P%-PG         155 non-null    float64\n",
      " 31  2PM-PG         155 non-null    float64\n",
      " 32  2PA-PG         155 non-null    float64\n",
      " 33  2P%-PG         155 non-null    float64\n",
      " 34  FTM-PG         155 non-null    float64\n",
      " 35  FTA-PG         155 non-null    float64\n",
      " 36  FT%-PG         155 non-null    float64\n",
      " 37  ORB-PG         155 non-null    float64\n",
      " 38  DRB-PG         155 non-null    float64\n",
      " 39  TRB-PG         155 non-null    float64\n",
      " 40  AST-PG         155 non-null    float64\n",
      " 41  STL-PG         155 non-null    float64\n",
      " 42  BLK-PG         155 non-null    float64\n",
      " 43  TOV-PG         155 non-null    float64\n",
      " 44  PF-PG          155 non-null    float64\n",
      " 45  PTS-PG         155 non-null    float64\n",
      " 46  season         155 non-null    object \n",
      " 47  made_playoffs  155 non-null    int32  \n",
      "dtypes: float64(26), int32(1), int64(19), object(2)\n",
      "memory usage: 58.7+ KB\n"
     ]
    }
   ],
   "source": [
    "df.info()"
   ]
  },
  {
   "cell_type": "code",
   "execution_count": 19,
   "metadata": {
    "ExecuteTime": {
     "end_time": "2021-01-21T07:35:07.907630Z",
     "start_time": "2021-01-21T07:35:07.708204Z"
    }
   },
   "outputs": [
    {
     "data": {
      "text/html": [
       "<div>\n",
       "<style scoped>\n",
       "    .dataframe tbody tr th:only-of-type {\n",
       "        vertical-align: middle;\n",
       "    }\n",
       "\n",
       "    .dataframe tbody tr th {\n",
       "        vertical-align: top;\n",
       "    }\n",
       "\n",
       "    .dataframe thead th {\n",
       "        text-align: right;\n",
       "    }\n",
       "</style>\n",
       "<table border=\"1\" class=\"dataframe\">\n",
       "  <thead>\n",
       "    <tr style=\"text-align: right;\">\n",
       "      <th></th>\n",
       "      <th>G</th>\n",
       "      <th>MP-Total</th>\n",
       "      <th>FGM-Total</th>\n",
       "      <th>FGA-Total</th>\n",
       "      <th>FG%-Total</th>\n",
       "      <th>3PM-Total</th>\n",
       "      <th>3PA-Total</th>\n",
       "      <th>3P%-Total</th>\n",
       "      <th>2PM-Total</th>\n",
       "      <th>2PA-Total</th>\n",
       "      <th>...</th>\n",
       "      <th>ORB-PG</th>\n",
       "      <th>DRB-PG</th>\n",
       "      <th>TRB-PG</th>\n",
       "      <th>AST-PG</th>\n",
       "      <th>STL-PG</th>\n",
       "      <th>BLK-PG</th>\n",
       "      <th>TOV-PG</th>\n",
       "      <th>PF-PG</th>\n",
       "      <th>PTS-PG</th>\n",
       "      <th>made_playoffs</th>\n",
       "    </tr>\n",
       "  </thead>\n",
       "  <tbody>\n",
       "    <tr>\n",
       "      <th>count</th>\n",
       "      <td>155.0</td>\n",
       "      <td>155.000000</td>\n",
       "      <td>155.000000</td>\n",
       "      <td>155.000000</td>\n",
       "      <td>155.000000</td>\n",
       "      <td>155.000000</td>\n",
       "      <td>155.000000</td>\n",
       "      <td>155.000000</td>\n",
       "      <td>155.000000</td>\n",
       "      <td>155.000000</td>\n",
       "      <td>...</td>\n",
       "      <td>155.000000</td>\n",
       "      <td>155.000000</td>\n",
       "      <td>155.000000</td>\n",
       "      <td>155.000000</td>\n",
       "      <td>155.000000</td>\n",
       "      <td>155.000000</td>\n",
       "      <td>155.000000</td>\n",
       "      <td>155.000000</td>\n",
       "      <td>155.000000</td>\n",
       "      <td>155.000000</td>\n",
       "    </tr>\n",
       "    <tr>\n",
       "      <th>mean</th>\n",
       "      <td>82.0</td>\n",
       "      <td>19818.329032</td>\n",
       "      <td>3206.070968</td>\n",
       "      <td>7032.670968</td>\n",
       "      <td>0.455826</td>\n",
       "      <td>785.083871</td>\n",
       "      <td>2205.883871</td>\n",
       "      <td>0.355271</td>\n",
       "      <td>2420.980645</td>\n",
       "      <td>4826.793548</td>\n",
       "      <td>...</td>\n",
       "      <td>10.299355</td>\n",
       "      <td>33.550968</td>\n",
       "      <td>43.852903</td>\n",
       "      <td>22.950968</td>\n",
       "      <td>7.722581</td>\n",
       "      <td>4.847097</td>\n",
       "      <td>14.210968</td>\n",
       "      <td>20.226452</td>\n",
       "      <td>105.161935</td>\n",
       "      <td>0.516129</td>\n",
       "    </tr>\n",
       "    <tr>\n",
       "      <th>std</th>\n",
       "      <td>0.0</td>\n",
       "      <td>65.687188</td>\n",
       "      <td>157.415082</td>\n",
       "      <td>228.977572</td>\n",
       "      <td>0.014971</td>\n",
       "      <td>165.208878</td>\n",
       "      <td>436.644406</td>\n",
       "      <td>0.016446</td>\n",
       "      <td>161.779290</td>\n",
       "      <td>371.208411</td>\n",
       "      <td>...</td>\n",
       "      <td>1.090246</td>\n",
       "      <td>1.606697</td>\n",
       "      <td>1.889970</td>\n",
       "      <td>2.207583</td>\n",
       "      <td>0.823088</td>\n",
       "      <td>0.742697</td>\n",
       "      <td>1.142711</td>\n",
       "      <td>1.434504</td>\n",
       "      <td>5.429409</td>\n",
       "      <td>0.501360</td>\n",
       "    </tr>\n",
       "    <tr>\n",
       "      <th>min</th>\n",
       "      <td>82.0</td>\n",
       "      <td>19705.000000</td>\n",
       "      <td>2765.000000</td>\n",
       "      <td>6330.000000</td>\n",
       "      <td>0.408000</td>\n",
       "      <td>406.000000</td>\n",
       "      <td>1223.000000</td>\n",
       "      <td>0.317000</td>\n",
       "      <td>1895.000000</td>\n",
       "      <td>3436.000000</td>\n",
       "      <td>...</td>\n",
       "      <td>7.900000</td>\n",
       "      <td>29.300000</td>\n",
       "      <td>38.600000</td>\n",
       "      <td>18.000000</td>\n",
       "      <td>5.700000</td>\n",
       "      <td>2.400000</td>\n",
       "      <td>11.500000</td>\n",
       "      <td>16.600000</td>\n",
       "      <td>91.900000</td>\n",
       "      <td>0.000000</td>\n",
       "    </tr>\n",
       "    <tr>\n",
       "      <th>25%</th>\n",
       "      <td>82.0</td>\n",
       "      <td>19780.000000</td>\n",
       "      <td>3106.500000</td>\n",
       "      <td>6861.500000</td>\n",
       "      <td>0.447000</td>\n",
       "      <td>677.500000</td>\n",
       "      <td>1944.000000</td>\n",
       "      <td>0.345000</td>\n",
       "      <td>2316.500000</td>\n",
       "      <td>4578.500000</td>\n",
       "      <td>...</td>\n",
       "      <td>9.500000</td>\n",
       "      <td>32.400000</td>\n",
       "      <td>42.650000</td>\n",
       "      <td>21.400000</td>\n",
       "      <td>7.100000</td>\n",
       "      <td>4.300000</td>\n",
       "      <td>13.400000</td>\n",
       "      <td>19.200000</td>\n",
       "      <td>102.050000</td>\n",
       "      <td>0.000000</td>\n",
       "    </tr>\n",
       "    <tr>\n",
       "      <th>50%</th>\n",
       "      <td>82.0</td>\n",
       "      <td>19813.000000</td>\n",
       "      <td>3185.000000</td>\n",
       "      <td>7038.000000</td>\n",
       "      <td>0.454000</td>\n",
       "      <td>791.000000</td>\n",
       "      <td>2190.000000</td>\n",
       "      <td>0.354000</td>\n",
       "      <td>2437.000000</td>\n",
       "      <td>4824.000000</td>\n",
       "      <td>...</td>\n",
       "      <td>10.300000</td>\n",
       "      <td>33.600000</td>\n",
       "      <td>43.800000</td>\n",
       "      <td>22.700000</td>\n",
       "      <td>7.700000</td>\n",
       "      <td>4.800000</td>\n",
       "      <td>14.000000</td>\n",
       "      <td>20.300000</td>\n",
       "      <td>104.300000</td>\n",
       "      <td>1.000000</td>\n",
       "    </tr>\n",
       "    <tr>\n",
       "      <th>75%</th>\n",
       "      <td>82.0</td>\n",
       "      <td>19855.000000</td>\n",
       "      <td>3299.000000</td>\n",
       "      <td>7166.500000</td>\n",
       "      <td>0.466500</td>\n",
       "      <td>886.500000</td>\n",
       "      <td>2473.500000</td>\n",
       "      <td>0.366000</td>\n",
       "      <td>2532.000000</td>\n",
       "      <td>5096.000000</td>\n",
       "      <td>...</td>\n",
       "      <td>11.000000</td>\n",
       "      <td>34.500000</td>\n",
       "      <td>44.900000</td>\n",
       "      <td>24.200000</td>\n",
       "      <td>8.250000</td>\n",
       "      <td>5.300000</td>\n",
       "      <td>14.900000</td>\n",
       "      <td>21.200000</td>\n",
       "      <td>108.800000</td>\n",
       "      <td>1.000000</td>\n",
       "    </tr>\n",
       "    <tr>\n",
       "      <th>max</th>\n",
       "      <td>82.0</td>\n",
       "      <td>20005.000000</td>\n",
       "      <td>3612.000000</td>\n",
       "      <td>7706.000000</td>\n",
       "      <td>0.503000</td>\n",
       "      <td>1323.000000</td>\n",
       "      <td>3721.000000</td>\n",
       "      <td>0.416000</td>\n",
       "      <td>2739.000000</td>\n",
       "      <td>5597.000000</td>\n",
       "      <td>...</td>\n",
       "      <td>13.100000</td>\n",
       "      <td>40.400000</td>\n",
       "      <td>49.700000</td>\n",
       "      <td>30.400000</td>\n",
       "      <td>10.000000</td>\n",
       "      <td>7.500000</td>\n",
       "      <td>17.700000</td>\n",
       "      <td>24.800000</td>\n",
       "      <td>118.100000</td>\n",
       "      <td>1.000000</td>\n",
       "    </tr>\n",
       "  </tbody>\n",
       "</table>\n",
       "<p>8 rows × 46 columns</p>\n",
       "</div>"
      ],
      "text/plain": [
       "           G      MP-Total    FGM-Total    FGA-Total   FG%-Total    3PM-Total  \\\n",
       "count  155.0    155.000000   155.000000   155.000000  155.000000   155.000000   \n",
       "mean    82.0  19818.329032  3206.070968  7032.670968    0.455826   785.083871   \n",
       "std      0.0     65.687188   157.415082   228.977572    0.014971   165.208878   \n",
       "min     82.0  19705.000000  2765.000000  6330.000000    0.408000   406.000000   \n",
       "25%     82.0  19780.000000  3106.500000  6861.500000    0.447000   677.500000   \n",
       "50%     82.0  19813.000000  3185.000000  7038.000000    0.454000   791.000000   \n",
       "75%     82.0  19855.000000  3299.000000  7166.500000    0.466500   886.500000   \n",
       "max     82.0  20005.000000  3612.000000  7706.000000    0.503000  1323.000000   \n",
       "\n",
       "         3PA-Total   3P%-Total    2PM-Total    2PA-Total  ...      ORB-PG  \\\n",
       "count   155.000000  155.000000   155.000000   155.000000  ...  155.000000   \n",
       "mean   2205.883871    0.355271  2420.980645  4826.793548  ...   10.299355   \n",
       "std     436.644406    0.016446   161.779290   371.208411  ...    1.090246   \n",
       "min    1223.000000    0.317000  1895.000000  3436.000000  ...    7.900000   \n",
       "25%    1944.000000    0.345000  2316.500000  4578.500000  ...    9.500000   \n",
       "50%    2190.000000    0.354000  2437.000000  4824.000000  ...   10.300000   \n",
       "75%    2473.500000    0.366000  2532.000000  5096.000000  ...   11.000000   \n",
       "max    3721.000000    0.416000  2739.000000  5597.000000  ...   13.100000   \n",
       "\n",
       "           DRB-PG      TRB-PG      AST-PG      STL-PG      BLK-PG      TOV-PG  \\\n",
       "count  155.000000  155.000000  155.000000  155.000000  155.000000  155.000000   \n",
       "mean    33.550968   43.852903   22.950968    7.722581    4.847097   14.210968   \n",
       "std      1.606697    1.889970    2.207583    0.823088    0.742697    1.142711   \n",
       "min     29.300000   38.600000   18.000000    5.700000    2.400000   11.500000   \n",
       "25%     32.400000   42.650000   21.400000    7.100000    4.300000   13.400000   \n",
       "50%     33.600000   43.800000   22.700000    7.700000    4.800000   14.000000   \n",
       "75%     34.500000   44.900000   24.200000    8.250000    5.300000   14.900000   \n",
       "max     40.400000   49.700000   30.400000   10.000000    7.500000   17.700000   \n",
       "\n",
       "            PF-PG      PTS-PG  made_playoffs  \n",
       "count  155.000000  155.000000     155.000000  \n",
       "mean    20.226452  105.161935       0.516129  \n",
       "std      1.434504    5.429409       0.501360  \n",
       "min     16.600000   91.900000       0.000000  \n",
       "25%     19.200000  102.050000       0.000000  \n",
       "50%     20.300000  104.300000       1.000000  \n",
       "75%     21.200000  108.800000       1.000000  \n",
       "max     24.800000  118.100000       1.000000  \n",
       "\n",
       "[8 rows x 46 columns]"
      ]
     },
     "execution_count": 19,
     "metadata": {},
     "output_type": "execute_result"
    }
   ],
   "source": [
    "df.describe()"
   ]
  },
  {
   "cell_type": "code",
   "execution_count": 9,
   "metadata": {
    "ExecuteTime": {
     "end_time": "2021-01-21T07:24:09.206371Z",
     "start_time": "2021-01-21T07:24:08.961771Z"
    }
   },
   "outputs": [
    {
     "data": {
      "image/png": "[encoded data removed]",
      "text/plain": [
       "<Figure size 864x432 with 1 Axes>"
      ]
     },
     "metadata": {
      "needs_background": "light"
     },
     "output_type": "display_data"
    }
   ],
   "source": [
    "plt.figure(figsize=(12,6))\n",
    "\n",
    "_ = plt.hist(df['3P%-Total'], bins=7)\n",
    "_ = plt.xticks(rotation=90)\n",
    "plt.show()"
   ]
  },
  {
   "cell_type": "code",
   "execution_count": 10,
   "metadata": {
    "ExecuteTime": {
     "end_time": "2021-01-21T07:24:09.259232Z",
     "start_time": "2021-01-21T07:24:09.209365Z"
    }
   },
   "outputs": [
    {
     "data": {
      "text/plain": [
       "Team             0.0\n",
       "G                0.0\n",
       "MP-Total         0.0\n",
       "FGM-Total        0.0\n",
       "FGA-Total        0.0\n",
       "FG%-Total        0.0\n",
       "3PM-Total        0.0\n",
       "3PA-Total        0.0\n",
       "3P%-Total        0.0\n",
       "2PM-Total        0.0\n",
       "2PA-Total        0.0\n",
       "2P%-Total        0.0\n",
       "FTM-Total        0.0\n",
       "FTA-Total        0.0\n",
       "FT%-Total        0.0\n",
       "ORB-Total        0.0\n",
       "DRB-Total        0.0\n",
       "TRB-Total        0.0\n",
       "AST-Total        0.0\n",
       "STL-Total        0.0\n",
       "BLK-Total        0.0\n",
       "TOV-Total        0.0\n",
       "PF-Total         0.0\n",
       "PTS-Total        0.0\n",
       "MP-PG            0.0\n",
       "FGM-PG           0.0\n",
       "FGA-PG           0.0\n",
       "FG%-PG           0.0\n",
       "3PM-PG           0.0\n",
       "3PA-PG           0.0\n",
       "3P%-PG           0.0\n",
       "2PM-PG           0.0\n",
       "2PA-PG           0.0\n",
       "2P%-PG           0.0\n",
       "FTM-PG           0.0\n",
       "FTA-PG           0.0\n",
       "FT%-PG           0.0\n",
       "ORB-PG           0.0\n",
       "DRB-PG           0.0\n",
       "TRB-PG           0.0\n",
       "AST-PG           0.0\n",
       "STL-PG           0.0\n",
       "BLK-PG           0.0\n",
       "TOV-PG           0.0\n",
       "PF-PG            0.0\n",
       "PTS-PG           0.0\n",
       "season           0.0\n",
       "made_playoffs    0.0\n",
       "dtype: float64"
      ]
     },
     "execution_count": 10,
     "metadata": {},
     "output_type": "execute_result"
    }
   ],
   "source": [
    "df.isnull().sum()/df.shape[0]"
   ]
  },
  {
   "cell_type": "code",
   "execution_count": 11,
   "metadata": {
    "ExecuteTime": {
     "end_time": "2021-01-21T07:24:09.273195Z",
     "start_time": "2021-01-21T07:24:09.263220Z"
    }
   },
   "outputs": [
    {
     "data": {
      "text/plain": [
       "['Team',\n",
       " 'G',\n",
       " 'MP',\n",
       " 'FGM',\n",
       " 'FGA',\n",
       " 'FG%',\n",
       " '3PM',\n",
       " '3PA',\n",
       " '3P%',\n",
       " '2PM',\n",
       " '2PA',\n",
       " '2P%',\n",
       " 'FTM',\n",
       " 'FTA',\n",
       " 'FT%',\n",
       " 'ORB',\n",
       " 'DRB',\n",
       " 'TRB',\n",
       " 'AST',\n",
       " 'STL',\n",
       " 'BLK',\n",
       " 'TOV',\n",
       " 'PF',\n",
       " 'PTS',\n",
       " 'season',\n",
       " 'made_playoffs']"
      ]
     },
     "execution_count": 11,
     "metadata": {},
     "output_type": "execute_result"
    }
   ],
   "source": [
    "stat_cols = list(dict.fromkeys([i.split('-')[0] for i in df.columns]))\n",
    "stat_cols"
   ]
  },
  {
   "cell_type": "code",
   "execution_count": 13,
   "metadata": {
    "ExecuteTime": {
     "end_time": "2021-01-21T07:24:11.561197Z",
     "start_time": "2021-01-21T07:24:11.555213Z"
    }
   },
   "outputs": [],
   "source": [
    "atlantic = ['Boston Celtics', 'Philadelphia 76ers', 'Brooklyn Nets', \n",
    "            'New York Knicks', 'Toronto Raptors']\n",
    "central = ['Milwaukee Bucks', 'Indiana Pacers', 'Cleveland Cavaliers', \n",
    "          'Chicago Bulls', 'Detroit Pistons']\n",
    "southeast = ['Atlanta Hawks', 'Orlando Magic', 'Charlotte Hornets', \n",
    "             'Miami Heat', 'Washington Wizards']\n",
    "northwest = ['Utah Jazz', 'Portland Trail Blazers', 'Denver Nuggets', \n",
    "             'Oklahoma City Thunder', 'Minnesota Timberwolves']\n",
    "pacific = ['Los Angeles Lakers', 'Los Angeles Clippers', 'Phoenix Suns', \n",
    "           'Golden State Warriors', 'Sacramento Kings']\n",
    "southwest = ['San Antonio Spurs', 'Memphis Grizzlies','Dallas Mavericks', \n",
    "             'New Orleans Pelicans', 'Houston Rockets']"
   ]
  },
  {
   "cell_type": "code",
   "execution_count": 14,
   "metadata": {
    "ExecuteTime": {
     "end_time": "2021-01-21T07:24:11.591116Z",
     "start_time": "2021-01-21T07:24:11.574163Z"
    }
   },
   "outputs": [],
   "source": [
    "df.loc[df.Team.isin(atlantic), 'division'] = 'atlantic'\n",
    "df.loc[df.Team.isin(central), 'division'] = 'central'\n",
    "df.loc[df.Team.isin(southeast), 'division'] = 'southeast'\n",
    "df.loc[df.Team.isin(northwest), 'division'] = 'northwest'\n",
    "df.loc[df.Team.isin(pacific), 'division'] = 'pacific'\n",
    "df.loc[df.Team.isin(southwest), 'division'] = 'southwest'"
   ]
  },
  {
   "cell_type": "code",
   "execution_count": 15,
   "metadata": {
    "ExecuteTime": {
     "end_time": "2021-01-21T07:24:11.612066Z",
     "start_time": "2021-01-21T07:24:11.594108Z"
    }
   },
   "outputs": [],
   "source": [
    "df.loc[df.Team.isin(atlantic), 'conference'] = 'east'\n",
    "df.loc[df.Team.isin(central), 'conference'] = 'east'\n",
    "df.loc[df.Team.isin(southeast), 'conference'] = 'east'\n",
    "df.loc[df.Team.isin(northwest), 'conference'] = 'west'\n",
    "df.loc[df.Team.isin(pacific), 'conference'] = 'west'\n",
    "df.loc[df.Team.isin(southwest), 'conference'] = 'west'"
   ]
  },
  {
   "cell_type": "code",
   "execution_count": 16,
   "metadata": {
    "ExecuteTime": {
     "end_time": "2021-01-21T07:24:11.626023Z",
     "start_time": "2021-01-21T07:24:11.616050Z"
    }
   },
   "outputs": [
    {
     "data": {
      "text/plain": [
       "west    75\n",
       "east    75\n",
       "Name: conference, dtype: int64"
      ]
     },
     "execution_count": 16,
     "metadata": {},
     "output_type": "execute_result"
    }
   ],
   "source": [
    "df.conference.value_counts()"
   ]
  },
  {
   "cell_type": "code",
   "execution_count": 17,
   "metadata": {
    "ExecuteTime": {
     "end_time": "2021-01-21T07:24:11.642978Z",
     "start_time": "2021-01-21T07:24:11.631012Z"
    }
   },
   "outputs": [
    {
     "data": {
      "text/plain": [
       "northwest    25\n",
       "atlantic     25\n",
       "southwest    25\n",
       "southeast    25\n",
       "pacific      25\n",
       "central      25\n",
       "Name: division, dtype: int64"
      ]
     },
     "execution_count": 17,
     "metadata": {},
     "output_type": "execute_result"
    }
   ],
   "source": [
    "df['division'].value_counts()"
   ]
  },
  {
   "cell_type": "code",
   "execution_count": 18,
   "metadata": {
    "ExecuteTime": {
     "end_time": "2021-01-21T07:25:44.108214Z",
     "start_time": "2021-01-21T07:25:44.015465Z"
    }
   },
   "outputs": [
    {
     "data": {
      "application/vnd.plotly.v1+json": {
       "config": {
        "plotlyServerURL": "https://plot.ly"
       },
       "data": [
        {
         "alignmentgroup": "True",
         "bingroup": "x",
         "histfunc": "sum",
         "hovertemplate": "division=%{x}<br>sum of made_playoffs=%{y}<extra></extra>",
         "legendgroup": "",
         "marker": {
          "color": "#636efa"
         },
         "name": "",
         "offsetgroup": "",
         "orientation": "v",
         "showlegend": false,
         "type": "histogram",
         "x": [
          "pacific",
          "pacific",
          "southwest",
          "atlantic",
          "northwest",
          "southwest",
          "southwest",
          "central",
          "northwest",
          "southeast",
          "pacific",
          "northwest",
          "atlantic",
          "pacific",
          "central",
          "southwest",
          "southeast",
          "central",
          "pacific",
          "southwest",
          "atlantic",
          "central",
          "northwest",
          "central",
          "southeast",
          "northwest",
          "southeast",
          "southeast",
          "atlantic",
          "atlantic",
          null,
          "pacific",
          "northwest",
          "pacific",
          "southwest",
          "atlantic",
          "northwest",
          "pacific",
          "central",
          "southeast",
          "southwest",
          "southeast",
          "southeast",
          "southwest",
          "atlantic",
          "northwest",
          "southwest",
          "central",
          "southeast",
          "central",
          "northwest",
          "central",
          "pacific",
          "southeast",
          "southwest",
          "central",
          "atlantic",
          "atlantic",
          "northwest",
          "atlantic",
          "pacific",
          null,
          "pacific",
          "southwest",
          "northwest",
          "central",
          "southeast",
          "pacific",
          "atlantic",
          "northwest",
          "pacific",
          "atlantic",
          "northwest",
          "atlantic",
          "northwest",
          "southwest",
          "central",
          "southeast",
          "pacific",
          "southwest",
          "atlantic",
          "central",
          "southeast",
          "southeast",
          "central",
          "pacific",
          "atlantic",
          "central",
          "southeast",
          "northwest",
          "southwest",
          "southwest",
          null,
          "pacific",
          "southwest",
          "southwest",
          "atlantic",
          "central",
          "northwest",
          "atlantic",
          "northwest",
          "pacific",
          "southeast",
          "pacific",
          "northwest",
          "southeast",
          "atlantic",
          "central",
          "northwest",
          "central",
          "atlantic",
          "northwest",
          "atlantic",
          "pacific",
          "central",
          "southeast",
          "southeast",
          "southeast",
          "central",
          "southwest",
          "southwest",
          "southwest",
          "pacific",
          null,
          "central",
          "pacific",
          "southwest",
          "atlantic",
          "pacific",
          "northwest",
          "northwest",
          "atlantic",
          "pacific",
          "southeast",
          "southwest",
          "southeast",
          "northwest",
          "atlantic",
          "atlantic",
          "pacific",
          "northwest",
          "southwest",
          "southeast",
          "northwest",
          "southwest",
          "central",
          "pacific",
          "southeast",
          "central",
          "southeast",
          "central",
          "atlantic",
          "central",
          "southwest",
          null
         ],
         "xaxis": "x",
         "y": [
          1,
          1,
          1,
          1,
          0,
          1,
          1,
          1,
          1,
          1,
          0,
          0,
          1,
          0,
          1,
          1,
          1,
          0,
          0,
          1,
          1,
          1,
          0,
          0,
          0,
          0,
          0,
          0,
          0,
          0,
          0,
          1,
          1,
          0,
          1,
          1,
          1,
          1,
          1,
          0,
          1,
          1,
          1,
          0,
          1,
          0,
          1,
          1,
          0,
          1,
          0,
          0,
          0,
          1,
          1,
          0,
          0,
          0,
          0,
          0,
          0,
          0,
          1,
          1,
          0,
          1,
          1,
          1,
          1,
          1,
          0,
          1,
          1,
          0,
          0,
          1,
          1,
          0,
          0,
          0,
          0,
          1,
          0,
          1,
          1,
          0,
          0,
          0,
          0,
          1,
          1,
          0,
          0,
          1,
          1,
          1,
          1,
          1,
          0,
          1,
          1,
          0,
          0,
          0,
          1,
          1,
          0,
          1,
          1,
          1,
          0,
          1,
          1,
          0,
          0,
          1,
          0,
          0,
          0,
          1,
          0,
          0,
          0,
          0,
          1,
          1,
          0,
          1,
          1,
          1,
          1,
          1,
          0,
          0,
          1,
          0,
          0,
          1,
          1,
          0,
          1,
          1,
          0,
          1,
          0,
          1,
          0,
          1,
          1,
          0,
          0,
          0,
          0,
          0,
          0
         ],
         "yaxis": "y"
        }
       ],
       "layout": {
        "barmode": "relative",
        "legend": {
         "tracegroupgap": 0
        },
        "margin": {
         "t": 60
        },
        "template": {
         "data": {
          "bar": [
           {
            "error_x": {
             "color": "#2a3f5f"
            },
            "error_y": {
             "color": "#2a3f5f"
            },
            "marker": {
             "line": {
              "color": "#E5ECF6",
              "width": 0.5
             }
            },
            "type": "bar"
           }
          ],
          "barpolar": [
           {
            "marker": {
             "line": {
              "color": "#E5ECF6",
              "width": 0.5
             }
            },
            "type": "barpolar"
           }
          ],
          "carpet": [
           {
            "aaxis": {
             "endlinecolor": "#2a3f5f",
             "gridcolor": "white",
             "linecolor": "white",
             "minorgridcolor": "white",
             "startlinecolor": "#2a3f5f"
            },
            "baxis": {
             "endlinecolor": "#2a3f5f",
             "gridcolor": "white",
             "linecolor": "white",
             "minorgridcolor": "white",
             "startlinecolor": "#2a3f5f"
            },
            "type": "carpet"
           }
          ],
          "choropleth": [
           {
            "colorbar": {
             "outlinewidth": 0,
             "ticks": ""
            },
            "type": "choropleth"
           }
          ],
          "contour": [
           {
            "colorbar": {
             "outlinewidth": 0,
             "ticks": ""
            },
            "colorscale": [
             [
              0,
              "#0d0887"
             ],
             [
              0.1111111111111111,
              "#46039f"
             ],
             [
              0.2222222222222222,
              "#7201a8"
             ],
             [
              0.3333333333333333,
              "#9c179e"
             ],
             [
              0.4444444444444444,
              "#bd3786"
             ],
             [
              0.5555555555555556,
              "#d8576b"
             ],
             [
              0.6666666666666666,
              "#ed7953"
             ],
             [
              0.7777777777777778,
              "#fb9f3a"
             ],
             [
              0.8888888888888888,
              "#fdca26"
             ],
             [
              1,
              "#f0f921"
             ]
            ],
            "type": "contour"
           }
          ],
          "contourcarpet": [
           {
            "colorbar": {
             "outlinewidth": 0,
             "ticks": ""
            },
            "type": "contourcarpet"
           }
          ],
          "heatmap": [
           {
            "colorbar": {
             "outlinewidth": 0,
             "ticks": ""
            },
            "colorscale": [
             [
              0,
              "#0d0887"
             ],
             [
              0.1111111111111111,
              "#46039f"
             ],
             [
              0.2222222222222222,
              "#7201a8"
             ],
             [
              0.3333333333333333,
              "#9c179e"
             ],
             [
              0.4444444444444444,
              "#bd3786"
             ],
             [
              0.5555555555555556,
              "#d8576b"
             ],
             [
              0.6666666666666666,
              "#ed7953"
             ],
             [
              0.7777777777777778,
              "#fb9f3a"
             ],
             [
              0.8888888888888888,
              "#fdca26"
             ],
             [
              1,
              "#f0f921"
             ]
            ],
            "type": "heatmap"
           }
          ],
          "heatmapgl": [
           {
            "colorbar": {
             "outlinewidth": 0,
             "ticks": ""
            },
            "colorscale": [
             [
              0,
              "#0d0887"
             ],
             [
              0.1111111111111111,
              "#46039f"
             ],
             [
              0.2222222222222222,
              "#7201a8"
             ],
             [
              0.3333333333333333,
              "#9c179e"
             ],
             [
              0.4444444444444444,
              "#bd3786"
             ],
             [
              0.5555555555555556,
              "#d8576b"
             ],
             [
              0.6666666666666666,
              "#ed7953"
             ],
             [
              0.7777777777777778,
              "#fb9f3a"
             ],
             [
              0.8888888888888888,
              "#fdca26"
             ],
             [
              1,
              "#f0f921"
             ]
            ],
            "type": "heatmapgl"
           }
          ],
          "histogram": [
           {
            "marker": {
             "colorbar": {
              "outlinewidth": 0,
              "ticks": ""
             }
            },
            "type": "histogram"
           }
          ],
          "histogram2d": [
           {
            "colorbar": {
             "outlinewidth": 0,
             "ticks": ""
            },
            "colorscale": [
             [
              0,
              "#0d0887"
             ],
             [
              0.1111111111111111,
              "#46039f"
             ],
             [
              0.2222222222222222,
              "#7201a8"
             ],
             [
              0.3333333333333333,
              "#9c179e"
             ],
             [
              0.4444444444444444,
              "#bd3786"
             ],
             [
              0.5555555555555556,
              "#d8576b"
             ],
             [
              0.6666666666666666,
              "#ed7953"
             ],
             [
              0.7777777777777778,
              "#fb9f3a"
             ],
             [
              0.8888888888888888,
              "#fdca26"
             ],
             [
              1,
              "#f0f921"
             ]
            ],
            "type": "histogram2d"
           }
          ],
          "histogram2dcontour": [
           {
            "colorbar": {
             "outlinewidth": 0,
             "ticks": ""
            },
            "colorscale": [
             [
              0,
              "#0d0887"
             ],
             [
              0.1111111111111111,
              "#46039f"
             ],
             [
              0.2222222222222222,
              "#7201a8"
             ],
             [
              0.3333333333333333,
              "#9c179e"
             ],
             [
              0.4444444444444444,
              "#bd3786"
             ],
             [
              0.5555555555555556,
              "#d8576b"
             ],
             [
              0.6666666666666666,
              "#ed7953"
             ],
             [
              0.7777777777777778,
              "#fb9f3a"
             ],
             [
              0.8888888888888888,
              "#fdca26"
             ],
             [
              1,
              "#f0f921"
             ]
            ],
            "type": "histogram2dcontour"
           }
          ],
          "mesh3d": [
           {
            "colorbar": {
             "outlinewidth": 0,
             "ticks": ""
            },
            "type": "mesh3d"
           }
          ],
          "parcoords": [
           {
            "line": {
             "colorbar": {
              "outlinewidth": 0,
              "ticks": ""
             }
            },
            "type": "parcoords"
           }
          ],
          "pie": [
           {
            "automargin": true,
            "type": "pie"
           }
          ],
          "scatter": [
           {
            "marker": {
             "colorbar": {
              "outlinewidth": 0,
              "ticks": ""
             }
            },
            "type": "scatter"
           }
          ],
          "scatter3d": [
           {
            "line": {
             "colorbar": {
              "outlinewidth": 0,
              "ticks": ""
             }
            },
            "marker": {
             "colorbar": {
              "outlinewidth": 0,
              "ticks": ""
             }
            },
            "type": "scatter3d"
           }
          ],
          "scattercarpet": [
           {
            "marker": {
             "colorbar": {
              "outlinewidth": 0,
              "ticks": ""
             }
            },
            "type": "scattercarpet"
           }
          ],
          "scattergeo": [
           {
            "marker": {
             "colorbar": {
              "outlinewidth": 0,
              "ticks": ""
             }
            },
            "type": "scattergeo"
           }
          ],
          "scattergl": [
           {
            "marker": {
             "colorbar": {
              "outlinewidth": 0,
              "ticks": ""
             }
            },
            "type": "scattergl"
           }
          ],
          "scattermapbox": [
           {
            "marker": {
             "colorbar": {
              "outlinewidth": 0,
              "ticks": ""
             }
            },
            "type": "scattermapbox"
           }
          ],
          "scatterpolar": [
           {
            "marker": {
             "colorbar": {
              "outlinewidth": 0,
              "ticks": ""
             }
            },
            "type": "scatterpolar"
           }
          ],
          "scatterpolargl": [
           {
            "marker": {
             "colorbar": {
              "outlinewidth": 0,
              "ticks": ""
             }
            },
            "type": "scatterpolargl"
           }
          ],
          "scatterternary": [
           {
            "marker": {
             "colorbar": {
              "outlinewidth": 0,
              "ticks": ""
             }
            },
            "type": "scatterternary"
           }
          ],
          "surface": [
           {
            "colorbar": {
             "outlinewidth": 0,
             "ticks": ""
            },
            "colorscale": [
             [
              0,
              "#0d0887"
             ],
             [
              0.1111111111111111,
              "#46039f"
             ],
             [
              0.2222222222222222,
              "#7201a8"
             ],
             [
              0.3333333333333333,
              "#9c179e"
             ],
             [
              0.4444444444444444,
              "#bd3786"
             ],
             [
              0.5555555555555556,
              "#d8576b"
             ],
             [
              0.6666666666666666,
              "#ed7953"
             ],
             [
              0.7777777777777778,
              "#fb9f3a"
             ],
             [
              0.8888888888888888,
              "#fdca26"
             ],
             [
              1,
              "#f0f921"
             ]
            ],
            "type": "surface"
           }
          ],
          "table": [
           {
            "cells": {
             "fill": {
              "color": "#EBF0F8"
             },
             "line": {
              "color": "white"
             }
            },
            "header": {
             "fill": {
              "color": "#C8D4E3"
             },
             "line": {
              "color": "white"
             }
            },
            "type": "table"
           }
          ]
         },
         "layout": {
          "annotationdefaults": {
           "arrowcolor": "#2a3f5f",
           "arrowhead": 0,
           "arrowwidth": 1
          },
          "autotypenumbers": "strict",
          "coloraxis": {
           "colorbar": {
            "outlinewidth": 0,
            "ticks": ""
           }
          },
          "colorscale": {
           "diverging": [
            [
             0,
             "#8e0152"
            ],
            [
             0.1,
             "#c51b7d"
            ],
            [
             0.2,
             "#de77ae"
            ],
            [
             0.3,
             "#f1b6da"
            ],
            [
             0.4,
             "#fde0ef"
            ],
            [
             0.5,
             "#f7f7f7"
            ],
            [
             0.6,
             "#e6f5d0"
            ],
            [
             0.7,
             "#b8e186"
            ],
            [
             0.8,
             "#7fbc41"
            ],
            [
             0.9,
             "#4d9221"
            ],
            [
             1,
             "#276419"
            ]
           ],
           "sequential": [
            [
             0,
             "#0d0887"
            ],
            [
             0.1111111111111111,
             "#46039f"
            ],
            [
             0.2222222222222222,
             "#7201a8"
            ],
            [
             0.3333333333333333,
             "#9c179e"
            ],
            [
             0.4444444444444444,
             "#bd3786"
            ],
            [
             0.5555555555555556,
             "#d8576b"
            ],
            [
             0.6666666666666666,
             "#ed7953"
            ],
            [
             0.7777777777777778,
             "#fb9f3a"
            ],
            [
             0.8888888888888888,
             "#fdca26"
            ],
            [
             1,
             "#f0f921"
            ]
           ],
           "sequentialminus": [
            [
             0,
             "#0d0887"
            ],
            [
             0.1111111111111111,
             "#46039f"
            ],
            [
             0.2222222222222222,
             "#7201a8"
            ],
            [
             0.3333333333333333,
             "#9c179e"
            ],
            [
             0.4444444444444444,
             "#bd3786"
            ],
            [
             0.5555555555555556,
             "#d8576b"
            ],
            [
             0.6666666666666666,
             "#ed7953"
            ],
            [
             0.7777777777777778,
             "#fb9f3a"
            ],
            [
             0.8888888888888888,
             "#fdca26"
            ],
            [
             1,
             "#f0f921"
            ]
           ]
          },
          "colorway": [
           "#636efa",
           "#EF553B",
           "#00cc96",
           "#ab63fa",
           "#FFA15A",
           "#19d3f3",
           "#FF6692",
           "#B6E880",
           "#FF97FF",
           "#FECB52"
          ],
          "font": {
           "color": "#2a3f5f"
          },
          "geo": {
           "bgcolor": "white",
           "lakecolor": "white",
           "landcolor": "#E5ECF6",
           "showlakes": true,
           "showland": true,
           "subunitcolor": "white"
          },
          "hoverlabel": {
           "align": "left"
          },
          "hovermode": "closest",
          "mapbox": {
           "style": "light"
          },
          "paper_bgcolor": "white",
          "plot_bgcolor": "#E5ECF6",
          "polar": {
           "angularaxis": {
            "gridcolor": "white",
            "linecolor": "white",
            "ticks": ""
           },
           "bgcolor": "#E5ECF6",
           "radialaxis": {
            "gridcolor": "white",
            "linecolor": "white",
            "ticks": ""
           }
          },
          "scene": {
           "xaxis": {
            "backgroundcolor": "#E5ECF6",
            "gridcolor": "white",
            "gridwidth": 2,
            "linecolor": "white",
            "showbackground": true,
            "ticks": "",
            "zerolinecolor": "white"
           },
           "yaxis": {
            "backgroundcolor": "#E5ECF6",
            "gridcolor": "white",
            "gridwidth": 2,
            "linecolor": "white",
            "showbackground": true,
            "ticks": "",
            "zerolinecolor": "white"
           },
           "zaxis": {
            "backgroundcolor": "#E5ECF6",
            "gridcolor": "white",
            "gridwidth": 2,
            "linecolor": "white",
            "showbackground": true,
            "ticks": "",
            "zerolinecolor": "white"
           }
          },
          "shapedefaults": {
           "line": {
            "color": "#2a3f5f"
           }
          },
          "ternary": {
           "aaxis": {
            "gridcolor": "white",
            "linecolor": "white",
            "ticks": ""
           },
           "baxis": {
            "gridcolor": "white",
            "linecolor": "white",
            "ticks": ""
           },
           "bgcolor": "#E5ECF6",
           "caxis": {
            "gridcolor": "white",
            "linecolor": "white",
            "ticks": ""
           }
          },
          "title": {
           "x": 0.05
          },
          "xaxis": {
           "automargin": true,
           "gridcolor": "white",
           "linecolor": "white",
           "ticks": "",
           "title": {
            "standoff": 15
           },
           "zerolinecolor": "white",
           "zerolinewidth": 2
          },
          "yaxis": {
           "automargin": true,
           "gridcolor": "white",
           "linecolor": "white",
           "ticks": "",
           "title": {
            "standoff": 15
           },
           "zerolinecolor": "white",
           "zerolinewidth": 2
          }
         }
        },
        "xaxis": {
         "anchor": "y",
         "domain": [
          0,
          1
         ],
         "title": {
          "text": "division"
         }
        },
        "yaxis": {
         "anchor": "x",
         "domain": [
          0,
          1
         ],
         "title": {
          "text": "sum of made_playoffs"
         }
        }
       }
      },
      "text/html": [
       "<div>                            <div id=\"fcc1ee77-8d7a-4d14-ac7a-f3b9dc5741de\" class=\"plotly-graph-div\" style=\"height:525px; width:100%;\"></div>            <script type=\"text/javascript\">                require([\"plotly\"], function(Plotly) {                    window.PLOTLYENV=window.PLOTLYENV || {};                                    if (document.getElementById(\"fcc1ee77-8d7a-4d14-ac7a-f3b9dc5741de\")) {                    Plotly.newPlot(                        \"fcc1ee77-8d7a-4d14-ac7a-f3b9dc5741de\",                        [{\"alignmentgroup\": \"True\", \"bingroup\": \"x\", \"histfunc\": \"sum\", \"hovertemplate\": \"division=%{x}<br>sum of made_playoffs=%{y}<extra></extra>\", \"legendgroup\": \"\", \"marker\": {\"color\": \"#636efa\"}, \"name\": \"\", \"offsetgroup\": \"\", \"orientation\": \"v\", \"showlegend\": false, \"type\": \"histogram\", \"x\": [\"pacific\", \"pacific\", \"southwest\", \"atlantic\", \"northwest\", \"southwest\", \"southwest\", \"central\", \"northwest\", \"southeast\", \"pacific\", \"northwest\", \"atlantic\", \"pacific\", \"central\", \"southwest\", \"southeast\", \"central\", \"pacific\", \"southwest\", \"atlantic\", \"central\", \"northwest\", \"central\", \"southeast\", \"northwest\", \"southeast\", \"southeast\", \"atlantic\", \"atlantic\", null, \"pacific\", \"northwest\", \"pacific\", \"southwest\", \"atlantic\", \"northwest\", \"pacific\", \"central\", \"southeast\", \"southwest\", \"southeast\", \"southeast\", \"southwest\", \"atlantic\", \"northwest\", \"southwest\", \"central\", \"southeast\", \"central\", \"northwest\", \"central\", \"pacific\", \"southeast\", \"southwest\", \"central\", \"atlantic\", \"atlantic\", \"northwest\", \"atlantic\", \"pacific\", null, \"pacific\", \"southwest\", \"northwest\", \"central\", \"southeast\", \"pacific\", \"atlantic\", \"northwest\", \"pacific\", \"atlantic\", \"northwest\", \"atlantic\", \"northwest\", \"southwest\", \"central\", \"southeast\", \"pacific\", \"southwest\", \"atlantic\", \"central\", \"southeast\", \"southeast\", \"central\", \"pacific\", \"atlantic\", \"central\", \"southeast\", \"northwest\", \"southwest\", \"southwest\", null, \"pacific\", \"southwest\", \"southwest\", \"atlantic\", \"central\", \"northwest\", \"atlantic\", \"northwest\", \"pacific\", \"southeast\", \"pacific\", \"northwest\", \"southeast\", \"atlantic\", \"central\", \"northwest\", \"central\", \"atlantic\", \"northwest\", \"atlantic\", \"pacific\", \"central\", \"southeast\", \"southeast\", \"southeast\", \"central\", \"southwest\", \"southwest\", \"southwest\", \"pacific\", null, \"central\", \"pacific\", \"southwest\", \"atlantic\", \"pacific\", \"northwest\", \"northwest\", \"atlantic\", \"pacific\", \"southeast\", \"southwest\", \"southeast\", \"northwest\", \"atlantic\", \"atlantic\", \"pacific\", \"northwest\", \"southwest\", \"southeast\", \"northwest\", \"southwest\", \"central\", \"pacific\", \"southeast\", \"central\", \"southeast\", \"central\", \"atlantic\", \"central\", \"southwest\", null], \"xaxis\": \"x\", \"y\": [1, 1, 1, 1, 0, 1, 1, 1, 1, 1, 0, 0, 1, 0, 1, 1, 1, 0, 0, 1, 1, 1, 0, 0, 0, 0, 0, 0, 0, 0, 0, 1, 1, 0, 1, 1, 1, 1, 1, 0, 1, 1, 1, 0, 1, 0, 1, 1, 0, 1, 0, 0, 0, 1, 1, 0, 0, 0, 0, 0, 0, 0, 1, 1, 0, 1, 1, 1, 1, 1, 0, 1, 1, 0, 0, 1, 1, 0, 0, 0, 0, 1, 0, 1, 1, 0, 0, 0, 0, 1, 1, 0, 0, 1, 1, 1, 1, 1, 0, 1, 1, 0, 0, 0, 1, 1, 0, 1, 1, 1, 0, 1, 1, 0, 0, 1, 0, 0, 0, 1, 0, 0, 0, 0, 1, 1, 0, 1, 1, 1, 1, 1, 0, 0, 1, 0, 0, 1, 1, 0, 1, 1, 0, 1, 0, 1, 0, 1, 1, 0, 0, 0, 0, 0, 0], \"yaxis\": \"y\"}],                        {\"barmode\": \"relative\", \"legend\": {\"tracegroupgap\": 0}, \"margin\": {\"t\": 60}, \"template\": {\"data\": {\"bar\": [{\"error_x\": {\"color\": \"#2a3f5f\"}, \"error_y\": {\"color\": \"#2a3f5f\"}, \"marker\": {\"line\": {\"color\": \"#E5ECF6\", \"width\": 0.5}}, \"type\": \"bar\"}], \"barpolar\": [{\"marker\": {\"line\": {\"color\": \"#E5ECF6\", \"width\": 0.5}}, \"type\": \"barpolar\"}], \"carpet\": [{\"aaxis\": {\"endlinecolor\": \"#2a3f5f\", \"gridcolor\": \"white\", \"linecolor\": \"white\", \"minorgridcolor\": \"white\", \"startlinecolor\": \"#2a3f5f\"}, \"baxis\": {\"endlinecolor\": \"#2a3f5f\", \"gridcolor\": \"white\", \"linecolor\": \"white\", \"minorgridcolor\": \"white\", \"startlinecolor\": \"#2a3f5f\"}, \"type\": \"carpet\"}], \"choropleth\": [{\"colorbar\": {\"outlinewidth\": 0, \"ticks\": \"\"}, \"type\": \"choropleth\"}], \"contour\": [{\"colorbar\": {\"outlinewidth\": 0, \"ticks\": \"\"}, \"colorscale\": [[0.0, \"#0d0887\"], [0.1111111111111111, \"#46039f\"], [0.2222222222222222, \"#7201a8\"], [0.3333333333333333, \"#9c179e\"], [0.4444444444444444, \"#bd3786\"], [0.5555555555555556, \"#d8576b\"], [0.6666666666666666, \"#ed7953\"], [0.7777777777777778, \"#fb9f3a\"], [0.8888888888888888, \"#fdca26\"], [1.0, \"#f0f921\"]], \"type\": \"contour\"}], \"contourcarpet\": [{\"colorbar\": {\"outlinewidth\": 0, \"ticks\": \"\"}, \"type\": \"contourcarpet\"}], \"heatmap\": [{\"colorbar\": {\"outlinewidth\": 0, \"ticks\": \"\"}, \"colorscale\": [[0.0, \"#0d0887\"], [0.1111111111111111, \"#46039f\"], [0.2222222222222222, \"#7201a8\"], [0.3333333333333333, \"#9c179e\"], [0.4444444444444444, \"#bd3786\"], [0.5555555555555556, \"#d8576b\"], [0.6666666666666666, \"#ed7953\"], [0.7777777777777778, \"#fb9f3a\"], [0.8888888888888888, \"#fdca26\"], [1.0, \"#f0f921\"]], \"type\": \"heatmap\"}], \"heatmapgl\": [{\"colorbar\": {\"outlinewidth\": 0, \"ticks\": \"\"}, \"colorscale\": [[0.0, \"#0d0887\"], [0.1111111111111111, \"#46039f\"], [0.2222222222222222, \"#7201a8\"], [0.3333333333333333, \"#9c179e\"], [0.4444444444444444, \"#bd3786\"], [0.5555555555555556, \"#d8576b\"], [0.6666666666666666, \"#ed7953\"], [0.7777777777777778, \"#fb9f3a\"], [0.8888888888888888, \"#fdca26\"], [1.0, \"#f0f921\"]], \"type\": \"heatmapgl\"}], \"histogram\": [{\"marker\": {\"colorbar\": {\"outlinewidth\": 0, \"ticks\": \"\"}}, \"type\": \"histogram\"}], \"histogram2d\": [{\"colorbar\": {\"outlinewidth\": 0, \"ticks\": \"\"}, \"colorscale\": [[0.0, \"#0d0887\"], [0.1111111111111111, \"#46039f\"], [0.2222222222222222, \"#7201a8\"], [0.3333333333333333, \"#9c179e\"], [0.4444444444444444, \"#bd3786\"], [0.5555555555555556, \"#d8576b\"], [0.6666666666666666, \"#ed7953\"], [0.7777777777777778, \"#fb9f3a\"], [0.8888888888888888, \"#fdca26\"], [1.0, \"#f0f921\"]], \"type\": \"histogram2d\"}], \"histogram2dcontour\": [{\"colorbar\": {\"outlinewidth\": 0, \"ticks\": \"\"}, \"colorscale\": [[0.0, \"#0d0887\"], [0.1111111111111111, \"#46039f\"], [0.2222222222222222, \"#7201a8\"], [0.3333333333333333, \"#9c179e\"], [0.4444444444444444, \"#bd3786\"], [0.5555555555555556, \"#d8576b\"], [0.6666666666666666, \"#ed7953\"], [0.7777777777777778, \"#fb9f3a\"], [0.8888888888888888, \"#fdca26\"], [1.0, \"#f0f921\"]], \"type\": \"histogram2dcontour\"}], \"mesh3d\": [{\"colorbar\": {\"outlinewidth\": 0, \"ticks\": \"\"}, \"type\": \"mesh3d\"}], \"parcoords\": [{\"line\": {\"colorbar\": {\"outlinewidth\": 0, \"ticks\": \"\"}}, \"type\": \"parcoords\"}], \"pie\": [{\"automargin\": true, \"type\": \"pie\"}], \"scatter\": [{\"marker\": {\"colorbar\": {\"outlinewidth\": 0, \"ticks\": \"\"}}, \"type\": \"scatter\"}], \"scatter3d\": [{\"line\": {\"colorbar\": {\"outlinewidth\": 0, \"ticks\": \"\"}}, \"marker\": {\"colorbar\": {\"outlinewidth\": 0, \"ticks\": \"\"}}, \"type\": \"scatter3d\"}], \"scattercarpet\": [{\"marker\": {\"colorbar\": {\"outlinewidth\": 0, \"ticks\": \"\"}}, \"type\": \"scattercarpet\"}], \"scattergeo\": [{\"marker\": {\"colorbar\": {\"outlinewidth\": 0, \"ticks\": \"\"}}, \"type\": \"scattergeo\"}], \"scattergl\": [{\"marker\": {\"colorbar\": {\"outlinewidth\": 0, \"ticks\": \"\"}}, \"type\": \"scattergl\"}], \"scattermapbox\": [{\"marker\": {\"colorbar\": {\"outlinewidth\": 0, \"ticks\": \"\"}}, \"type\": \"scattermapbox\"}], \"scatterpolar\": [{\"marker\": {\"colorbar\": {\"outlinewidth\": 0, \"ticks\": \"\"}}, \"type\": \"scatterpolar\"}], \"scatterpolargl\": [{\"marker\": {\"colorbar\": {\"outlinewidth\": 0, \"ticks\": \"\"}}, \"type\": \"scatterpolargl\"}], \"scatterternary\": [{\"marker\": {\"colorbar\": {\"outlinewidth\": 0, \"ticks\": \"\"}}, \"type\": \"scatterternary\"}], \"surface\": [{\"colorbar\": {\"outlinewidth\": 0, \"ticks\": \"\"}, \"colorscale\": [[0.0, \"#0d0887\"], [0.1111111111111111, \"#46039f\"], [0.2222222222222222, \"#7201a8\"], [0.3333333333333333, \"#9c179e\"], [0.4444444444444444, \"#bd3786\"], [0.5555555555555556, \"#d8576b\"], [0.6666666666666666, \"#ed7953\"], [0.7777777777777778, \"#fb9f3a\"], [0.8888888888888888, \"#fdca26\"], [1.0, \"#f0f921\"]], \"type\": \"surface\"}], \"table\": [{\"cells\": {\"fill\": {\"color\": \"#EBF0F8\"}, \"line\": {\"color\": \"white\"}}, \"header\": {\"fill\": {\"color\": \"#C8D4E3\"}, \"line\": {\"color\": \"white\"}}, \"type\": \"table\"}]}, \"layout\": {\"annotationdefaults\": {\"arrowcolor\": \"#2a3f5f\", \"arrowhead\": 0, \"arrowwidth\": 1}, \"autotypenumbers\": \"strict\", \"coloraxis\": {\"colorbar\": {\"outlinewidth\": 0, \"ticks\": \"\"}}, \"colorscale\": {\"diverging\": [[0, \"#8e0152\"], [0.1, \"#c51b7d\"], [0.2, \"#de77ae\"], [0.3, \"#f1b6da\"], [0.4, \"#fde0ef\"], [0.5, \"#f7f7f7\"], [0.6, \"#e6f5d0\"], [0.7, \"#b8e186\"], [0.8, \"#7fbc41\"], [0.9, \"#4d9221\"], [1, \"#276419\"]], \"sequential\": [[0.0, \"#0d0887\"], [0.1111111111111111, \"#46039f\"], [0.2222222222222222, \"#7201a8\"], [0.3333333333333333, \"#9c179e\"], [0.4444444444444444, \"#bd3786\"], [0.5555555555555556, \"#d8576b\"], [0.6666666666666666, \"#ed7953\"], [0.7777777777777778, \"#fb9f3a\"], [0.8888888888888888, \"#fdca26\"], [1.0, \"#f0f921\"]], \"sequentialminus\": [[0.0, \"#0d0887\"], [0.1111111111111111, \"#46039f\"], [0.2222222222222222, \"#7201a8\"], [0.3333333333333333, \"#9c179e\"], [0.4444444444444444, \"#bd3786\"], [0.5555555555555556, \"#d8576b\"], [0.6666666666666666, \"#ed7953\"], [0.7777777777777778, \"#fb9f3a\"], [0.8888888888888888, \"#fdca26\"], [1.0, \"#f0f921\"]]}, \"colorway\": [\"#636efa\", \"#EF553B\", \"#00cc96\", \"#ab63fa\", \"#FFA15A\", \"#19d3f3\", \"#FF6692\", \"#B6E880\", \"#FF97FF\", \"#FECB52\"], \"font\": {\"color\": \"#2a3f5f\"}, \"geo\": {\"bgcolor\": \"white\", \"lakecolor\": \"white\", \"landcolor\": \"#E5ECF6\", \"showlakes\": true, \"showland\": true, \"subunitcolor\": \"white\"}, \"hoverlabel\": {\"align\": \"left\"}, \"hovermode\": \"closest\", \"mapbox\": {\"style\": \"light\"}, \"paper_bgcolor\": \"white\", \"plot_bgcolor\": \"#E5ECF6\", \"polar\": {\"angularaxis\": {\"gridcolor\": \"white\", \"linecolor\": \"white\", \"ticks\": \"\"}, \"bgcolor\": \"#E5ECF6\", \"radialaxis\": {\"gridcolor\": \"white\", \"linecolor\": \"white\", \"ticks\": \"\"}}, \"scene\": {\"xaxis\": {\"backgroundcolor\": \"#E5ECF6\", \"gridcolor\": \"white\", \"gridwidth\": 2, \"linecolor\": \"white\", \"showbackground\": true, \"ticks\": \"\", \"zerolinecolor\": \"white\"}, \"yaxis\": {\"backgroundcolor\": \"#E5ECF6\", \"gridcolor\": \"white\", \"gridwidth\": 2, \"linecolor\": \"white\", \"showbackground\": true, \"ticks\": \"\", \"zerolinecolor\": \"white\"}, \"zaxis\": {\"backgroundcolor\": \"#E5ECF6\", \"gridcolor\": \"white\", \"gridwidth\": 2, \"linecolor\": \"white\", \"showbackground\": true, \"ticks\": \"\", \"zerolinecolor\": \"white\"}}, \"shapedefaults\": {\"line\": {\"color\": \"#2a3f5f\"}}, \"ternary\": {\"aaxis\": {\"gridcolor\": \"white\", \"linecolor\": \"white\", \"ticks\": \"\"}, \"baxis\": {\"gridcolor\": \"white\", \"linecolor\": \"white\", \"ticks\": \"\"}, \"bgcolor\": \"#E5ECF6\", \"caxis\": {\"gridcolor\": \"white\", \"linecolor\": \"white\", \"ticks\": \"\"}}, \"title\": {\"x\": 0.05}, \"xaxis\": {\"automargin\": true, \"gridcolor\": \"white\", \"linecolor\": \"white\", \"ticks\": \"\", \"title\": {\"standoff\": 15}, \"zerolinecolor\": \"white\", \"zerolinewidth\": 2}, \"yaxis\": {\"automargin\": true, \"gridcolor\": \"white\", \"linecolor\": \"white\", \"ticks\": \"\", \"title\": {\"standoff\": 15}, \"zerolinecolor\": \"white\", \"zerolinewidth\": 2}}}, \"xaxis\": {\"anchor\": \"y\", \"domain\": [0.0, 1.0], \"title\": {\"text\": \"division\"}}, \"yaxis\": {\"anchor\": \"x\", \"domain\": [0.0, 1.0], \"title\": {\"text\": \"sum of made_playoffs\"}}},                        {\"responsive\": true}                    ).then(function(){\n",
       "                            \n",
       "var gd = document.getElementById('fcc1ee77-8d7a-4d14-ac7a-f3b9dc5741de');\n",
       "var x = new MutationObserver(function (mutations, observer) {{\n",
       "        var display = window.getComputedStyle(gd).display;\n",
       "        if (!display || display === 'none') {{\n",
       "            console.log([gd, 'removed!']);\n",
       "            Plotly.purge(gd);\n",
       "            observer.disconnect();\n",
       "        }}\n",
       "}});\n",
       "\n",
       "// Listen for the removal of the full notebook cells\n",
       "var notebookContainer = gd.closest('#notebook-container');\n",
       "if (notebookContainer) {{\n",
       "    x.observe(notebookContainer, {childList: true});\n",
       "}}\n",
       "\n",
       "// Listen for the clearing of the current output cell\n",
       "var outputEl = gd.closest('.output');\n",
       "if (outputEl) {{\n",
       "    x.observe(outputEl, {childList: true});\n",
       "}}\n",
       "\n",
       "                        })                };                });            </script>        </div>"
      ]
     },
     "metadata": {},
     "output_type": "display_data"
    }
   ],
   "source": [
    "fig = px.histogram(df, x='division', y='made_playoffs')\n",
    "fig.show()"
   ]
  },
  {
   "cell_type": "code",
   "execution_count": 24,
   "metadata": {
    "ExecuteTime": {
     "end_time": "2021-01-21T07:41:07.645715Z",
     "start_time": "2021-01-21T07:41:07.610813Z"
    }
   },
   "outputs": [],
   "source": [
    "data = {}\n",
    "for i in stat_cols:\n",
    "    if i not in ['Team', 'G']:\n",
    "        data[i] = df[[q for q in df.columns if q.startswith(i)]]"
   ]
  },
  {
   "cell_type": "code",
   "execution_count": 56,
   "metadata": {
    "ExecuteTime": {
     "end_time": "2021-01-21T08:21:20.504467Z",
     "start_time": "2021-01-21T08:21:20.488467Z"
    }
   },
   "outputs": [
    {
     "data": {
      "text/html": [
       "<div>\n",
       "<style scoped>\n",
       "    .dataframe tbody tr th:only-of-type {\n",
       "        vertical-align: middle;\n",
       "    }\n",
       "\n",
       "    .dataframe tbody tr th {\n",
       "        vertical-align: top;\n",
       "    }\n",
       "\n",
       "    .dataframe thead th {\n",
       "        text-align: right;\n",
       "    }\n",
       "</style>\n",
       "<table border=\"1\" class=\"dataframe\">\n",
       "  <thead>\n",
       "    <tr style=\"text-align: right;\">\n",
       "      <th></th>\n",
       "      <th>TOV-Total</th>\n",
       "      <th>TOV-PG</th>\n",
       "    </tr>\n",
       "  </thead>\n",
       "  <tbody>\n",
       "    <tr>\n",
       "      <th>0</th>\n",
       "      <td>1185</td>\n",
       "      <td>14.5</td>\n",
       "    </tr>\n",
       "    <tr>\n",
       "      <th>1</th>\n",
       "      <td>1012</td>\n",
       "      <td>12.3</td>\n",
       "    </tr>\n",
       "    <tr>\n",
       "      <th>2</th>\n",
       "      <td>1062</td>\n",
       "      <td>13.0</td>\n",
       "    </tr>\n",
       "    <tr>\n",
       "      <th>3</th>\n",
       "      <td>1057</td>\n",
       "      <td>12.9</td>\n",
       "    </tr>\n",
       "    <tr>\n",
       "      <th>4</th>\n",
       "      <td>1205</td>\n",
       "      <td>14.7</td>\n",
       "    </tr>\n",
       "    <tr>\n",
       "      <th>...</th>\n",
       "      <td>...</td>\n",
       "      <td>...</td>\n",
       "    </tr>\n",
       "    <tr>\n",
       "      <th>26</th>\n",
       "      <td>1159</td>\n",
       "      <td>14.1</td>\n",
       "    </tr>\n",
       "    <tr>\n",
       "      <th>27</th>\n",
       "      <td>1151</td>\n",
       "      <td>14.0</td>\n",
       "    </tr>\n",
       "    <tr>\n",
       "      <th>28</th>\n",
       "      <td>1106</td>\n",
       "      <td>13.5</td>\n",
       "    </tr>\n",
       "    <tr>\n",
       "      <th>29</th>\n",
       "      <td>1147</td>\n",
       "      <td>14.0</td>\n",
       "    </tr>\n",
       "    <tr>\n",
       "      <th>30</th>\n",
       "      <td>1155</td>\n",
       "      <td>14.1</td>\n",
       "    </tr>\n",
       "  </tbody>\n",
       "</table>\n",
       "<p>155 rows × 2 columns</p>\n",
       "</div>"
      ],
      "text/plain": [
       "    TOV-Total  TOV-PG\n",
       "0        1185    14.5\n",
       "1        1012    12.3\n",
       "2        1062    13.0\n",
       "3        1057    12.9\n",
       "4        1205    14.7\n",
       "..        ...     ...\n",
       "26       1159    14.1\n",
       "27       1151    14.0\n",
       "28       1106    13.5\n",
       "29       1147    14.0\n",
       "30       1155    14.1\n",
       "\n",
       "[155 rows x 2 columns]"
      ]
     },
     "execution_count": 56,
     "metadata": {},
     "output_type": "execute_result"
    }
   ],
   "source": [
    "data['TOV']"
   ]
  },
  {
   "cell_type": "code",
   "execution_count": 64,
   "metadata": {
    "ExecuteTime": {
     "end_time": "2021-01-21T08:35:01.415145Z",
     "start_time": "2021-01-21T08:35:01.385208Z"
    }
   },
   "outputs": [],
   "source": [
    "Teams = {}\n",
    "for i in df.Team.unique():\n",
    "    Teams[i] = df[df.Team == i]"
   ]
  },
  {
   "cell_type": "code",
   "execution_count": 65,
   "metadata": {
    "ExecuteTime": {
     "end_time": "2021-01-21T08:35:08.640999Z",
     "start_time": "2021-01-21T08:35:08.632998Z"
    }
   },
   "outputs": [
    {
     "data": {
      "text/plain": [
       "dict_keys(['Golden State Warriors', 'Los Angeles Clippers', 'Dallas Mavericks', 'Toronto Raptors', 'Oklahoma City Thunder', 'Houston Rockets', 'San Antonio Spurs', 'Cleveland Cavaliers', 'Portland Trail Blazers', 'Atlanta Hawks', 'Phoenix Suns', 'Denver Nuggets', 'Boston Celtics', 'Sacramento Kings', 'Chicago Bulls', 'New Orleans Pelicans', 'Washington Wizards', 'Detroit Pistons', 'Los Angeles Lakers', 'Memphis Grizzlies', 'Brooklyn Nets', 'Milwaukee Bucks', 'Minnesota Timberwolves', 'Indiana Pacers', 'Orlando Magic', 'Utah Jazz', 'Miami Heat', 'Charlotte Hornets', 'Philadelphia 76ers', 'New York Knicks', 'League Average'])"
      ]
     },
     "execution_count": 65,
     "metadata": {},
     "output_type": "execute_result"
    }
   ],
   "source": [
    "Teams.keys()"
   ]
  },
  {
   "cell_type": "code",
   "execution_count": 66,
   "metadata": {
    "ExecuteTime": {
     "end_time": "2021-01-21T08:50:06.549737Z",
     "start_time": "2021-01-21T08:50:06.492206Z"
    }
   },
   "outputs": [
    {
     "data": {
      "text/html": [
       "<div>\n",
       "<style scoped>\n",
       "    .dataframe tbody tr th:only-of-type {\n",
       "        vertical-align: middle;\n",
       "    }\n",
       "\n",
       "    .dataframe tbody tr th {\n",
       "        vertical-align: top;\n",
       "    }\n",
       "\n",
       "    .dataframe thead th {\n",
       "        text-align: right;\n",
       "    }\n",
       "</style>\n",
       "<table border=\"1\" class=\"dataframe\">\n",
       "  <thead>\n",
       "    <tr style=\"text-align: right;\">\n",
       "      <th></th>\n",
       "      <th>Team</th>\n",
       "      <th>G</th>\n",
       "      <th>MP-Total</th>\n",
       "      <th>FGM-Total</th>\n",
       "      <th>FGA-Total</th>\n",
       "      <th>FG%-Total</th>\n",
       "      <th>3PM-Total</th>\n",
       "      <th>3PA-Total</th>\n",
       "      <th>3P%-Total</th>\n",
       "      <th>2PM-Total</th>\n",
       "      <th>...</th>\n",
       "      <th>AST-PG</th>\n",
       "      <th>STL-PG</th>\n",
       "      <th>BLK-PG</th>\n",
       "      <th>TOV-PG</th>\n",
       "      <th>PF-PG</th>\n",
       "      <th>PTS-PG</th>\n",
       "      <th>season</th>\n",
       "      <th>made_playoffs</th>\n",
       "      <th>division</th>\n",
       "      <th>conference</th>\n",
       "    </tr>\n",
       "  </thead>\n",
       "  <tbody>\n",
       "    <tr>\n",
       "      <th>18</th>\n",
       "      <td>Los Angeles Lakers</td>\n",
       "      <td>82</td>\n",
       "      <td>19930</td>\n",
       "      <td>3054</td>\n",
       "      <td>7020</td>\n",
       "      <td>0.435</td>\n",
       "      <td>532</td>\n",
       "      <td>1546</td>\n",
       "      <td>0.344</td>\n",
       "      <td>2522</td>\n",
       "      <td>...</td>\n",
       "      <td>20.9</td>\n",
       "      <td>7.0</td>\n",
       "      <td>4.5</td>\n",
       "      <td>13.2</td>\n",
       "      <td>21.2</td>\n",
       "      <td>98.5</td>\n",
       "      <td>2014-15</td>\n",
       "      <td>0</td>\n",
       "      <td>pacific</td>\n",
       "      <td>west</td>\n",
       "    </tr>\n",
       "    <tr>\n",
       "      <th>29</th>\n",
       "      <td>Los Angeles Lakers</td>\n",
       "      <td>82</td>\n",
       "      <td>19730</td>\n",
       "      <td>2880</td>\n",
       "      <td>6956</td>\n",
       "      <td>0.414</td>\n",
       "      <td>639</td>\n",
       "      <td>2016</td>\n",
       "      <td>0.317</td>\n",
       "      <td>2241</td>\n",
       "      <td>...</td>\n",
       "      <td>18.0</td>\n",
       "      <td>7.2</td>\n",
       "      <td>4.1</td>\n",
       "      <td>13.7</td>\n",
       "      <td>20.3</td>\n",
       "      <td>97.3</td>\n",
       "      <td>2015-16</td>\n",
       "      <td>0</td>\n",
       "      <td>pacific</td>\n",
       "      <td>west</td>\n",
       "    </tr>\n",
       "    <tr>\n",
       "      <th>16</th>\n",
       "      <td>Los Angeles Lakers</td>\n",
       "      <td>82</td>\n",
       "      <td>19705</td>\n",
       "      <td>3224</td>\n",
       "      <td>7164</td>\n",
       "      <td>0.450</td>\n",
       "      <td>730</td>\n",
       "      <td>2110</td>\n",
       "      <td>0.346</td>\n",
       "      <td>2494</td>\n",
       "      <td>...</td>\n",
       "      <td>20.9</td>\n",
       "      <td>8.2</td>\n",
       "      <td>3.9</td>\n",
       "      <td>15.2</td>\n",
       "      <td>20.7</td>\n",
       "      <td>104.6</td>\n",
       "      <td>2016-17</td>\n",
       "      <td>0</td>\n",
       "      <td>pacific</td>\n",
       "      <td>west</td>\n",
       "    </tr>\n",
       "    <tr>\n",
       "      <th>10</th>\n",
       "      <td>Los Angeles Lakers</td>\n",
       "      <td>82</td>\n",
       "      <td>19905</td>\n",
       "      <td>3338</td>\n",
       "      <td>7248</td>\n",
       "      <td>0.461</td>\n",
       "      <td>822</td>\n",
       "      <td>2384</td>\n",
       "      <td>0.345</td>\n",
       "      <td>2516</td>\n",
       "      <td>...</td>\n",
       "      <td>23.8</td>\n",
       "      <td>7.7</td>\n",
       "      <td>4.7</td>\n",
       "      <td>15.8</td>\n",
       "      <td>21.2</td>\n",
       "      <td>108.1</td>\n",
       "      <td>2017-18</td>\n",
       "      <td>0</td>\n",
       "      <td>pacific</td>\n",
       "      <td>west</td>\n",
       "    </tr>\n",
       "    <tr>\n",
       "      <th>15</th>\n",
       "      <td>Los Angeles Lakers</td>\n",
       "      <td>82</td>\n",
       "      <td>19780</td>\n",
       "      <td>3491</td>\n",
       "      <td>7425</td>\n",
       "      <td>0.470</td>\n",
       "      <td>847</td>\n",
       "      <td>2541</td>\n",
       "      <td>0.333</td>\n",
       "      <td>2644</td>\n",
       "      <td>...</td>\n",
       "      <td>25.6</td>\n",
       "      <td>7.5</td>\n",
       "      <td>5.4</td>\n",
       "      <td>15.7</td>\n",
       "      <td>20.7</td>\n",
       "      <td>111.8</td>\n",
       "      <td>2018-19</td>\n",
       "      <td>0</td>\n",
       "      <td>pacific</td>\n",
       "      <td>west</td>\n",
       "    </tr>\n",
       "  </tbody>\n",
       "</table>\n",
       "<p>5 rows × 50 columns</p>\n",
       "</div>"
      ],
      "text/plain": [
       "                  Team   G  MP-Total  FGM-Total  FGA-Total  FG%-Total  \\\n",
       "18  Los Angeles Lakers  82     19930       3054       7020      0.435   \n",
       "29  Los Angeles Lakers  82     19730       2880       6956      0.414   \n",
       "16  Los Angeles Lakers  82     19705       3224       7164      0.450   \n",
       "10  Los Angeles Lakers  82     19905       3338       7248      0.461   \n",
       "15  Los Angeles Lakers  82     19780       3491       7425      0.470   \n",
       "\n",
       "    3PM-Total  3PA-Total  3P%-Total  2PM-Total  ...  AST-PG  STL-PG  BLK-PG  \\\n",
       "18        532       1546      0.344       2522  ...    20.9     7.0     4.5   \n",
       "29        639       2016      0.317       2241  ...    18.0     7.2     4.1   \n",
       "16        730       2110      0.346       2494  ...    20.9     8.2     3.9   \n",
       "10        822       2384      0.345       2516  ...    23.8     7.7     4.7   \n",
       "15        847       2541      0.333       2644  ...    25.6     7.5     5.4   \n",
       "\n",
       "    TOV-PG  PF-PG  PTS-PG   season  made_playoffs  division  conference  \n",
       "18    13.2   21.2    98.5  2014-15              0   pacific        west  \n",
       "29    13.7   20.3    97.3  2015-16              0   pacific        west  \n",
       "16    15.2   20.7   104.6  2016-17              0   pacific        west  \n",
       "10    15.8   21.2   108.1  2017-18              0   pacific        west  \n",
       "15    15.7   20.7   111.8  2018-19              0   pacific        west  \n",
       "\n",
       "[5 rows x 50 columns]"
      ]
     },
     "execution_count": 66,
     "metadata": {},
     "output_type": "execute_result"
    }
   ],
   "source": [
    "Teams['Los Angeles Lakers']"
   ]
  },
  {
   "cell_type": "code",
   "execution_count": 61,
   "metadata": {
    "ExecuteTime": {
     "end_time": "2021-01-21T08:32:08.064782Z",
     "start_time": "2021-01-21T08:32:08.038851Z"
    }
   },
   "outputs": [
    {
     "data": {
      "application/vnd.plotly.v1+json": {
       "config": {
        "plotlyServerURL": "https://plot.ly"
       },
       "data": [
        {
         "type": "bar",
         "x": [
          "Golden State Warriors",
          "Los Angeles Clippers",
          "Dallas Mavericks",
          "Toronto Raptors",
          "Oklahoma City Thunder",
          "Houston Rockets",
          "San Antonio Spurs",
          "Cleveland Cavaliers",
          "Portland Trail Blazers",
          "Atlanta Hawks",
          "Phoenix Suns",
          "Denver Nuggets",
          "Boston Celtics",
          "Sacramento Kings",
          "Chicago Bulls",
          "New Orleans Pelicans",
          "Washington Wizards",
          "Detroit Pistons",
          "Los Angeles Lakers",
          "Memphis Grizzlies",
          "Brooklyn Nets",
          "Milwaukee Bucks",
          "Minnesota Timberwolves",
          "Indiana Pacers",
          "Orlando Magic",
          "Utah Jazz",
          "Miami Heat",
          "Charlotte Hornets",
          "Philadelphia 76ers",
          "New York Knicks",
          "League Average",
          "Golden State Warriors",
          "Oklahoma City Thunder",
          "Sacramento Kings",
          "Houston Rockets",
          "Boston Celtics",
          "Portland Trail Blazers",
          "Los Angeles Clippers",
          "Cleveland Cavaliers",
          "Washington Wizards",
          "San Antonio Spurs",
          "Charlotte Hornets",
          "Atlanta Hawks",
          "New Orleans Pelicans",
          "Toronto Raptors",
          "Minnesota Timberwolves",
          "Dallas Mavericks",
          "Indiana Pacers",
          "Orlando Magic",
          "Detroit Pistons",
          "Denver Nuggets",
          "Chicago Bulls",
          "Phoenix Suns",
          "Miami Heat",
          "Memphis Grizzlies",
          "Milwaukee Bucks",
          "Brooklyn Nets",
          "New York Knicks",
          "Utah Jazz",
          "Philadelphia 76ers",
          "Los Angeles Lakers",
          "League Average",
          "Golden State Warriors",
          "Houston Rockets",
          "Denver Nuggets",
          "Cleveland Cavaliers",
          "Washington Wizards",
          "Los Angeles Clippers",
          "Boston Celtics",
          "Portland Trail Blazers",
          "Phoenix Suns",
          "Toronto Raptors",
          "Oklahoma City Thunder",
          "Brooklyn Nets",
          "Minnesota Timberwolves",
          "San Antonio Spurs",
          "Indiana Pacers",
          "Charlotte Hornets",
          "Los Angeles Lakers",
          "New Orleans Pelicans",
          "New York Knicks",
          "Milwaukee Bucks",
          "Miami Heat",
          "Atlanta Hawks",
          "Chicago Bulls",
          "Sacramento Kings",
          "Philadelphia 76ers",
          "Detroit Pistons",
          "Orlando Magic",
          "Utah Jazz",
          "Memphis Grizzlies",
          "Dallas Mavericks",
          "League Average",
          "Golden State Warriors",
          "Houston Rockets",
          "New Orleans Pelicans",
          "Toronto Raptors",
          "Cleveland Cavaliers",
          "Denver Nuggets",
          "Philadelphia 76ers",
          "Minnesota Timberwolves",
          "Los Angeles Clippers",
          "Charlotte Hornets",
          "Los Angeles Lakers",
          "Oklahoma City Thunder",
          "Washington Wizards",
          "Brooklyn Nets",
          "Milwaukee Bucks",
          "Portland Trail Blazers",
          "Indiana Pacers",
          "New York Knicks",
          "Utah Jazz",
          "Boston Celtics",
          "Phoenix Suns",
          "Detroit Pistons",
          "Miami Heat",
          "Orlando Magic",
          "Atlanta Hawks",
          "Chicago Bulls",
          "San Antonio Spurs",
          "Dallas Mavericks",
          "Memphis Grizzlies",
          "Sacramento Kings",
          "League Average",
          "Milwaukee Bucks",
          "Golden State Warriors",
          "New Orleans Pelicans",
          "Philadelphia 76ers",
          "Los Angeles Clippers",
          "Portland Trail Blazers",
          "Oklahoma City Thunder",
          "Toronto Raptors",
          "Sacramento Kings",
          "Washington Wizards",
          "Houston Rockets",
          "Atlanta Hawks",
          "Minnesota Timberwolves",
          "Boston Celtics",
          "Brooklyn Nets",
          "Los Angeles Lakers",
          "Utah Jazz",
          "San Antonio Spurs",
          "Charlotte Hornets",
          "Denver Nuggets",
          "Dallas Mavericks",
          "Indiana Pacers",
          "Phoenix Suns",
          "Orlando Magic",
          "Detroit Pistons",
          "Miami Heat",
          "Chicago Bulls",
          "New York Knicks",
          "Cleveland Cavaliers",
          "Memphis Grizzlies",
          "League Average"
         ],
         "y": [
          [
           1709,
           20.8
          ],
          [
           2067,
           25.2
          ],
          [
           1843,
           22.5
          ],
          [
           2014,
           24.6
          ],
          [
           2020,
           24.6
          ],
          [
           2133,
           26
          ],
          [
           1754,
           21.4
          ],
          [
           1934,
           23.6
          ],
          [
           1589,
           19.4
          ],
          [
           1735,
           21.2
          ],
          [
           1767,
           21.5
          ],
          [
           1991,
           24.3
          ],
          [
           1678,
           20.5
          ],
          [
           2400,
           29.3
          ],
          [
           2067,
           25.2
          ],
          [
           1790,
           21.8
          ],
          [
           1758,
           21.4
          ],
          [
           1838,
           22.4
          ],
          [
           1935,
           23.6
          ],
          [
           1869,
           22.8
          ],
          [
           1817,
           22.2
          ],
          [
           1734,
           21.1
          ],
          [
           2110,
           25.7
          ],
          [
           1817,
           22.2
          ],
          [
           1565,
           19.1
          ],
          [
           1929,
           23.5
          ],
          [
           1940,
           23.7
          ],
          [
           1867,
           22.8
          ],
          [
           1953,
           23.8
          ],
          [
           1575,
           19.2
          ],
          [
           1873,
           22.8
          ],
          [
           1790,
           21.8
          ],
          [
           2067,
           25.2
          ],
          [
           2089,
           25.5
          ],
          [
           2407,
           29.4
          ],
          [
           1929,
           23.5
          ],
          [
           1889,
           23
          ],
          [
           2152,
           26.2
          ],
          [
           1783,
           21.7
          ],
          [
           1849,
           22.5
          ],
          [
           1672,
           20.4
          ],
          [
           1941,
           23.7
          ],
          [
           1638,
           20
          ],
          [
           1823,
           22.2
          ],
          [
           2190,
           26.7
          ],
          [
           2213,
           27
          ],
          [
           1831,
           22.3
          ],
          [
           1872,
           22.8
          ],
          [
           1649,
           20.1
          ],
          [
           2095,
           25.5
          ],
          [
           1974,
           24.1
          ],
          [
           1720,
           21
          ],
          [
           1905,
           23.2
          ],
          [
           1889,
           23
          ],
          [
           2024,
           24.7
          ],
          [
           1863,
           22.7
          ],
          [
           1699,
           20.7
          ],
          [
           1753,
           21.4
          ],
          [
           1885,
           23
          ],
          [
           1850,
           22.6
          ],
          [
           2028,
           24.7
          ],
          [
           1916,
           23.4
          ],
          [
           1850,
           22.6
          ],
          [
           2177,
           26.5
          ],
          [
           1986,
           24.2
          ],
          [
           1913,
           23.3
          ],
          [
           1812,
           22.1
          ],
          [
           2128,
           26
          ],
          [
           1903,
           23.2
          ],
          [
           1940,
           23.7
          ],
          [
           2159,
           26.3
          ],
          [
           2028,
           24.7
          ],
          [
           2113,
           25.8
          ],
          [
           2020,
           24.6
          ],
          [
           1986,
           24.2
          ],
          [
           1806,
           22
          ],
          [
           1811,
           22.1
          ],
          [
           1953,
           23.8
          ],
          [
           1853,
           22.6
          ],
          [
           1825,
           22.3
          ],
          [
           1731,
           21.1
          ],
          [
           1839,
           22.4
          ],
          [
           1768,
           21.6
          ],
          [
           2039,
           24.9
          ],
          [
           1848,
           22.5
          ],
          [
           1913,
           23.3
          ],
          [
           1806,
           22
          ],
          [
           1586,
           19.3
          ],
          [
           1753,
           21.4
          ],
          [
           1875,
           22.9
          ],
          [
           1918,
           23.4
          ],
          [
           1516,
           18.5
          ],
          [
           1895,
           23.1
          ],
          [
           1668,
           20.3
          ],
          [
           2061,
           25.1
          ],
          [
           1716,
           20.9
          ],
          [
           1790,
           21.8
          ],
          [
           1909,
           23.3
          ],
          [
           1830,
           22.3
          ],
          [
           1868,
           22.8
          ],
          [
           1980,
           24.1
          ],
          [
           2095,
           25.5
          ],
          [
           2216,
           27
          ],
          [
           1910,
           23.3
          ],
          [
           1985,
           24.2
          ],
          [
           1786,
           21.8
          ],
          [
           1850,
           22.6
          ],
          [
           1915,
           23.4
          ],
          [
           1715,
           20.9
          ],
          [
           1573,
           19.2
          ],
          [
           1557,
           19
          ],
          [
           1766,
           21.5
          ],
          [
           1697,
           20.7
          ],
          [
           1962,
           23.9
          ],
          [
           1621,
           19.8
          ],
          [
           1601,
           19.5
          ],
          [
           1678,
           20.5
          ],
          [
           1654,
           20.2
          ],
          [
           1574,
           19.2
          ],
          [
           1715,
           20.9
          ],
          [
           1530,
           18.7
          ],
          [
           1732,
           21.1
          ],
          [
           1371,
           16.7
          ],
          [
           1778,
           21.7
          ],
          [
           1904,
           23.2
          ],
          [
           1672,
           20.4
          ],
          [
           1921,
           23.4
          ],
          [
           2258,
           27.5
          ],
          [
           2340,
           28.5
          ],
          [
           1914,
           23.3
          ],
          [
           2049,
           25
          ],
          [
           1803,
           22
          ],
          [
           1865,
           22.7
          ],
          [
           1963,
           23.9
          ],
          [
           2001,
           24.4
          ],
          [
           1918,
           23.4
          ],
          [
           1995,
           24.3
          ],
          [
           1598,
           19.5
          ],
          [
           2088,
           25.5
          ],
          [
           1910,
           23.3
          ],
          [
           2092,
           25.5
          ],
          [
           1720,
           21
          ],
          [
           1895,
           23.1
          ],
          [
           1714,
           20.9
          ],
          [
           2076,
           25.3
          ],
          [
           1727,
           21.1
          ],
          [
           1858,
           22.7
          ],
          [
           1575,
           19.2
          ],
          [
           1893,
           23.1
          ],
          [
           1782,
           21.7
          ],
          [
           1695,
           20.7
          ],
          [
           1956,
           23.9
          ],
          [
           1694,
           20.7
          ],
          [
           1882,
           23
          ],
          [
           1892,
           23.1
          ]
         ]
        }
       ],
       "layout": {
        "template": {
         "data": {
          "bar": [
           {
            "error_x": {
             "color": "#2a3f5f"
            },
            "error_y": {
             "color": "#2a3f5f"
            },
            "marker": {
             "line": {
              "color": "#E5ECF6",
              "width": 0.5
             }
            },
            "type": "bar"
           }
          ],
          "barpolar": [
           {
            "marker": {
             "line": {
              "color": "#E5ECF6",
              "width": 0.5
             }
            },
            "type": "barpolar"
           }
          ],
          "carpet": [
           {
            "aaxis": {
             "endlinecolor": "#2a3f5f",
             "gridcolor": "white",
             "linecolor": "white",
             "minorgridcolor": "white",
             "startlinecolor": "#2a3f5f"
            },
            "baxis": {
             "endlinecolor": "#2a3f5f",
             "gridcolor": "white",
             "linecolor": "white",
             "minorgridcolor": "white",
             "startlinecolor": "#2a3f5f"
            },
            "type": "carpet"
           }
          ],
          "choropleth": [
           {
            "colorbar": {
             "outlinewidth": 0,
             "ticks": ""
            },
            "type": "choropleth"
           }
          ],
          "contour": [
           {
            "colorbar": {
             "outlinewidth": 0,
             "ticks": ""
            },
            "colorscale": [
             [
              0,
              "#0d0887"
             ],
             [
              0.1111111111111111,
              "#46039f"
             ],
             [
              0.2222222222222222,
              "#7201a8"
             ],
             [
              0.3333333333333333,
              "#9c179e"
             ],
             [
              0.4444444444444444,
              "#bd3786"
             ],
             [
              0.5555555555555556,
              "#d8576b"
             ],
             [
              0.6666666666666666,
              "#ed7953"
             ],
             [
              0.7777777777777778,
              "#fb9f3a"
             ],
             [
              0.8888888888888888,
              "#fdca26"
             ],
             [
              1,
              "#f0f921"
             ]
            ],
            "type": "contour"
           }
          ],
          "contourcarpet": [
           {
            "colorbar": {
             "outlinewidth": 0,
             "ticks": ""
            },
            "type": "contourcarpet"
           }
          ],
          "heatmap": [
           {
            "colorbar": {
             "outlinewidth": 0,
             "ticks": ""
            },
            "colorscale": [
             [
              0,
              "#0d0887"
             ],
             [
              0.1111111111111111,
              "#46039f"
             ],
             [
              0.2222222222222222,
              "#7201a8"
             ],
             [
              0.3333333333333333,
              "#9c179e"
             ],
             [
              0.4444444444444444,
              "#bd3786"
             ],
             [
              0.5555555555555556,
              "#d8576b"
             ],
             [
              0.6666666666666666,
              "#ed7953"
             ],
             [
              0.7777777777777778,
              "#fb9f3a"
             ],
             [
              0.8888888888888888,
              "#fdca26"
             ],
             [
              1,
              "#f0f921"
             ]
            ],
            "type": "heatmap"
           }
          ],
          "heatmapgl": [
           {
            "colorbar": {
             "outlinewidth": 0,
             "ticks": ""
            },
            "colorscale": [
             [
              0,
              "#0d0887"
             ],
             [
              0.1111111111111111,
              "#46039f"
             ],
             [
              0.2222222222222222,
              "#7201a8"
             ],
             [
              0.3333333333333333,
              "#9c179e"
             ],
             [
              0.4444444444444444,
              "#bd3786"
             ],
             [
              0.5555555555555556,
              "#d8576b"
             ],
             [
              0.6666666666666666,
              "#ed7953"
             ],
             [
              0.7777777777777778,
              "#fb9f3a"
             ],
             [
              0.8888888888888888,
              "#fdca26"
             ],
             [
              1,
              "#f0f921"
             ]
            ],
            "type": "heatmapgl"
           }
          ],
          "histogram": [
           {
            "marker": {
             "colorbar": {
              "outlinewidth": 0,
              "ticks": ""
             }
            },
            "type": "histogram"
           }
          ],
          "histogram2d": [
           {
            "colorbar": {
             "outlinewidth": 0,
             "ticks": ""
            },
            "colorscale": [
             [
              0,
              "#0d0887"
             ],
             [
              0.1111111111111111,
              "#46039f"
             ],
             [
              0.2222222222222222,
              "#7201a8"
             ],
             [
              0.3333333333333333,
              "#9c179e"
             ],
             [
              0.4444444444444444,
              "#bd3786"
             ],
             [
              0.5555555555555556,
              "#d8576b"
             ],
             [
              0.6666666666666666,
              "#ed7953"
             ],
             [
              0.7777777777777778,
              "#fb9f3a"
             ],
             [
              0.8888888888888888,
              "#fdca26"
             ],
             [
              1,
              "#f0f921"
             ]
            ],
            "type": "histogram2d"
           }
          ],
          "histogram2dcontour": [
           {
            "colorbar": {
             "outlinewidth": 0,
             "ticks": ""
            },
            "colorscale": [
             [
              0,
              "#0d0887"
             ],
             [
              0.1111111111111111,
              "#46039f"
             ],
             [
              0.2222222222222222,
              "#7201a8"
             ],
             [
              0.3333333333333333,
              "#9c179e"
             ],
             [
              0.4444444444444444,
              "#bd3786"
             ],
             [
              0.5555555555555556,
              "#d8576b"
             ],
             [
              0.6666666666666666,
              "#ed7953"
             ],
             [
              0.7777777777777778,
              "#fb9f3a"
             ],
             [
              0.8888888888888888,
              "#fdca26"
             ],
             [
              1,
              "#f0f921"
             ]
            ],
            "type": "histogram2dcontour"
           }
          ],
          "mesh3d": [
           {
            "colorbar": {
             "outlinewidth": 0,
             "ticks": ""
            },
            "type": "mesh3d"
           }
          ],
          "parcoords": [
           {
            "line": {
             "colorbar": {
              "outlinewidth": 0,
              "ticks": ""
             }
            },
            "type": "parcoords"
           }
          ],
          "pie": [
           {
            "automargin": true,
            "type": "pie"
           }
          ],
          "scatter": [
           {
            "marker": {
             "colorbar": {
              "outlinewidth": 0,
              "ticks": ""
             }
            },
            "type": "scatter"
           }
          ],
          "scatter3d": [
           {
            "line": {
             "colorbar": {
              "outlinewidth": 0,
              "ticks": ""
             }
            },
            "marker": {
             "colorbar": {
              "outlinewidth": 0,
              "ticks": ""
             }
            },
            "type": "scatter3d"
           }
          ],
          "scattercarpet": [
           {
            "marker": {
             "colorbar": {
              "outlinewidth": 0,
              "ticks": ""
             }
            },
            "type": "scattercarpet"
           }
          ],
          "scattergeo": [
           {
            "marker": {
             "colorbar": {
              "outlinewidth": 0,
              "ticks": ""
             }
            },
            "type": "scattergeo"
           }
          ],
          "scattergl": [
           {
            "marker": {
             "colorbar": {
              "outlinewidth": 0,
              "ticks": ""
             }
            },
            "type": "scattergl"
           }
          ],
          "scattermapbox": [
           {
            "marker": {
             "colorbar": {
              "outlinewidth": 0,
              "ticks": ""
             }
            },
            "type": "scattermapbox"
           }
          ],
          "scatterpolar": [
           {
            "marker": {
             "colorbar": {
              "outlinewidth": 0,
              "ticks": ""
             }
            },
            "type": "scatterpolar"
           }
          ],
          "scatterpolargl": [
           {
            "marker": {
             "colorbar": {
              "outlinewidth": 0,
              "ticks": ""
             }
            },
            "type": "scatterpolargl"
           }
          ],
          "scatterternary": [
           {
            "marker": {
             "colorbar": {
              "outlinewidth": 0,
              "ticks": ""
             }
            },
            "type": "scatterternary"
           }
          ],
          "surface": [
           {
            "colorbar": {
             "outlinewidth": 0,
             "ticks": ""
            },
            "colorscale": [
             [
              0,
              "#0d0887"
             ],
             [
              0.1111111111111111,
              "#46039f"
             ],
             [
              0.2222222222222222,
              "#7201a8"
             ],
             [
              0.3333333333333333,
              "#9c179e"
             ],
             [
              0.4444444444444444,
              "#bd3786"
             ],
             [
              0.5555555555555556,
              "#d8576b"
             ],
             [
              0.6666666666666666,
              "#ed7953"
             ],
             [
              0.7777777777777778,
              "#fb9f3a"
             ],
             [
              0.8888888888888888,
              "#fdca26"
             ],
             [
              1,
              "#f0f921"
             ]
            ],
            "type": "surface"
           }
          ],
          "table": [
           {
            "cells": {
             "fill": {
              "color": "#EBF0F8"
             },
             "line": {
              "color": "white"
             }
            },
            "header": {
             "fill": {
              "color": "#C8D4E3"
             },
             "line": {
              "color": "white"
             }
            },
            "type": "table"
           }
          ]
         },
         "layout": {
          "annotationdefaults": {
           "arrowcolor": "#2a3f5f",
           "arrowhead": 0,
           "arrowwidth": 1
          },
          "autotypenumbers": "strict",
          "coloraxis": {
           "colorbar": {
            "outlinewidth": 0,
            "ticks": ""
           }
          },
          "colorscale": {
           "diverging": [
            [
             0,
             "#8e0152"
            ],
            [
             0.1,
             "#c51b7d"
            ],
            [
             0.2,
             "#de77ae"
            ],
            [
             0.3,
             "#f1b6da"
            ],
            [
             0.4,
             "#fde0ef"
            ],
            [
             0.5,
             "#f7f7f7"
            ],
            [
             0.6,
             "#e6f5d0"
            ],
            [
             0.7,
             "#b8e186"
            ],
            [
             0.8,
             "#7fbc41"
            ],
            [
             0.9,
             "#4d9221"
            ],
            [
             1,
             "#276419"
            ]
           ],
           "sequential": [
            [
             0,
             "#0d0887"
            ],
            [
             0.1111111111111111,
             "#46039f"
            ],
            [
             0.2222222222222222,
             "#7201a8"
            ],
            [
             0.3333333333333333,
             "#9c179e"
            ],
            [
             0.4444444444444444,
             "#bd3786"
            ],
            [
             0.5555555555555556,
             "#d8576b"
            ],
            [
             0.6666666666666666,
             "#ed7953"
            ],
            [
             0.7777777777777778,
             "#fb9f3a"
            ],
            [
             0.8888888888888888,
             "#fdca26"
            ],
            [
             1,
             "#f0f921"
            ]
           ],
           "sequentialminus": [
            [
             0,
             "#0d0887"
            ],
            [
             0.1111111111111111,
             "#46039f"
            ],
            [
             0.2222222222222222,
             "#7201a8"
            ],
            [
             0.3333333333333333,
             "#9c179e"
            ],
            [
             0.4444444444444444,
             "#bd3786"
            ],
            [
             0.5555555555555556,
             "#d8576b"
            ],
            [
             0.6666666666666666,
             "#ed7953"
            ],
            [
             0.7777777777777778,
             "#fb9f3a"
            ],
            [
             0.8888888888888888,
             "#fdca26"
            ],
            [
             1,
             "#f0f921"
            ]
           ]
          },
          "colorway": [
           "#636efa",
           "#EF553B",
           "#00cc96",
           "#ab63fa",
           "#FFA15A",
           "#19d3f3",
           "#FF6692",
           "#B6E880",
           "#FF97FF",
           "#FECB52"
          ],
          "font": {
           "color": "#2a3f5f"
          },
          "geo": {
           "bgcolor": "white",
           "lakecolor": "white",
           "landcolor": "#E5ECF6",
           "showlakes": true,
           "showland": true,
           "subunitcolor": "white"
          },
          "hoverlabel": {
           "align": "left"
          },
          "hovermode": "closest",
          "mapbox": {
           "style": "light"
          },
          "paper_bgcolor": "white",
          "plot_bgcolor": "#E5ECF6",
          "polar": {
           "angularaxis": {
            "gridcolor": "white",
            "linecolor": "white",
            "ticks": ""
           },
           "bgcolor": "#E5ECF6",
           "radialaxis": {
            "gridcolor": "white",
            "linecolor": "white",
            "ticks": ""
           }
          },
          "scene": {
           "xaxis": {
            "backgroundcolor": "#E5ECF6",
            "gridcolor": "white",
            "gridwidth": 2,
            "linecolor": "white",
            "showbackground": true,
            "ticks": "",
            "zerolinecolor": "white"
           },
           "yaxis": {
            "backgroundcolor": "#E5ECF6",
            "gridcolor": "white",
            "gridwidth": 2,
            "linecolor": "white",
            "showbackground": true,
            "ticks": "",
            "zerolinecolor": "white"
           },
           "zaxis": {
            "backgroundcolor": "#E5ECF6",
            "gridcolor": "white",
            "gridwidth": 2,
            "linecolor": "white",
            "showbackground": true,
            "ticks": "",
            "zerolinecolor": "white"
           }
          },
          "shapedefaults": {
           "line": {
            "color": "#2a3f5f"
           }
          },
          "ternary": {
           "aaxis": {
            "gridcolor": "white",
            "linecolor": "white",
            "ticks": ""
           },
           "baxis": {
            "gridcolor": "white",
            "linecolor": "white",
            "ticks": ""
           },
           "bgcolor": "#E5ECF6",
           "caxis": {
            "gridcolor": "white",
            "linecolor": "white",
            "ticks": ""
           }
          },
          "title": {
           "x": 0.05
          },
          "xaxis": {
           "automargin": true,
           "gridcolor": "white",
           "linecolor": "white",
           "ticks": "",
           "title": {
            "standoff": 15
           },
           "zerolinecolor": "white",
           "zerolinewidth": 2
          },
          "yaxis": {
           "automargin": true,
           "gridcolor": "white",
           "linecolor": "white",
           "ticks": "",
           "title": {
            "standoff": 15
           },
           "zerolinecolor": "white",
           "zerolinewidth": 2
          }
         }
        }
       }
      },
      "text/html": [
       "<div>                            <div id=\"c46cba97-f2df-4d7d-a9c0-2ab1cdd6fbef\" class=\"plotly-graph-div\" style=\"height:525px; width:100%;\"></div>            <script type=\"text/javascript\">                require([\"plotly\"], function(Plotly) {                    window.PLOTLYENV=window.PLOTLYENV || {};                                    if (document.getElementById(\"c46cba97-f2df-4d7d-a9c0-2ab1cdd6fbef\")) {                    Plotly.newPlot(                        \"c46cba97-f2df-4d7d-a9c0-2ab1cdd6fbef\",                        [{\"type\": \"bar\", \"x\": [\"Golden State Warriors\", \"Los Angeles Clippers\", \"Dallas Mavericks\", \"Toronto Raptors\", \"Oklahoma City Thunder\", \"Houston Rockets\", \"San Antonio Spurs\", \"Cleveland Cavaliers\", \"Portland Trail Blazers\", \"Atlanta Hawks\", \"Phoenix Suns\", \"Denver Nuggets\", \"Boston Celtics\", \"Sacramento Kings\", \"Chicago Bulls\", \"New Orleans Pelicans\", \"Washington Wizards\", \"Detroit Pistons\", \"Los Angeles Lakers\", \"Memphis Grizzlies\", \"Brooklyn Nets\", \"Milwaukee Bucks\", \"Minnesota Timberwolves\", \"Indiana Pacers\", \"Orlando Magic\", \"Utah Jazz\", \"Miami Heat\", \"Charlotte Hornets\", \"Philadelphia 76ers\", \"New York Knicks\", \"League Average\", \"Golden State Warriors\", \"Oklahoma City Thunder\", \"Sacramento Kings\", \"Houston Rockets\", \"Boston Celtics\", \"Portland Trail Blazers\", \"Los Angeles Clippers\", \"Cleveland Cavaliers\", \"Washington Wizards\", \"San Antonio Spurs\", \"Charlotte Hornets\", \"Atlanta Hawks\", \"New Orleans Pelicans\", \"Toronto Raptors\", \"Minnesota Timberwolves\", \"Dallas Mavericks\", \"Indiana Pacers\", \"Orlando Magic\", \"Detroit Pistons\", \"Denver Nuggets\", \"Chicago Bulls\", \"Phoenix Suns\", \"Miami Heat\", \"Memphis Grizzlies\", \"Milwaukee Bucks\", \"Brooklyn Nets\", \"New York Knicks\", \"Utah Jazz\", \"Philadelphia 76ers\", \"Los Angeles Lakers\", \"League Average\", \"Golden State Warriors\", \"Houston Rockets\", \"Denver Nuggets\", \"Cleveland Cavaliers\", \"Washington Wizards\", \"Los Angeles Clippers\", \"Boston Celtics\", \"Portland Trail Blazers\", \"Phoenix Suns\", \"Toronto Raptors\", \"Oklahoma City Thunder\", \"Brooklyn Nets\", \"Minnesota Timberwolves\", \"San Antonio Spurs\", \"Indiana Pacers\", \"Charlotte Hornets\", \"Los Angeles Lakers\", \"New Orleans Pelicans\", \"New York Knicks\", \"Milwaukee Bucks\", \"Miami Heat\", \"Atlanta Hawks\", \"Chicago Bulls\", \"Sacramento Kings\", \"Philadelphia 76ers\", \"Detroit Pistons\", \"Orlando Magic\", \"Utah Jazz\", \"Memphis Grizzlies\", \"Dallas Mavericks\", \"League Average\", \"Golden State Warriors\", \"Houston Rockets\", \"New Orleans Pelicans\", \"Toronto Raptors\", \"Cleveland Cavaliers\", \"Denver Nuggets\", \"Philadelphia 76ers\", \"Minnesota Timberwolves\", \"Los Angeles Clippers\", \"Charlotte Hornets\", \"Los Angeles Lakers\", \"Oklahoma City Thunder\", \"Washington Wizards\", \"Brooklyn Nets\", \"Milwaukee Bucks\", \"Portland Trail Blazers\", \"Indiana Pacers\", \"New York Knicks\", \"Utah Jazz\", \"Boston Celtics\", \"Phoenix Suns\", \"Detroit Pistons\", \"Miami Heat\", \"Orlando Magic\", \"Atlanta Hawks\", \"Chicago Bulls\", \"San Antonio Spurs\", \"Dallas Mavericks\", \"Memphis Grizzlies\", \"Sacramento Kings\", \"League Average\", \"Milwaukee Bucks\", \"Golden State Warriors\", \"New Orleans Pelicans\", \"Philadelphia 76ers\", \"Los Angeles Clippers\", \"Portland Trail Blazers\", \"Oklahoma City Thunder\", \"Toronto Raptors\", \"Sacramento Kings\", \"Washington Wizards\", \"Houston Rockets\", \"Atlanta Hawks\", \"Minnesota Timberwolves\", \"Boston Celtics\", \"Brooklyn Nets\", \"Los Angeles Lakers\", \"Utah Jazz\", \"San Antonio Spurs\", \"Charlotte Hornets\", \"Denver Nuggets\", \"Dallas Mavericks\", \"Indiana Pacers\", \"Phoenix Suns\", \"Orlando Magic\", \"Detroit Pistons\", \"Miami Heat\", \"Chicago Bulls\", \"New York Knicks\", \"Cleveland Cavaliers\", \"Memphis Grizzlies\", \"League Average\"], \"y\": [[1709.0, 20.8], [2067.0, 25.2], [1843.0, 22.5], [2014.0, 24.6], [2020.0, 24.6], [2133.0, 26.0], [1754.0, 21.4], [1934.0, 23.6], [1589.0, 19.4], [1735.0, 21.2], [1767.0, 21.5], [1991.0, 24.3], [1678.0, 20.5], [2400.0, 29.3], [2067.0, 25.2], [1790.0, 21.8], [1758.0, 21.4], [1838.0, 22.4], [1935.0, 23.6], [1869.0, 22.8], [1817.0, 22.2], [1734.0, 21.1], [2110.0, 25.7], [1817.0, 22.2], [1565.0, 19.1], [1929.0, 23.5], [1940.0, 23.7], [1867.0, 22.8], [1953.0, 23.8], [1575.0, 19.2], [1873.0, 22.8], [1790.0, 21.8], [2067.0, 25.2], [2089.0, 25.5], [2407.0, 29.4], [1929.0, 23.5], [1889.0, 23.0], [2152.0, 26.2], [1783.0, 21.7], [1849.0, 22.5], [1672.0, 20.4], [1941.0, 23.7], [1638.0, 20.0], [1823.0, 22.2], [2190.0, 26.7], [2213.0, 27.0], [1831.0, 22.3], [1872.0, 22.8], [1649.0, 20.1], [2095.0, 25.5], [1974.0, 24.1], [1720.0, 21.0], [1905.0, 23.2], [1889.0, 23.0], [2024.0, 24.7], [1863.0, 22.7], [1699.0, 20.7], [1753.0, 21.4], [1885.0, 23.0], [1850.0, 22.6], [2028.0, 24.7], [1916.0, 23.4], [1850.0, 22.6], [2177.0, 26.5], [1986.0, 24.2], [1913.0, 23.3], [1812.0, 22.1], [2128.0, 26.0], [1903.0, 23.2], [1940.0, 23.7], [2159.0, 26.3], [2028.0, 24.7], [2113.0, 25.8], [2020.0, 24.6], [1986.0, 24.2], [1806.0, 22.0], [1811.0, 22.1], [1953.0, 23.8], [1853.0, 22.6], [1825.0, 22.3], [1731.0, 21.1], [1839.0, 22.4], [1768.0, 21.6], [2039.0, 24.9], [1848.0, 22.5], [1913.0, 23.3], [1806.0, 22.0], [1586.0, 19.3], [1753.0, 21.4], [1875.0, 22.9], [1918.0, 23.4], [1516.0, 18.5], [1895.0, 23.1], [1668.0, 20.3], [2061.0, 25.1], [1716.0, 20.9], [1790.0, 21.8], [1909.0, 23.3], [1830.0, 22.3], [1868.0, 22.8], [1980.0, 24.1], [2095.0, 25.5], [2216.0, 27.0], [1910.0, 23.3], [1985.0, 24.2], [1786.0, 21.8], [1850.0, 22.6], [1915.0, 23.4], [1715.0, 20.9], [1573.0, 19.2], [1557.0, 19.0], [1766.0, 21.5], [1697.0, 20.7], [1962.0, 23.9], [1621.0, 19.8], [1601.0, 19.5], [1678.0, 20.5], [1654.0, 20.2], [1574.0, 19.2], [1715.0, 20.9], [1530.0, 18.7], [1732.0, 21.1], [1371.0, 16.7], [1778.0, 21.7], [1904.0, 23.2], [1672.0, 20.4], [1921.0, 23.4], [2258.0, 27.5], [2340.0, 28.5], [1914.0, 23.3], [2049.0, 25.0], [1803.0, 22.0], [1865.0, 22.7], [1963.0, 23.9], [2001.0, 24.4], [1918.0, 23.4], [1995.0, 24.3], [1598.0, 19.5], [2088.0, 25.5], [1910.0, 23.3], [2092.0, 25.5], [1720.0, 21.0], [1895.0, 23.1], [1714.0, 20.9], [2076.0, 25.3], [1727.0, 21.1], [1858.0, 22.7], [1575.0, 19.2], [1893.0, 23.1], [1782.0, 21.7], [1695.0, 20.7], [1956.0, 23.9], [1694.0, 20.7], [1882.0, 23.0], [1892.0, 23.1]]}],                        {\"template\": {\"data\": {\"bar\": [{\"error_x\": {\"color\": \"#2a3f5f\"}, \"error_y\": {\"color\": \"#2a3f5f\"}, \"marker\": {\"line\": {\"color\": \"#E5ECF6\", \"width\": 0.5}}, \"type\": \"bar\"}], \"barpolar\": [{\"marker\": {\"line\": {\"color\": \"#E5ECF6\", \"width\": 0.5}}, \"type\": \"barpolar\"}], \"carpet\": [{\"aaxis\": {\"endlinecolor\": \"#2a3f5f\", \"gridcolor\": \"white\", \"linecolor\": \"white\", \"minorgridcolor\": \"white\", \"startlinecolor\": \"#2a3f5f\"}, \"baxis\": {\"endlinecolor\": \"#2a3f5f\", \"gridcolor\": \"white\", \"linecolor\": \"white\", \"minorgridcolor\": \"white\", \"startlinecolor\": \"#2a3f5f\"}, \"type\": \"carpet\"}], \"choropleth\": [{\"colorbar\": {\"outlinewidth\": 0, \"ticks\": \"\"}, \"type\": \"choropleth\"}], \"contour\": [{\"colorbar\": {\"outlinewidth\": 0, \"ticks\": \"\"}, \"colorscale\": [[0.0, \"#0d0887\"], [0.1111111111111111, \"#46039f\"], [0.2222222222222222, \"#7201a8\"], [0.3333333333333333, \"#9c179e\"], [0.4444444444444444, \"#bd3786\"], [0.5555555555555556, \"#d8576b\"], [0.6666666666666666, \"#ed7953\"], [0.7777777777777778, \"#fb9f3a\"], [0.8888888888888888, \"#fdca26\"], [1.0, \"#f0f921\"]], \"type\": \"contour\"}], \"contourcarpet\": [{\"colorbar\": {\"outlinewidth\": 0, \"ticks\": \"\"}, \"type\": \"contourcarpet\"}], \"heatmap\": [{\"colorbar\": {\"outlinewidth\": 0, \"ticks\": \"\"}, \"colorscale\": [[0.0, \"#0d0887\"], [0.1111111111111111, \"#46039f\"], [0.2222222222222222, \"#7201a8\"], [0.3333333333333333, \"#9c179e\"], [0.4444444444444444, \"#bd3786\"], [0.5555555555555556, \"#d8576b\"], [0.6666666666666666, \"#ed7953\"], [0.7777777777777778, \"#fb9f3a\"], [0.8888888888888888, \"#fdca26\"], [1.0, \"#f0f921\"]], \"type\": \"heatmap\"}], \"heatmapgl\": [{\"colorbar\": {\"outlinewidth\": 0, \"ticks\": \"\"}, \"colorscale\": [[0.0, \"#0d0887\"], [0.1111111111111111, \"#46039f\"], [0.2222222222222222, \"#7201a8\"], [0.3333333333333333, \"#9c179e\"], [0.4444444444444444, \"#bd3786\"], [0.5555555555555556, \"#d8576b\"], [0.6666666666666666, \"#ed7953\"], [0.7777777777777778, \"#fb9f3a\"], [0.8888888888888888, \"#fdca26\"], [1.0, \"#f0f921\"]], \"type\": \"heatmapgl\"}], \"histogram\": [{\"marker\": {\"colorbar\": {\"outlinewidth\": 0, \"ticks\": \"\"}}, \"type\": \"histogram\"}], \"histogram2d\": [{\"colorbar\": {\"outlinewidth\": 0, \"ticks\": \"\"}, \"colorscale\": [[0.0, \"#0d0887\"], [0.1111111111111111, \"#46039f\"], [0.2222222222222222, \"#7201a8\"], [0.3333333333333333, \"#9c179e\"], [0.4444444444444444, \"#bd3786\"], [0.5555555555555556, \"#d8576b\"], [0.6666666666666666, \"#ed7953\"], [0.7777777777777778, \"#fb9f3a\"], [0.8888888888888888, \"#fdca26\"], [1.0, \"#f0f921\"]], \"type\": \"histogram2d\"}], \"histogram2dcontour\": [{\"colorbar\": {\"outlinewidth\": 0, \"ticks\": \"\"}, \"colorscale\": [[0.0, \"#0d0887\"], [0.1111111111111111, \"#46039f\"], [0.2222222222222222, \"#7201a8\"], [0.3333333333333333, \"#9c179e\"], [0.4444444444444444, \"#bd3786\"], [0.5555555555555556, \"#d8576b\"], [0.6666666666666666, \"#ed7953\"], [0.7777777777777778, \"#fb9f3a\"], [0.8888888888888888, \"#fdca26\"], [1.0, \"#f0f921\"]], \"type\": \"histogram2dcontour\"}], \"mesh3d\": [{\"colorbar\": {\"outlinewidth\": 0, \"ticks\": \"\"}, \"type\": \"mesh3d\"}], \"parcoords\": [{\"line\": {\"colorbar\": {\"outlinewidth\": 0, \"ticks\": \"\"}}, \"type\": \"parcoords\"}], \"pie\": [{\"automargin\": true, \"type\": \"pie\"}], \"scatter\": [{\"marker\": {\"colorbar\": {\"outlinewidth\": 0, \"ticks\": \"\"}}, \"type\": \"scatter\"}], \"scatter3d\": [{\"line\": {\"colorbar\": {\"outlinewidth\": 0, \"ticks\": \"\"}}, \"marker\": {\"colorbar\": {\"outlinewidth\": 0, \"ticks\": \"\"}}, \"type\": \"scatter3d\"}], \"scattercarpet\": [{\"marker\": {\"colorbar\": {\"outlinewidth\": 0, \"ticks\": \"\"}}, \"type\": \"scattercarpet\"}], \"scattergeo\": [{\"marker\": {\"colorbar\": {\"outlinewidth\": 0, \"ticks\": \"\"}}, \"type\": \"scattergeo\"}], \"scattergl\": [{\"marker\": {\"colorbar\": {\"outlinewidth\": 0, \"ticks\": \"\"}}, \"type\": \"scattergl\"}], \"scattermapbox\": [{\"marker\": {\"colorbar\": {\"outlinewidth\": 0, \"ticks\": \"\"}}, \"type\": \"scattermapbox\"}], \"scatterpolar\": [{\"marker\": {\"colorbar\": {\"outlinewidth\": 0, \"ticks\": \"\"}}, \"type\": \"scatterpolar\"}], \"scatterpolargl\": [{\"marker\": {\"colorbar\": {\"outlinewidth\": 0, \"ticks\": \"\"}}, \"type\": \"scatterpolargl\"}], \"scatterternary\": [{\"marker\": {\"colorbar\": {\"outlinewidth\": 0, \"ticks\": \"\"}}, \"type\": \"scatterternary\"}], \"surface\": [{\"colorbar\": {\"outlinewidth\": 0, \"ticks\": \"\"}, \"colorscale\": [[0.0, \"#0d0887\"], [0.1111111111111111, \"#46039f\"], [0.2222222222222222, \"#7201a8\"], [0.3333333333333333, \"#9c179e\"], [0.4444444444444444, \"#bd3786\"], [0.5555555555555556, \"#d8576b\"], [0.6666666666666666, \"#ed7953\"], [0.7777777777777778, \"#fb9f3a\"], [0.8888888888888888, \"#fdca26\"], [1.0, \"#f0f921\"]], \"type\": \"surface\"}], \"table\": [{\"cells\": {\"fill\": {\"color\": \"#EBF0F8\"}, \"line\": {\"color\": \"white\"}}, \"header\": {\"fill\": {\"color\": \"#C8D4E3\"}, \"line\": {\"color\": \"white\"}}, \"type\": \"table\"}]}, \"layout\": {\"annotationdefaults\": {\"arrowcolor\": \"#2a3f5f\", \"arrowhead\": 0, \"arrowwidth\": 1}, \"autotypenumbers\": \"strict\", \"coloraxis\": {\"colorbar\": {\"outlinewidth\": 0, \"ticks\": \"\"}}, \"colorscale\": {\"diverging\": [[0, \"#8e0152\"], [0.1, \"#c51b7d\"], [0.2, \"#de77ae\"], [0.3, \"#f1b6da\"], [0.4, \"#fde0ef\"], [0.5, \"#f7f7f7\"], [0.6, \"#e6f5d0\"], [0.7, \"#b8e186\"], [0.8, \"#7fbc41\"], [0.9, \"#4d9221\"], [1, \"#276419\"]], \"sequential\": [[0.0, \"#0d0887\"], [0.1111111111111111, \"#46039f\"], [0.2222222222222222, \"#7201a8\"], [0.3333333333333333, \"#9c179e\"], [0.4444444444444444, \"#bd3786\"], [0.5555555555555556, \"#d8576b\"], [0.6666666666666666, \"#ed7953\"], [0.7777777777777778, \"#fb9f3a\"], [0.8888888888888888, \"#fdca26\"], [1.0, \"#f0f921\"]], \"sequentialminus\": [[0.0, \"#0d0887\"], [0.1111111111111111, \"#46039f\"], [0.2222222222222222, \"#7201a8\"], [0.3333333333333333, \"#9c179e\"], [0.4444444444444444, \"#bd3786\"], [0.5555555555555556, \"#d8576b\"], [0.6666666666666666, \"#ed7953\"], [0.7777777777777778, \"#fb9f3a\"], [0.8888888888888888, \"#fdca26\"], [1.0, \"#f0f921\"]]}, \"colorway\": [\"#636efa\", \"#EF553B\", \"#00cc96\", \"#ab63fa\", \"#FFA15A\", \"#19d3f3\", \"#FF6692\", \"#B6E880\", \"#FF97FF\", \"#FECB52\"], \"font\": {\"color\": \"#2a3f5f\"}, \"geo\": {\"bgcolor\": \"white\", \"lakecolor\": \"white\", \"landcolor\": \"#E5ECF6\", \"showlakes\": true, \"showland\": true, \"subunitcolor\": \"white\"}, \"hoverlabel\": {\"align\": \"left\"}, \"hovermode\": \"closest\", \"mapbox\": {\"style\": \"light\"}, \"paper_bgcolor\": \"white\", \"plot_bgcolor\": \"#E5ECF6\", \"polar\": {\"angularaxis\": {\"gridcolor\": \"white\", \"linecolor\": \"white\", \"ticks\": \"\"}, \"bgcolor\": \"#E5ECF6\", \"radialaxis\": {\"gridcolor\": \"white\", \"linecolor\": \"white\", \"ticks\": \"\"}}, \"scene\": {\"xaxis\": {\"backgroundcolor\": \"#E5ECF6\", \"gridcolor\": \"white\", \"gridwidth\": 2, \"linecolor\": \"white\", \"showbackground\": true, \"ticks\": \"\", \"zerolinecolor\": \"white\"}, \"yaxis\": {\"backgroundcolor\": \"#E5ECF6\", \"gridcolor\": \"white\", \"gridwidth\": 2, \"linecolor\": \"white\", \"showbackground\": true, \"ticks\": \"\", \"zerolinecolor\": \"white\"}, \"zaxis\": {\"backgroundcolor\": \"#E5ECF6\", \"gridcolor\": \"white\", \"gridwidth\": 2, \"linecolor\": \"white\", \"showbackground\": true, \"ticks\": \"\", \"zerolinecolor\": \"white\"}}, \"shapedefaults\": {\"line\": {\"color\": \"#2a3f5f\"}}, \"ternary\": {\"aaxis\": {\"gridcolor\": \"white\", \"linecolor\": \"white\", \"ticks\": \"\"}, \"baxis\": {\"gridcolor\": \"white\", \"linecolor\": \"white\", \"ticks\": \"\"}, \"bgcolor\": \"#E5ECF6\", \"caxis\": {\"gridcolor\": \"white\", \"linecolor\": \"white\", \"ticks\": \"\"}}, \"title\": {\"x\": 0.05}, \"xaxis\": {\"automargin\": true, \"gridcolor\": \"white\", \"linecolor\": \"white\", \"ticks\": \"\", \"title\": {\"standoff\": 15}, \"zerolinecolor\": \"white\", \"zerolinewidth\": 2}, \"yaxis\": {\"automargin\": true, \"gridcolor\": \"white\", \"linecolor\": \"white\", \"ticks\": \"\", \"title\": {\"standoff\": 15}, \"zerolinecolor\": \"white\", \"zerolinewidth\": 2}}}},                        {\"responsive\": true}                    ).then(function(){\n",
       "                            \n",
       "var gd = document.getElementById('c46cba97-f2df-4d7d-a9c0-2ab1cdd6fbef');\n",
       "var x = new MutationObserver(function (mutations, observer) {{\n",
       "        var display = window.getComputedStyle(gd).display;\n",
       "        if (!display || display === 'none') {{\n",
       "            console.log([gd, 'removed!']);\n",
       "            Plotly.purge(gd);\n",
       "            observer.disconnect();\n",
       "        }}\n",
       "}});\n",
       "\n",
       "// Listen for the removal of the full notebook cells\n",
       "var notebookContainer = gd.closest('#notebook-container');\n",
       "if (notebookContainer) {{\n",
       "    x.observe(notebookContainer, {childList: true});\n",
       "}}\n",
       "\n",
       "// Listen for the clearing of the current output cell\n",
       "var outputEl = gd.closest('.output');\n",
       "if (outputEl) {{\n",
       "    x.observe(outputEl, {childList: true});\n",
       "}}\n",
       "\n",
       "                        })                };                });            </script>        </div>"
      ]
     },
     "metadata": {},
     "output_type": "display_data"
    }
   ],
   "source": [
    "div = df['AST-Total']"
   ]
  },
  {
   "cell_type": "code",
   "execution_count": 62,
   "metadata": {
    "ExecuteTime": {
     "end_time": "2021-01-21T08:32:08.195835Z",
     "start_time": "2021-01-21T08:32:08.176885Z"
    }
   },
   "outputs": [
    {
     "data": {
      "text/html": [
       "<div>\n",
       "<style scoped>\n",
       "    .dataframe tbody tr th:only-of-type {\n",
       "        vertical-align: middle;\n",
       "    }\n",
       "\n",
       "    .dataframe tbody tr th {\n",
       "        vertical-align: top;\n",
       "    }\n",
       "\n",
       "    .dataframe thead th {\n",
       "        text-align: right;\n",
       "    }\n",
       "</style>\n",
       "<table border=\"1\" class=\"dataframe\">\n",
       "  <thead>\n",
       "    <tr style=\"text-align: right;\">\n",
       "      <th></th>\n",
       "      <th>FTA-Total</th>\n",
       "      <th>FTA-PG</th>\n",
       "    </tr>\n",
       "  </thead>\n",
       "  <tbody>\n",
       "    <tr>\n",
       "      <th>0</th>\n",
       "      <td>1709</td>\n",
       "      <td>20.8</td>\n",
       "    </tr>\n",
       "    <tr>\n",
       "      <th>1</th>\n",
       "      <td>2067</td>\n",
       "      <td>25.2</td>\n",
       "    </tr>\n",
       "    <tr>\n",
       "      <th>2</th>\n",
       "      <td>1843</td>\n",
       "      <td>22.5</td>\n",
       "    </tr>\n",
       "    <tr>\n",
       "      <th>3</th>\n",
       "      <td>2014</td>\n",
       "      <td>24.6</td>\n",
       "    </tr>\n",
       "    <tr>\n",
       "      <th>4</th>\n",
       "      <td>2020</td>\n",
       "      <td>24.6</td>\n",
       "    </tr>\n",
       "    <tr>\n",
       "      <th>...</th>\n",
       "      <td>...</td>\n",
       "      <td>...</td>\n",
       "    </tr>\n",
       "    <tr>\n",
       "      <th>26</th>\n",
       "      <td>1695</td>\n",
       "      <td>20.7</td>\n",
       "    </tr>\n",
       "    <tr>\n",
       "      <th>27</th>\n",
       "      <td>1956</td>\n",
       "      <td>23.9</td>\n",
       "    </tr>\n",
       "    <tr>\n",
       "      <th>28</th>\n",
       "      <td>1694</td>\n",
       "      <td>20.7</td>\n",
       "    </tr>\n",
       "    <tr>\n",
       "      <th>29</th>\n",
       "      <td>1882</td>\n",
       "      <td>23.0</td>\n",
       "    </tr>\n",
       "    <tr>\n",
       "      <th>30</th>\n",
       "      <td>1892</td>\n",
       "      <td>23.1</td>\n",
       "    </tr>\n",
       "  </tbody>\n",
       "</table>\n",
       "<p>155 rows × 2 columns</p>\n",
       "</div>"
      ],
      "text/plain": [
       "    FTA-Total  FTA-PG\n",
       "0        1709    20.8\n",
       "1        2067    25.2\n",
       "2        1843    22.5\n",
       "3        2014    24.6\n",
       "4        2020    24.6\n",
       "..        ...     ...\n",
       "26       1695    20.7\n",
       "27       1956    23.9\n",
       "28       1694    20.7\n",
       "29       1882    23.0\n",
       "30       1892    23.1\n",
       "\n",
       "[155 rows x 2 columns]"
      ]
     },
     "execution_count": 62,
     "metadata": {},
     "output_type": "execute_result"
    }
   ],
   "source": [
    "fta"
   ]
  },
  {
   "cell_type": "code",
   "execution_count": 14,
   "metadata": {
    "ExecuteTime": {
     "end_time": "2021-01-15T08:38:16.223829Z",
     "start_time": "2021-01-15T08:38:16.217845Z"
    }
   },
   "outputs": [],
   "source": [
    "by_season = df.groupby(['Team', 'season'])"
   ]
  },
  {
   "cell_type": "code",
   "execution_count": 15,
   "metadata": {
    "ExecuteTime": {
     "end_time": "2021-01-15T08:38:16.360463Z",
     "start_time": "2021-01-15T08:38:16.227818Z"
    }
   },
   "outputs": [
    {
     "data": {
      "text/html": [
       "<div>\n",
       "<style scoped>\n",
       "    .dataframe tbody tr th:only-of-type {\n",
       "        vertical-align: middle;\n",
       "    }\n",
       "\n",
       "    .dataframe tbody tr th {\n",
       "        vertical-align: top;\n",
       "    }\n",
       "\n",
       "    .dataframe thead th {\n",
       "        text-align: right;\n",
       "    }\n",
       "</style>\n",
       "<table border=\"1\" class=\"dataframe\">\n",
       "  <thead>\n",
       "    <tr style=\"text-align: right;\">\n",
       "      <th></th>\n",
       "      <th>Team</th>\n",
       "      <th>G</th>\n",
       "      <th>MP-Total</th>\n",
       "      <th>FGM-Total</th>\n",
       "      <th>FGA-Total</th>\n",
       "      <th>FG%-Total</th>\n",
       "      <th>3PM-Total</th>\n",
       "      <th>3PA-Total</th>\n",
       "      <th>3P%-Total</th>\n",
       "      <th>2PM-Total</th>\n",
       "      <th>...</th>\n",
       "      <th>DRB-PG</th>\n",
       "      <th>TRB-PG</th>\n",
       "      <th>AST-PG</th>\n",
       "      <th>STL-PG</th>\n",
       "      <th>BLK-PG</th>\n",
       "      <th>TOV-PG</th>\n",
       "      <th>PF-PG</th>\n",
       "      <th>PTS-PG</th>\n",
       "      <th>season</th>\n",
       "      <th>made_playoffs</th>\n",
       "    </tr>\n",
       "  </thead>\n",
       "  <tbody>\n",
       "    <tr>\n",
       "      <th>0</th>\n",
       "      <td>Golden State Warriors</td>\n",
       "      <td>82</td>\n",
       "      <td>19730</td>\n",
       "      <td>3410</td>\n",
       "      <td>7137</td>\n",
       "      <td>0.478</td>\n",
       "      <td>883</td>\n",
       "      <td>2217</td>\n",
       "      <td>0.398</td>\n",
       "      <td>2527</td>\n",
       "      <td>...</td>\n",
       "      <td>34.3</td>\n",
       "      <td>44.7</td>\n",
       "      <td>27.4</td>\n",
       "      <td>9.3</td>\n",
       "      <td>6.0</td>\n",
       "      <td>14.5</td>\n",
       "      <td>19.9</td>\n",
       "      <td>110.0</td>\n",
       "      <td>2014-15</td>\n",
       "      <td>1</td>\n",
       "    </tr>\n",
       "    <tr>\n",
       "      <th>1</th>\n",
       "      <td>Los Angeles Clippers</td>\n",
       "      <td>82</td>\n",
       "      <td>19730</td>\n",
       "      <td>3228</td>\n",
       "      <td>6830</td>\n",
       "      <td>0.473</td>\n",
       "      <td>827</td>\n",
       "      <td>2202</td>\n",
       "      <td>0.376</td>\n",
       "      <td>2401</td>\n",
       "      <td>...</td>\n",
       "      <td>33.1</td>\n",
       "      <td>42.6</td>\n",
       "      <td>24.8</td>\n",
       "      <td>7.8</td>\n",
       "      <td>5.0</td>\n",
       "      <td>12.3</td>\n",
       "      <td>21.3</td>\n",
       "      <td>106.7</td>\n",
       "      <td>2014-15</td>\n",
       "      <td>1</td>\n",
       "    </tr>\n",
       "    <tr>\n",
       "      <th>2</th>\n",
       "      <td>Dallas Mavericks</td>\n",
       "      <td>82</td>\n",
       "      <td>19880</td>\n",
       "      <td>3255</td>\n",
       "      <td>7036</td>\n",
       "      <td>0.463</td>\n",
       "      <td>732</td>\n",
       "      <td>2082</td>\n",
       "      <td>0.352</td>\n",
       "      <td>2523</td>\n",
       "      <td>...</td>\n",
       "      <td>31.8</td>\n",
       "      <td>42.3</td>\n",
       "      <td>22.5</td>\n",
       "      <td>8.1</td>\n",
       "      <td>4.5</td>\n",
       "      <td>13.0</td>\n",
       "      <td>20.0</td>\n",
       "      <td>105.2</td>\n",
       "      <td>2014-15</td>\n",
       "      <td>1</td>\n",
       "    </tr>\n",
       "    <tr>\n",
       "      <th>3</th>\n",
       "      <td>Toronto Raptors</td>\n",
       "      <td>82</td>\n",
       "      <td>19855</td>\n",
       "      <td>3108</td>\n",
       "      <td>6829</td>\n",
       "      <td>0.455</td>\n",
       "      <td>726</td>\n",
       "      <td>2060</td>\n",
       "      <td>0.352</td>\n",
       "      <td>2382</td>\n",
       "      <td>...</td>\n",
       "      <td>30.8</td>\n",
       "      <td>41.5</td>\n",
       "      <td>20.7</td>\n",
       "      <td>7.5</td>\n",
       "      <td>4.4</td>\n",
       "      <td>12.9</td>\n",
       "      <td>20.9</td>\n",
       "      <td>104.0</td>\n",
       "      <td>2014-15</td>\n",
       "      <td>1</td>\n",
       "    </tr>\n",
       "    <tr>\n",
       "      <th>4</th>\n",
       "      <td>Oklahoma City Thunder</td>\n",
       "      <td>82</td>\n",
       "      <td>19830</td>\n",
       "      <td>3184</td>\n",
       "      <td>7119</td>\n",
       "      <td>0.447</td>\n",
       "      <td>632</td>\n",
       "      <td>1864</td>\n",
       "      <td>0.339</td>\n",
       "      <td>2552</td>\n",
       "      <td>...</td>\n",
       "      <td>34.7</td>\n",
       "      <td>47.5</td>\n",
       "      <td>20.5</td>\n",
       "      <td>7.3</td>\n",
       "      <td>5.5</td>\n",
       "      <td>14.7</td>\n",
       "      <td>22.3</td>\n",
       "      <td>104.0</td>\n",
       "      <td>2014-15</td>\n",
       "      <td>0</td>\n",
       "    </tr>\n",
       "    <tr>\n",
       "      <th>...</th>\n",
       "      <td>...</td>\n",
       "      <td>...</td>\n",
       "      <td>...</td>\n",
       "      <td>...</td>\n",
       "      <td>...</td>\n",
       "      <td>...</td>\n",
       "      <td>...</td>\n",
       "      <td>...</td>\n",
       "      <td>...</td>\n",
       "      <td>...</td>\n",
       "      <td>...</td>\n",
       "      <td>...</td>\n",
       "      <td>...</td>\n",
       "      <td>...</td>\n",
       "      <td>...</td>\n",
       "      <td>...</td>\n",
       "      <td>...</td>\n",
       "      <td>...</td>\n",
       "      <td>...</td>\n",
       "      <td>...</td>\n",
       "      <td>...</td>\n",
       "    </tr>\n",
       "    <tr>\n",
       "      <th>26</th>\n",
       "      <td>Chicago Bulls</td>\n",
       "      <td>82</td>\n",
       "      <td>19905</td>\n",
       "      <td>3266</td>\n",
       "      <td>7205</td>\n",
       "      <td>0.453</td>\n",
       "      <td>745</td>\n",
       "      <td>2123</td>\n",
       "      <td>0.351</td>\n",
       "      <td>2521</td>\n",
       "      <td>...</td>\n",
       "      <td>34.1</td>\n",
       "      <td>42.9</td>\n",
       "      <td>21.9</td>\n",
       "      <td>7.4</td>\n",
       "      <td>4.3</td>\n",
       "      <td>14.1</td>\n",
       "      <td>20.3</td>\n",
       "      <td>104.9</td>\n",
       "      <td>2018-19</td>\n",
       "      <td>0</td>\n",
       "    </tr>\n",
       "    <tr>\n",
       "      <th>27</th>\n",
       "      <td>New York Knicks</td>\n",
       "      <td>82</td>\n",
       "      <td>19780</td>\n",
       "      <td>3134</td>\n",
       "      <td>7241</td>\n",
       "      <td>0.433</td>\n",
       "      <td>823</td>\n",
       "      <td>2421</td>\n",
       "      <td>0.340</td>\n",
       "      <td>2311</td>\n",
       "      <td>...</td>\n",
       "      <td>34.3</td>\n",
       "      <td>44.7</td>\n",
       "      <td>20.1</td>\n",
       "      <td>6.8</td>\n",
       "      <td>5.1</td>\n",
       "      <td>14.0</td>\n",
       "      <td>20.9</td>\n",
       "      <td>104.6</td>\n",
       "      <td>2018-19</td>\n",
       "      <td>0</td>\n",
       "    </tr>\n",
       "    <tr>\n",
       "      <th>28</th>\n",
       "      <td>Cleveland Cavaliers</td>\n",
       "      <td>82</td>\n",
       "      <td>19755</td>\n",
       "      <td>3189</td>\n",
       "      <td>7184</td>\n",
       "      <td>0.444</td>\n",
       "      <td>847</td>\n",
       "      <td>2388</td>\n",
       "      <td>0.355</td>\n",
       "      <td>2342</td>\n",
       "      <td>...</td>\n",
       "      <td>31.9</td>\n",
       "      <td>42.7</td>\n",
       "      <td>20.7</td>\n",
       "      <td>6.5</td>\n",
       "      <td>2.4</td>\n",
       "      <td>13.5</td>\n",
       "      <td>20.0</td>\n",
       "      <td>104.5</td>\n",
       "      <td>2018-19</td>\n",
       "      <td>0</td>\n",
       "    </tr>\n",
       "    <tr>\n",
       "      <th>29</th>\n",
       "      <td>Memphis Grizzlies</td>\n",
       "      <td>82</td>\n",
       "      <td>19880</td>\n",
       "      <td>3113</td>\n",
       "      <td>6924</td>\n",
       "      <td>0.450</td>\n",
       "      <td>811</td>\n",
       "      <td>2368</td>\n",
       "      <td>0.342</td>\n",
       "      <td>2302</td>\n",
       "      <td>...</td>\n",
       "      <td>33.0</td>\n",
       "      <td>41.8</td>\n",
       "      <td>23.9</td>\n",
       "      <td>8.3</td>\n",
       "      <td>5.5</td>\n",
       "      <td>14.0</td>\n",
       "      <td>22.0</td>\n",
       "      <td>103.5</td>\n",
       "      <td>2018-19</td>\n",
       "      <td>0</td>\n",
       "    </tr>\n",
       "    <tr>\n",
       "      <th>30</th>\n",
       "      <td>League Average</td>\n",
       "      <td>82</td>\n",
       "      <td>19815</td>\n",
       "      <td>3369</td>\n",
       "      <td>7315</td>\n",
       "      <td>0.461</td>\n",
       "      <td>932</td>\n",
       "      <td>2625</td>\n",
       "      <td>0.355</td>\n",
       "      <td>2437</td>\n",
       "      <td>...</td>\n",
       "      <td>34.8</td>\n",
       "      <td>45.2</td>\n",
       "      <td>24.6</td>\n",
       "      <td>7.6</td>\n",
       "      <td>5.0</td>\n",
       "      <td>14.1</td>\n",
       "      <td>20.9</td>\n",
       "      <td>111.2</td>\n",
       "      <td>2018-19</td>\n",
       "      <td>0</td>\n",
       "    </tr>\n",
       "  </tbody>\n",
       "</table>\n",
       "<p>155 rows × 48 columns</p>\n",
       "</div>"
      ],
      "text/plain": [
       "                     Team   G  MP-Total  FGM-Total  FGA-Total  FG%-Total  \\\n",
       "0   Golden State Warriors  82     19730       3410       7137      0.478   \n",
       "1    Los Angeles Clippers  82     19730       3228       6830      0.473   \n",
       "2        Dallas Mavericks  82     19880       3255       7036      0.463   \n",
       "3         Toronto Raptors  82     19855       3108       6829      0.455   \n",
       "4   Oklahoma City Thunder  82     19830       3184       7119      0.447   \n",
       "..                    ...  ..       ...        ...        ...        ...   \n",
       "26          Chicago Bulls  82     19905       3266       7205      0.453   \n",
       "27        New York Knicks  82     19780       3134       7241      0.433   \n",
       "28    Cleveland Cavaliers  82     19755       3189       7184      0.444   \n",
       "29      Memphis Grizzlies  82     19880       3113       6924      0.450   \n",
       "30         League Average  82     19815       3369       7315      0.461   \n",
       "\n",
       "    3PM-Total  3PA-Total  3P%-Total  2PM-Total  ...  DRB-PG  TRB-PG  AST-PG  \\\n",
       "0         883       2217      0.398       2527  ...    34.3    44.7    27.4   \n",
       "1         827       2202      0.376       2401  ...    33.1    42.6    24.8   \n",
       "2         732       2082      0.352       2523  ...    31.8    42.3    22.5   \n",
       "3         726       2060      0.352       2382  ...    30.8    41.5    20.7   \n",
       "4         632       1864      0.339       2552  ...    34.7    47.5    20.5   \n",
       "..        ...        ...        ...        ...  ...     ...     ...     ...   \n",
       "26        745       2123      0.351       2521  ...    34.1    42.9    21.9   \n",
       "27        823       2421      0.340       2311  ...    34.3    44.7    20.1   \n",
       "28        847       2388      0.355       2342  ...    31.9    42.7    20.7   \n",
       "29        811       2368      0.342       2302  ...    33.0    41.8    23.9   \n",
       "30        932       2625      0.355       2437  ...    34.8    45.2    24.6   \n",
       "\n",
       "    STL-PG  BLK-PG  TOV-PG  PF-PG  PTS-PG   season  made_playoffs  \n",
       "0      9.3     6.0    14.5   19.9   110.0  2014-15              1  \n",
       "1      7.8     5.0    12.3   21.3   106.7  2014-15              1  \n",
       "2      8.1     4.5    13.0   20.0   105.2  2014-15              1  \n",
       "3      7.5     4.4    12.9   20.9   104.0  2014-15              1  \n",
       "4      7.3     5.5    14.7   22.3   104.0  2014-15              0  \n",
       "..     ...     ...     ...    ...     ...      ...            ...  \n",
       "26     7.4     4.3    14.1   20.3   104.9  2018-19              0  \n",
       "27     6.8     5.1    14.0   20.9   104.6  2018-19              0  \n",
       "28     6.5     2.4    13.5   20.0   104.5  2018-19              0  \n",
       "29     8.3     5.5    14.0   22.0   103.5  2018-19              0  \n",
       "30     7.6     5.0    14.1   20.9   111.2  2018-19              0  \n",
       "\n",
       "[155 rows x 48 columns]"
      ]
     },
     "execution_count": 15,
     "metadata": {},
     "output_type": "execute_result"
    }
   ],
   "source": [
    "by_season.head()"
   ]
  },
  {
   "cell_type": "code",
   "execution_count": 16,
   "metadata": {
    "ExecuteTime": {
     "end_time": "2021-01-15T08:38:16.370439Z",
     "start_time": "2021-01-15T08:38:16.363455Z"
    }
   },
   "outputs": [],
   "source": [
    "headers = ['Team', 'Match-Up', 'Game-Date', 'Season', 'W/L', 'Min', 'PTS', 'FGM', 'FGA', 'FG%', '3PM', '3PA', '3P%'\n",
    "          'FTM', 'FTA', 'FT%', 'OREB', 'DREB', 'REB', 'AST', 'TOV', 'STL', 'BLK', 'PF', '+/-']"
   ]
  },
  {
   "cell_type": "code",
   "execution_count": 17,
   "metadata": {
    "ExecuteTime": {
     "end_time": "2021-01-15T08:38:16.493112Z",
     "start_time": "2021-01-15T08:38:16.383402Z"
    }
   },
   "outputs": [
    {
     "data": {
      "text/html": [
       "<div>\n",
       "<style scoped>\n",
       "    .dataframe tbody tr th:only-of-type {\n",
       "        vertical-align: middle;\n",
       "    }\n",
       "\n",
       "    .dataframe tbody tr th {\n",
       "        vertical-align: top;\n",
       "    }\n",
       "\n",
       "    .dataframe thead th {\n",
       "        text-align: right;\n",
       "    }\n",
       "</style>\n",
       "<table border=\"1\" class=\"dataframe\">\n",
       "  <thead>\n",
       "    <tr style=\"text-align: right;\">\n",
       "      <th></th>\n",
       "      <th>Team</th>\n",
       "      <th>Match-Up</th>\n",
       "      <th>Game-Date</th>\n",
       "      <th>Season</th>\n",
       "      <th>W/L</th>\n",
       "      <th>Min</th>\n",
       "      <th>PTS</th>\n",
       "      <th>FGM</th>\n",
       "      <th>FGA</th>\n",
       "      <th>FG%</th>\n",
       "      <th>...</th>\n",
       "      <th>FT%</th>\n",
       "      <th>OREB</th>\n",
       "      <th>DREB</th>\n",
       "      <th>REB</th>\n",
       "      <th>AST</th>\n",
       "      <th>TOV</th>\n",
       "      <th>STL</th>\n",
       "      <th>BLK</th>\n",
       "      <th>PF</th>\n",
       "      <th>+/-</th>\n",
       "    </tr>\n",
       "  </thead>\n",
       "  <tbody>\n",
       "    <tr>\n",
       "      <th>0</th>\n",
       "      <td>\\nBKN\\n</td>\n",
       "      <td>\\nBKN vs. MIL\\n</td>\n",
       "      <td>\\n03/20/2015\\n</td>\n",
       "      <td>NaN</td>\n",
       "      <td>W</td>\n",
       "      <td>63</td>\n",
       "      <td>129</td>\n",
       "      <td>46</td>\n",
       "      <td>107</td>\n",
       "      <td>43.0</td>\n",
       "      <td>...</td>\n",
       "      <td>34</td>\n",
       "      <td>76.5</td>\n",
       "      <td>16</td>\n",
       "      <td>37</td>\n",
       "      <td>53</td>\n",
       "      <td>31</td>\n",
       "      <td>15</td>\n",
       "      <td>9</td>\n",
       "      <td>7</td>\n",
       "      <td>25</td>\n",
       "    </tr>\n",
       "    <tr>\n",
       "      <th>1</th>\n",
       "      <td>\\nMIL\\n</td>\n",
       "      <td>\\nMIL @ BKN\\n</td>\n",
       "      <td>\\n03/20/2015\\n</td>\n",
       "      <td>NaN</td>\n",
       "      <td>L</td>\n",
       "      <td>63</td>\n",
       "      <td>127</td>\n",
       "      <td>49</td>\n",
       "      <td>129</td>\n",
       "      <td>38.0</td>\n",
       "      <td>...</td>\n",
       "      <td>29</td>\n",
       "      <td>72.4</td>\n",
       "      <td>38</td>\n",
       "      <td>43</td>\n",
       "      <td>81</td>\n",
       "      <td>23</td>\n",
       "      <td>18</td>\n",
       "      <td>11</td>\n",
       "      <td>9</td>\n",
       "      <td>31</td>\n",
       "    </tr>\n",
       "    <tr>\n",
       "      <th>2</th>\n",
       "      <td>\\nSAS\\n</td>\n",
       "      <td>\\nSAS vs. POR\\n</td>\n",
       "      <td>\\n12/19/2014\\n</td>\n",
       "      <td>NaN</td>\n",
       "      <td>L</td>\n",
       "      <td>63</td>\n",
       "      <td>119</td>\n",
       "      <td>45</td>\n",
       "      <td>109</td>\n",
       "      <td>41.3</td>\n",
       "      <td>...</td>\n",
       "      <td>26</td>\n",
       "      <td>80.8</td>\n",
       "      <td>17</td>\n",
       "      <td>43</td>\n",
       "      <td>60</td>\n",
       "      <td>24</td>\n",
       "      <td>20</td>\n",
       "      <td>8</td>\n",
       "      <td>4</td>\n",
       "      <td>22</td>\n",
       "    </tr>\n",
       "    <tr>\n",
       "      <th>3</th>\n",
       "      <td>\\nPOR\\n</td>\n",
       "      <td>\\nPOR @ SAS\\n</td>\n",
       "      <td>\\n12/19/2014\\n</td>\n",
       "      <td>NaN</td>\n",
       "      <td>W</td>\n",
       "      <td>63</td>\n",
       "      <td>129</td>\n",
       "      <td>47</td>\n",
       "      <td>110</td>\n",
       "      <td>42.7</td>\n",
       "      <td>...</td>\n",
       "      <td>23</td>\n",
       "      <td>95.7</td>\n",
       "      <td>15</td>\n",
       "      <td>43</td>\n",
       "      <td>58</td>\n",
       "      <td>18</td>\n",
       "      <td>14</td>\n",
       "      <td>12</td>\n",
       "      <td>5</td>\n",
       "      <td>24</td>\n",
       "    </tr>\n",
       "    <tr>\n",
       "      <th>4</th>\n",
       "      <td>\\nMEM\\n</td>\n",
       "      <td>\\nMEM @ SAS\\n</td>\n",
       "      <td>\\n12/17/2014\\n</td>\n",
       "      <td>NaN</td>\n",
       "      <td>W</td>\n",
       "      <td>63</td>\n",
       "      <td>117</td>\n",
       "      <td>48</td>\n",
       "      <td>107</td>\n",
       "      <td>44.9</td>\n",
       "      <td>...</td>\n",
       "      <td>14</td>\n",
       "      <td>78.6</td>\n",
       "      <td>13</td>\n",
       "      <td>45</td>\n",
       "      <td>58</td>\n",
       "      <td>29</td>\n",
       "      <td>12</td>\n",
       "      <td>12</td>\n",
       "      <td>6</td>\n",
       "      <td>27</td>\n",
       "    </tr>\n",
       "    <tr>\n",
       "      <th>5</th>\n",
       "      <td>\\nSAS\\n</td>\n",
       "      <td>\\nSAS vs. MEM\\n</td>\n",
       "      <td>\\n12/17/2014\\n</td>\n",
       "      <td>NaN</td>\n",
       "      <td>L</td>\n",
       "      <td>63</td>\n",
       "      <td>116</td>\n",
       "      <td>43</td>\n",
       "      <td>105</td>\n",
       "      <td>41.0</td>\n",
       "      <td>...</td>\n",
       "      <td>27</td>\n",
       "      <td>48.1</td>\n",
       "      <td>19</td>\n",
       "      <td>41</td>\n",
       "      <td>60</td>\n",
       "      <td>31</td>\n",
       "      <td>16</td>\n",
       "      <td>6</td>\n",
       "      <td>11</td>\n",
       "      <td>16</td>\n",
       "    </tr>\n",
       "    <tr>\n",
       "      <th>6</th>\n",
       "      <td>\\nBKN\\n</td>\n",
       "      <td>\\nBKN vs. MIL\\n</td>\n",
       "      <td>\\n11/19/2014\\n</td>\n",
       "      <td>NaN</td>\n",
       "      <td>L</td>\n",
       "      <td>63</td>\n",
       "      <td>118</td>\n",
       "      <td>44</td>\n",
       "      <td>92</td>\n",
       "      <td>47.8</td>\n",
       "      <td>...</td>\n",
       "      <td>29</td>\n",
       "      <td>72.4</td>\n",
       "      <td>10</td>\n",
       "      <td>39</td>\n",
       "      <td>49</td>\n",
       "      <td>26</td>\n",
       "      <td>22</td>\n",
       "      <td>7</td>\n",
       "      <td>6</td>\n",
       "      <td>25</td>\n",
       "    </tr>\n",
       "    <tr>\n",
       "      <th>7</th>\n",
       "      <td>\\nMIL\\n</td>\n",
       "      <td>\\nMIL @ BKN\\n</td>\n",
       "      <td>\\n11/19/2014\\n</td>\n",
       "      <td>NaN</td>\n",
       "      <td>W</td>\n",
       "      <td>63</td>\n",
       "      <td>122</td>\n",
       "      <td>48</td>\n",
       "      <td>108</td>\n",
       "      <td>44.4</td>\n",
       "      <td>...</td>\n",
       "      <td>28</td>\n",
       "      <td>75.0</td>\n",
       "      <td>16</td>\n",
       "      <td>35</td>\n",
       "      <td>51</td>\n",
       "      <td>23</td>\n",
       "      <td>15</td>\n",
       "      <td>12</td>\n",
       "      <td>4</td>\n",
       "      <td>28</td>\n",
       "    </tr>\n",
       "    <tr>\n",
       "      <th>8</th>\n",
       "      <td>\\nIND\\n</td>\n",
       "      <td>\\nIND vs. WAS\\n</td>\n",
       "      <td>\\n04/14/2015\\n</td>\n",
       "      <td>NaN</td>\n",
       "      <td>W</td>\n",
       "      <td>58</td>\n",
       "      <td>99</td>\n",
       "      <td>40</td>\n",
       "      <td>105</td>\n",
       "      <td>38.1</td>\n",
       "      <td>...</td>\n",
       "      <td>17</td>\n",
       "      <td>58.8</td>\n",
       "      <td>14</td>\n",
       "      <td>42</td>\n",
       "      <td>56</td>\n",
       "      <td>22</td>\n",
       "      <td>15</td>\n",
       "      <td>5</td>\n",
       "      <td>9</td>\n",
       "      <td>17</td>\n",
       "    </tr>\n",
       "    <tr>\n",
       "      <th>9</th>\n",
       "      <td>\\nWAS\\n</td>\n",
       "      <td>\\nWAS @ IND\\n</td>\n",
       "      <td>\\n04/14/2015\\n</td>\n",
       "      <td>NaN</td>\n",
       "      <td>L</td>\n",
       "      <td>58</td>\n",
       "      <td>95</td>\n",
       "      <td>37</td>\n",
       "      <td>104</td>\n",
       "      <td>35.6</td>\n",
       "      <td>...</td>\n",
       "      <td>17</td>\n",
       "      <td>82.4</td>\n",
       "      <td>13</td>\n",
       "      <td>46</td>\n",
       "      <td>59</td>\n",
       "      <td>22</td>\n",
       "      <td>13</td>\n",
       "      <td>8</td>\n",
       "      <td>2</td>\n",
       "      <td>22</td>\n",
       "    </tr>\n",
       "  </tbody>\n",
       "</table>\n",
       "<p>10 rows × 24 columns</p>\n",
       "</div>"
      ],
      "text/plain": [
       "      Team         Match-Up       Game-Date  Season W/L  Min  PTS  FGM  FGA  \\\n",
       "0  \\nBKN\\n  \\nBKN vs. MIL\\n  \\n03/20/2015\\n     NaN   W   63  129   46  107   \n",
       "1  \\nMIL\\n    \\nMIL @ BKN\\n  \\n03/20/2015\\n     NaN   L   63  127   49  129   \n",
       "2  \\nSAS\\n  \\nSAS vs. POR\\n  \\n12/19/2014\\n     NaN   L   63  119   45  109   \n",
       "3  \\nPOR\\n    \\nPOR @ SAS\\n  \\n12/19/2014\\n     NaN   W   63  129   47  110   \n",
       "4  \\nMEM\\n    \\nMEM @ SAS\\n  \\n12/17/2014\\n     NaN   W   63  117   48  107   \n",
       "5  \\nSAS\\n  \\nSAS vs. MEM\\n  \\n12/17/2014\\n     NaN   L   63  116   43  105   \n",
       "6  \\nBKN\\n  \\nBKN vs. MIL\\n  \\n11/19/2014\\n     NaN   L   63  118   44   92   \n",
       "7  \\nMIL\\n    \\nMIL @ BKN\\n  \\n11/19/2014\\n     NaN   W   63  122   48  108   \n",
       "8  \\nIND\\n  \\nIND vs. WAS\\n  \\n04/14/2015\\n     NaN   W   58   99   40  105   \n",
       "9  \\nWAS\\n    \\nWAS @ IND\\n  \\n04/14/2015\\n     NaN   L   58   95   37  104   \n",
       "\n",
       "    FG%  ...  FT%  OREB  DREB  REB  AST  TOV  STL  BLK  PF  +/-  \n",
       "0  43.0  ...   34  76.5    16   37   53   31   15    9   7   25  \n",
       "1  38.0  ...   29  72.4    38   43   81   23   18   11   9   31  \n",
       "2  41.3  ...   26  80.8    17   43   60   24   20    8   4   22  \n",
       "3  42.7  ...   23  95.7    15   43   58   18   14   12   5   24  \n",
       "4  44.9  ...   14  78.6    13   45   58   29   12   12   6   27  \n",
       "5  41.0  ...   27  48.1    19   41   60   31   16    6  11   16  \n",
       "6  47.8  ...   29  72.4    10   39   49   26   22    7   6   25  \n",
       "7  44.4  ...   28  75.0    16   35   51   23   15   12   4   28  \n",
       "8  38.1  ...   17  58.8    14   42   56   22   15    5   9   17  \n",
       "9  35.6  ...   17  82.4    13   46   59   22   13    8   2   22  \n",
       "\n",
       "[10 rows x 24 columns]"
      ]
     },
     "execution_count": 17,
     "metadata": {},
     "output_type": "execute_result"
    }
   ],
   "source": [
    "boxscores_2014 = pd.read_csv('data/totals_2014-15.csv', names=headers, skiprows=1, index_col=False)\n",
    "boxscores_2014.head(10)"
   ]
  },
  {
   "cell_type": "code",
   "execution_count": 18,
   "metadata": {
    "ExecuteTime": {
     "end_time": "2021-01-15T08:38:16.524026Z",
     "start_time": "2021-01-15T08:38:16.496101Z"
    }
   },
   "outputs": [
    {
     "name": "stdout",
     "output_type": "stream",
     "text": [
      "<class 'pandas.core.frame.DataFrame'>\n",
      "RangeIndex: 2460 entries, 0 to 2459\n",
      "Data columns (total 24 columns):\n",
      " #   Column     Non-Null Count  Dtype  \n",
      "---  ------     --------------  -----  \n",
      " 0   Team       2460 non-null   object \n",
      " 1   Match-Up   2460 non-null   object \n",
      " 2   Game-Date  2460 non-null   object \n",
      " 3   Season     0 non-null      float64\n",
      " 4   W/L        2460 non-null   object \n",
      " 5   Min        2460 non-null   int64  \n",
      " 6   PTS        2460 non-null   int64  \n",
      " 7   FGM        2460 non-null   int64  \n",
      " 8   FGA        2460 non-null   int64  \n",
      " 9   FG%        2460 non-null   float64\n",
      " 10  3PM        2460 non-null   int64  \n",
      " 11  3PA        2460 non-null   int64  \n",
      " 12  3P%FTM     2460 non-null   float64\n",
      " 13  FTA        2460 non-null   int64  \n",
      " 14  FT%        2460 non-null   int64  \n",
      " 15  OREB       2460 non-null   float64\n",
      " 16  DREB       2460 non-null   int64  \n",
      " 17  REB        2460 non-null   int64  \n",
      " 18  AST        2460 non-null   int64  \n",
      " 19  TOV        2460 non-null   int64  \n",
      " 20  STL        2460 non-null   int64  \n",
      " 21  BLK        2460 non-null   int64  \n",
      " 22  PF         2460 non-null   int64  \n",
      " 23  +/-        2460 non-null   int64  \n",
      "dtypes: float64(4), int64(16), object(4)\n",
      "memory usage: 461.4+ KB\n"
     ]
    }
   ],
   "source": [
    "boxscores_2014.info()"
   ]
  },
  {
   "cell_type": "code",
   "execution_count": 19,
   "metadata": {
    "ExecuteTime": {
     "end_time": "2021-01-15T08:38:16.572896Z",
     "start_time": "2021-01-15T08:38:16.527018Z"
    }
   },
   "outputs": [],
   "source": [
    "boxscores_2014 = boxscores_2014.replace('\\n','', regex=True)"
   ]
  },
  {
   "cell_type": "code",
   "execution_count": 20,
   "metadata": {
    "ExecuteTime": {
     "end_time": "2021-01-15T08:38:16.664650Z",
     "start_time": "2021-01-15T08:38:16.576891Z"
    }
   },
   "outputs": [
    {
     "data": {
      "text/html": [
       "<div>\n",
       "<style scoped>\n",
       "    .dataframe tbody tr th:only-of-type {\n",
       "        vertical-align: middle;\n",
       "    }\n",
       "\n",
       "    .dataframe tbody tr th {\n",
       "        vertical-align: top;\n",
       "    }\n",
       "\n",
       "    .dataframe thead th {\n",
       "        text-align: right;\n",
       "    }\n",
       "</style>\n",
       "<table border=\"1\" class=\"dataframe\">\n",
       "  <thead>\n",
       "    <tr style=\"text-align: right;\">\n",
       "      <th></th>\n",
       "      <th>Team</th>\n",
       "      <th>Match-Up</th>\n",
       "      <th>Game-Date</th>\n",
       "      <th>Season</th>\n",
       "      <th>W/L</th>\n",
       "      <th>Min</th>\n",
       "      <th>PTS</th>\n",
       "      <th>FGM</th>\n",
       "      <th>FGA</th>\n",
       "      <th>FG%</th>\n",
       "      <th>...</th>\n",
       "      <th>FT%</th>\n",
       "      <th>OREB</th>\n",
       "      <th>DREB</th>\n",
       "      <th>REB</th>\n",
       "      <th>AST</th>\n",
       "      <th>TOV</th>\n",
       "      <th>STL</th>\n",
       "      <th>BLK</th>\n",
       "      <th>PF</th>\n",
       "      <th>+/-</th>\n",
       "    </tr>\n",
       "  </thead>\n",
       "  <tbody>\n",
       "    <tr>\n",
       "      <th>0</th>\n",
       "      <td>BKN</td>\n",
       "      <td>BKN vs. MIL</td>\n",
       "      <td>03/20/2015</td>\n",
       "      <td>NaN</td>\n",
       "      <td>W</td>\n",
       "      <td>63</td>\n",
       "      <td>129</td>\n",
       "      <td>46</td>\n",
       "      <td>107</td>\n",
       "      <td>43.0</td>\n",
       "      <td>...</td>\n",
       "      <td>34</td>\n",
       "      <td>76.5</td>\n",
       "      <td>16</td>\n",
       "      <td>37</td>\n",
       "      <td>53</td>\n",
       "      <td>31</td>\n",
       "      <td>15</td>\n",
       "      <td>9</td>\n",
       "      <td>7</td>\n",
       "      <td>25</td>\n",
       "    </tr>\n",
       "    <tr>\n",
       "      <th>1</th>\n",
       "      <td>MIL</td>\n",
       "      <td>MIL @ BKN</td>\n",
       "      <td>03/20/2015</td>\n",
       "      <td>NaN</td>\n",
       "      <td>L</td>\n",
       "      <td>63</td>\n",
       "      <td>127</td>\n",
       "      <td>49</td>\n",
       "      <td>129</td>\n",
       "      <td>38.0</td>\n",
       "      <td>...</td>\n",
       "      <td>29</td>\n",
       "      <td>72.4</td>\n",
       "      <td>38</td>\n",
       "      <td>43</td>\n",
       "      <td>81</td>\n",
       "      <td>23</td>\n",
       "      <td>18</td>\n",
       "      <td>11</td>\n",
       "      <td>9</td>\n",
       "      <td>31</td>\n",
       "    </tr>\n",
       "    <tr>\n",
       "      <th>2</th>\n",
       "      <td>SAS</td>\n",
       "      <td>SAS vs. POR</td>\n",
       "      <td>12/19/2014</td>\n",
       "      <td>NaN</td>\n",
       "      <td>L</td>\n",
       "      <td>63</td>\n",
       "      <td>119</td>\n",
       "      <td>45</td>\n",
       "      <td>109</td>\n",
       "      <td>41.3</td>\n",
       "      <td>...</td>\n",
       "      <td>26</td>\n",
       "      <td>80.8</td>\n",
       "      <td>17</td>\n",
       "      <td>43</td>\n",
       "      <td>60</td>\n",
       "      <td>24</td>\n",
       "      <td>20</td>\n",
       "      <td>8</td>\n",
       "      <td>4</td>\n",
       "      <td>22</td>\n",
       "    </tr>\n",
       "    <tr>\n",
       "      <th>3</th>\n",
       "      <td>POR</td>\n",
       "      <td>POR @ SAS</td>\n",
       "      <td>12/19/2014</td>\n",
       "      <td>NaN</td>\n",
       "      <td>W</td>\n",
       "      <td>63</td>\n",
       "      <td>129</td>\n",
       "      <td>47</td>\n",
       "      <td>110</td>\n",
       "      <td>42.7</td>\n",
       "      <td>...</td>\n",
       "      <td>23</td>\n",
       "      <td>95.7</td>\n",
       "      <td>15</td>\n",
       "      <td>43</td>\n",
       "      <td>58</td>\n",
       "      <td>18</td>\n",
       "      <td>14</td>\n",
       "      <td>12</td>\n",
       "      <td>5</td>\n",
       "      <td>24</td>\n",
       "    </tr>\n",
       "    <tr>\n",
       "      <th>4</th>\n",
       "      <td>MEM</td>\n",
       "      <td>MEM @ SAS</td>\n",
       "      <td>12/17/2014</td>\n",
       "      <td>NaN</td>\n",
       "      <td>W</td>\n",
       "      <td>63</td>\n",
       "      <td>117</td>\n",
       "      <td>48</td>\n",
       "      <td>107</td>\n",
       "      <td>44.9</td>\n",
       "      <td>...</td>\n",
       "      <td>14</td>\n",
       "      <td>78.6</td>\n",
       "      <td>13</td>\n",
       "      <td>45</td>\n",
       "      <td>58</td>\n",
       "      <td>29</td>\n",
       "      <td>12</td>\n",
       "      <td>12</td>\n",
       "      <td>6</td>\n",
       "      <td>27</td>\n",
       "    </tr>\n",
       "  </tbody>\n",
       "</table>\n",
       "<p>5 rows × 24 columns</p>\n",
       "</div>"
      ],
      "text/plain": [
       "  Team     Match-Up   Game-Date  Season W/L  Min  PTS  FGM  FGA   FG%  ...  \\\n",
       "0  BKN  BKN vs. MIL  03/20/2015     NaN   W   63  129   46  107  43.0  ...   \n",
       "1  MIL    MIL @ BKN  03/20/2015     NaN   L   63  127   49  129  38.0  ...   \n",
       "2  SAS  SAS vs. POR  12/19/2014     NaN   L   63  119   45  109  41.3  ...   \n",
       "3  POR    POR @ SAS  12/19/2014     NaN   W   63  129   47  110  42.7  ...   \n",
       "4  MEM    MEM @ SAS  12/17/2014     NaN   W   63  117   48  107  44.9  ...   \n",
       "\n",
       "   FT%  OREB  DREB  REB  AST  TOV  STL  BLK  PF  +/-  \n",
       "0   34  76.5    16   37   53   31   15    9   7   25  \n",
       "1   29  72.4    38   43   81   23   18   11   9   31  \n",
       "2   26  80.8    17   43   60   24   20    8   4   22  \n",
       "3   23  95.7    15   43   58   18   14   12   5   24  \n",
       "4   14  78.6    13   45   58   29   12   12   6   27  \n",
       "\n",
       "[5 rows x 24 columns]"
      ]
     },
     "execution_count": 20,
     "metadata": {},
     "output_type": "execute_result"
    }
   ],
   "source": [
    "boxscores_2014.head()"
   ]
  },
  {
   "cell_type": "code",
   "execution_count": 21,
   "metadata": {
    "ExecuteTime": {
     "end_time": "2021-01-15T08:38:16.677633Z",
     "start_time": "2021-01-15T08:38:16.669639Z"
    }
   },
   "outputs": [
    {
     "data": {
      "text/plain": [
       "(2460, 24)"
      ]
     },
     "execution_count": 21,
     "metadata": {},
     "output_type": "execute_result"
    }
   ],
   "source": [
    "boxscores_2014.shape"
   ]
  },
  {
   "cell_type": "code",
   "execution_count": 22,
   "metadata": {
    "ExecuteTime": {
     "end_time": "2021-01-15T08:38:16.697563Z",
     "start_time": "2021-01-15T08:38:16.682603Z"
    }
   },
   "outputs": [
    {
     "data": {
      "text/plain": [
       "DEN    82\n",
       "SAC    82\n",
       "BKN    82\n",
       "PHI    82\n",
       "DET    82\n",
       "WAS    82\n",
       "GSW    82\n",
       "HOU    82\n",
       "MIL    82\n",
       "ATL    82\n",
       "PHX    82\n",
       "UTA    82\n",
       "MIN    82\n",
       "NOP    82\n",
       "DAL    82\n",
       "LAL    82\n",
       "SAS    82\n",
       "NYK    82\n",
       "CHA    82\n",
       "ORL    82\n",
       "MEM    82\n",
       "CLE    82\n",
       "POR    82\n",
       "CHI    82\n",
       "MIA    82\n",
       "BOS    82\n",
       "TOR    82\n",
       "IND    82\n",
       "LAC    82\n",
       "OKC    82\n",
       "Name: Team, dtype: int64"
      ]
     },
     "execution_count": 22,
     "metadata": {},
     "output_type": "execute_result"
    }
   ],
   "source": [
    "boxscores_2014.Team.value_counts()"
   ]
  },
  {
   "cell_type": "code",
   "execution_count": null,
   "metadata": {},
   "outputs": [],
   "source": []
  }
 ],
 "metadata": {
  "kernelspec": {
   "display_name": "Python 3",
   "language": "python",
   "name": "python3"
  },
  "language_info": {
   "codemirror_mode": {
    "name": "ipython",
    "version": 3
   },
   "file_extension": ".py",
   "mimetype": "text/x-python",
   "name": "python",
   "nbconvert_exporter": "python",
   "pygments_lexer": "ipython3",
   "version": "3.8.3"
  },
  "toc": {
   "base_numbering": 1,
   "nav_menu": {},
   "number_sections": true,
   "sideBar": true,
   "skip_h1_title": false,
   "title_cell": "Table of Contents",
   "title_sidebar": "Contents",
   "toc_cell": false,
   "toc_position": {},
   "toc_section_display": true,
   "toc_window_display": false
  }
 },
 "nbformat": 4,
 "nbformat_minor": 4
}
