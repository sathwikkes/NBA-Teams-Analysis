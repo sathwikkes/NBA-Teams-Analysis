{
 "cells": [
  {
   "cell_type": "markdown",
   "metadata": {},
   "source": [
    "# Kmeans Clustering -- NBA Teams\n",
    "- Title Contender(4):   \n",
    "- Playoff Team(12):  \n",
    "- Good(5):  \n",
    "- Below Average(5):  \n",
    "- Worst(4):   "
   ]
  },
  {
   "cell_type": "markdown",
   "metadata": {},
   "source": [
    "## Project Motivation  \n",
    "Although the past decade had witnessed never seen before trades and insane franchise expansions, it has been regarded as one of the most lopsided times in basketball history because of how highly predictable the Finals' matchups were. An unstoppable dynasty from the west versus one of greatest to ever play basketball, Lebron James, from the east. Overtime teams went from having a couple superstars and several mediocre players to an equally balanced league where talent is found on any team. Whether it is an advancement in sports medicine, increased cap space, shift to brilliant recruiting, or improved management, the league as a whole is getting better. Not to mention, the overall style of play in todays era has changed remarkably. Younger players such as Luka Doncic and Jaysum Tatum are rising stars who will lift the association to new heights. With substantial moves happening every season, the purpose of this project is to indicate/define these teams into clusters based on their past performances."
   ]
  },
  {
   "cell_type": "markdown",
   "metadata": {},
   "source": [
    "## Data Source\n",
    "The data was scraped from basketball-reference and nba.com/stats for every team from 2014 to 2019 were collected. 2014 was used as the initial start year just to view a crucial period (Lebron going back to the Cavs and the take over of Golden State). In total there are 30 teams and 48 features that include both averages per game and end of the season totals describing each team. "
   ]
  },
  {
   "cell_type": "code",
   "execution_count": 1,
   "metadata": {
    "ExecuteTime": {
     "end_time": "2021-01-25T03:44:38.838841Z",
     "start_time": "2021-01-25T03:44:35.447198Z"
    }
   },
   "outputs": [
    {
     "ename": "NameError",
     "evalue": "name 'plotly' is not defined",
     "output_type": "error",
     "traceback": [
      "\u001b[1;31m---------------------------------------------------------------------------\u001b[0m",
      "\u001b[1;31mNameError\u001b[0m                                 Traceback (most recent call last)",
      "\u001b[1;32m<ipython-input-1-e67371340fe6>\u001b[0m in \u001b[0;36m<module>\u001b[1;34m\u001b[0m\n\u001b[0;32m      7\u001b[0m \u001b[1;33m\u001b[0m\u001b[0m\n\u001b[0;32m      8\u001b[0m \u001b[1;32mimport\u001b[0m \u001b[0mplotly\u001b[0m\u001b[1;33m.\u001b[0m\u001b[0mexpress\u001b[0m \u001b[1;32mas\u001b[0m \u001b[0mpx\u001b[0m\u001b[1;33m\u001b[0m\u001b[1;33m\u001b[0m\u001b[0m\n\u001b[1;32m----> 9\u001b[1;33m \u001b[0mplotly\u001b[0m\u001b[1;33m.\u001b[0m\u001b[0mtools\u001b[0m\u001b[1;33m.\u001b[0m\u001b[0mset_credentials_file\u001b[0m\u001b[1;33m(\u001b[0m\u001b[0musername\u001b[0m\u001b[1;33m=\u001b[0m\u001b[1;34m'sathwikkes'\u001b[0m\u001b[1;33m,\u001b[0m \u001b[0mapi_key\u001b[0m\u001b[1;33m=\u001b[0m\u001b[1;34m'W7qOWMS1nyoPXRJKlpQA'\u001b[0m\u001b[1;33m)\u001b[0m\u001b[1;33m\u001b[0m\u001b[1;33m\u001b[0m\u001b[0m\n\u001b[0m\u001b[0;32m     10\u001b[0m \u001b[1;32mimport\u001b[0m \u001b[0mplotly\u001b[0m\u001b[1;33m.\u001b[0m\u001b[0mgraph_objs\u001b[0m \u001b[1;32mas\u001b[0m \u001b[0mgo\u001b[0m\u001b[1;33m\u001b[0m\u001b[1;33m\u001b[0m\u001b[0m\n",
      "\u001b[1;31mNameError\u001b[0m: name 'plotly' is not defined"
     ]
    }
   ],
   "source": [
    "# helpful packages to load\n",
    "import pandas as pd \n",
    "import numpy as np \n",
    "import matplotlib.pyplot as plt\n",
    "%matplotlib inline\n",
    "# learning plotly\n",
    "\n",
    "import plotly.express as px\n",
    "import chart_studio\n",
    "chart_studio.tools.set_credentials_file(username='sathwikkes', api_key='W7qOWMS1nyoPXRJKlpQA')\n",
    "import plotly.graph_objs as go"
   ]
  },
  {
   "cell_type": "code",
   "execution_count": null,
   "metadata": {
    "ExecuteTime": {
     "end_time": "2021-01-25T03:44:38.838841Z",
     "start_time": "2021-01-25T03:44:35.455Z"
    }
   },
   "outputs": [],
   "source": [
    "df_2015 = pd.read_csv('data/totals_2015.csv') #2014-2015\n",
    "df_2016 = pd.read_csv('data/totals_2016.csv') #2015-2016\n",
    "df_2017 = pd.read_csv('data/totals_2017.csv') #2016-2017\n",
    "df_2018 = pd.read_csv('data/totals_2018.csv') #2017-2018\n",
    "df_2019 = pd.read_csv('data/totals_2019.csv') #2018-2019"
   ]
  },
  {
   "cell_type": "code",
   "execution_count": null,
   "metadata": {
    "ExecuteTime": {
     "end_time": "2021-01-25T03:44:38.846837Z",
     "start_time": "2021-01-25T03:44:35.460Z"
    }
   },
   "outputs": [],
   "source": [
    "df_2015['season'] = '2014-15'\n",
    "df_2016['season'] = '2015-16'\n",
    "df_2017['season'] = '2016-17'\n",
    "df_2018['season'] = '2017-18'\n",
    "df_2019['season'] = '2018-19'"
   ]
  },
  {
   "cell_type": "code",
   "execution_count": null,
   "metadata": {
    "ExecuteTime": {
     "end_time": "2021-01-25T03:44:38.846837Z",
     "start_time": "2021-01-25T03:44:35.464Z"
    }
   },
   "outputs": [],
   "source": [
    "#combing all seasons and store into one dataframe\n",
    "df = df_2015.append(df_2016).append(df_2017).append(df_2018).append(df_2019)\n",
    "df = df.drop(['Team2', 'G2'], axis = 1)"
   ]
  },
  {
   "cell_type": "code",
   "execution_count": null,
   "metadata": {
    "ExecuteTime": {
     "end_time": "2021-01-25T03:44:38.846837Z",
     "start_time": "2021-01-25T03:44:35.467Z"
    }
   },
   "outputs": [],
   "source": [
    "df['made_playoffs'] = df['Team'].str.contains('*', regex=False)\n",
    "df['made_playoffs'] = df['made_playoffs'].astype(int)\n",
    "df['Team'] = df['Team'].str.replace('*', '', regex=False)"
   ]
  },
  {
   "cell_type": "code",
   "execution_count": null,
   "metadata": {
    "ExecuteTime": {
     "end_time": "2021-01-25T03:44:38.846837Z",
     "start_time": "2021-01-25T03:44:35.472Z"
    }
   },
   "outputs": [],
   "source": [
    "df.Team"
   ]
  },
  {
   "cell_type": "code",
   "execution_count": null,
   "metadata": {
    "ExecuteTime": {
     "end_time": "2021-01-25T03:44:38.854837Z",
     "start_time": "2021-01-25T03:44:35.475Z"
    }
   },
   "outputs": [],
   "source": [
    "df.shape"
   ]
  },
  {
   "cell_type": "code",
   "execution_count": null,
   "metadata": {
    "ExecuteTime": {
     "end_time": "2021-01-25T03:44:38.854837Z",
     "start_time": "2021-01-25T03:44:35.481Z"
    },
    "scrolled": true
   },
   "outputs": [],
   "source": [
    "df.info()"
   ]
  },
  {
   "cell_type": "code",
   "execution_count": null,
   "metadata": {
    "ExecuteTime": {
     "end_time": "2021-01-25T03:44:38.854837Z",
     "start_time": "2021-01-25T03:44:35.489Z"
    }
   },
   "outputs": [],
   "source": [
    "df.describe()"
   ]
  },
  {
   "cell_type": "code",
   "execution_count": null,
   "metadata": {
    "ExecuteTime": {
     "end_time": "2021-01-25T03:44:38.854837Z",
     "start_time": "2021-01-25T03:44:35.494Z"
    }
   },
   "outputs": [],
   "source": [
    "plt.figure(figsize=(12,6))\n",
    "\n",
    "_ = plt.hist(df['3P%-Total'], bins=7)\n",
    "_ = plt.xticks(rotation=90)\n",
    "plt.show()"
   ]
  },
  {
   "cell_type": "code",
   "execution_count": null,
   "metadata": {
    "ExecuteTime": {
     "end_time": "2021-01-25T03:44:38.862826Z",
     "start_time": "2021-01-25T03:44:35.499Z"
    }
   },
   "outputs": [],
   "source": [
    "df.isnull().sum()/df.shape[0]"
   ]
  },
  {
   "cell_type": "code",
   "execution_count": null,
   "metadata": {
    "ExecuteTime": {
     "end_time": "2021-01-25T03:44:38.862826Z",
     "start_time": "2021-01-25T03:44:35.501Z"
    }
   },
   "outputs": [],
   "source": [
    "def unique_count(df, col):\n",
    "    return df[col].nunique()"
   ]
  },
  {
   "cell_type": "code",
   "execution_count": null,
   "metadata": {
    "ExecuteTime": {
     "end_time": "2021-01-25T03:44:38.862826Z",
     "start_time": "2021-01-25T03:44:35.506Z"
    }
   },
   "outputs": [],
   "source": [
    "for col in df.columns: \n",
    "    print(\"# of unique values in {}:\".format(col), unique_count(df, col))"
   ]
  },
  {
   "cell_type": "code",
   "execution_count": null,
   "metadata": {
    "ExecuteTime": {
     "end_time": "2021-01-25T03:44:38.862826Z",
     "start_time": "2021-01-25T03:44:35.509Z"
    }
   },
   "outputs": [],
   "source": [
    "stat_cols = list(dict.fromkeys([i.split('-')[0] for i in df.columns]))\n",
    "stat_cols"
   ]
  },
  {
   "cell_type": "code",
   "execution_count": null,
   "metadata": {
    "ExecuteTime": {
     "end_time": "2021-01-25T03:44:38.862826Z",
     "start_time": "2021-01-25T03:44:35.511Z"
    }
   },
   "outputs": [],
   "source": [
    "## splitting the data by division\n",
    "atlantic = ['Boston Celtics', 'Philadelphia 76ers', 'Brooklyn Nets', \n",
    "            'New York Knicks', 'Toronto Raptors']\n",
    "\n",
    "central = ['Milwaukee Bucks', 'Indiana Pacers', 'Cleveland Cavaliers', \n",
    "          'Chicago Bulls', 'Detroit Pistons']\n",
    "\n",
    "southeast = ['Atlanta Hawks', 'Orlando Magic', 'Charlotte Hornets', \n",
    "             'Miami Heat', 'Washington Wizards']\n",
    "\n",
    "northwest = ['Utah Jazz', 'Portland Trail Blazers', 'Denver Nuggets', \n",
    "             'Oklahoma City Thunder', 'Minnesota Timberwolves']\n",
    "\n",
    "pacific = ['Los Angeles Lakers', 'Los Angeles Clippers', 'Phoenix Suns', \n",
    "           'Golden State Warriors', 'Sacramento Kings']\n",
    "\n",
    "southwest = ['San Antonio Spurs', 'Memphis Grizzlies','Dallas Mavericks', \n",
    "             'New Orleans Pelicans', 'Houston Rockets']"
   ]
  },
  {
   "cell_type": "code",
   "execution_count": null,
   "metadata": {
    "ExecuteTime": {
     "end_time": "2021-01-25T03:44:38.870821Z",
     "start_time": "2021-01-25T03:44:35.516Z"
    }
   },
   "outputs": [],
   "source": [
    "df.loc[df.Team.isin(atlantic), 'division'] = 'Atlantic'\n",
    "df.loc[df.Team.isin(central), 'division'] = 'Central'\n",
    "df.loc[df.Team.isin(southeast), 'division'] = 'Southeast'\n",
    "df.loc[df.Team.isin(northwest), 'division'] = 'Northwest'\n",
    "df.loc[df.Team.isin(pacific), 'division'] = 'Pacific'\n",
    "df.loc[df.Team.isin(southwest), 'division'] = 'Southwest'"
   ]
  },
  {
   "cell_type": "code",
   "execution_count": null,
   "metadata": {
    "ExecuteTime": {
     "end_time": "2021-01-25T03:44:38.870821Z",
     "start_time": "2021-01-25T03:44:35.522Z"
    }
   },
   "outputs": [],
   "source": [
    "df.loc[df.Team.isin(atlantic), 'conference'] = 'east'\n",
    "df.loc[df.Team.isin(central), 'conference'] = 'east'\n",
    "df.loc[df.Team.isin(southeast), 'conference'] = 'east'\n",
    "df.loc[df.Team.isin(northwest), 'conference'] = 'west'\n",
    "df.loc[df.Team.isin(pacific), 'conference'] = 'west'\n",
    "df.loc[df.Team.isin(southwest), 'conference'] = 'west'"
   ]
  },
  {
   "cell_type": "code",
   "execution_count": null,
   "metadata": {
    "ExecuteTime": {
     "end_time": "2021-01-25T03:44:38.870821Z",
     "start_time": "2021-01-25T03:44:35.526Z"
    }
   },
   "outputs": [],
   "source": [
    "df.conference.value_counts()"
   ]
  },
  {
   "cell_type": "code",
   "execution_count": null,
   "metadata": {
    "ExecuteTime": {
     "end_time": "2021-01-25T03:44:38.870821Z",
     "start_time": "2021-01-25T03:44:35.529Z"
    }
   },
   "outputs": [],
   "source": [
    "df['division'].value_counts()"
   ]
  },
  {
   "cell_type": "code",
   "execution_count": null,
   "metadata": {
    "ExecuteTime": {
     "end_time": "2021-01-25T03:44:38.870821Z",
     "start_time": "2021-01-25T03:44:35.535Z"
    }
   },
   "outputs": [],
   "source": [
    "fig = px.histogram(df, x='division', y='made_playoffs')\n",
    "fig.show()"
   ]
  },
  {
   "cell_type": "code",
   "execution_count": null,
   "metadata": {
    "ExecuteTime": {
     "end_time": "2021-01-25T03:44:38.878816Z",
     "start_time": "2021-01-25T03:44:35.540Z"
    },
    "scrolled": true
   },
   "outputs": [],
   "source": [
    "fig = px.histogram(df, x='season', y='FGM-Total')\n",
    "fig.show()"
   ]
  },
  {
   "cell_type": "code",
   "execution_count": null,
   "metadata": {
    "ExecuteTime": {
     "end_time": "2021-01-25T03:44:38.878816Z",
     "start_time": "2021-01-25T03:44:35.543Z"
    }
   },
   "outputs": [],
   "source": [
    "fig = px.histogram(df, x='conference', y='FGM-PG')\n",
    "fig.show()"
   ]
  },
  {
   "cell_type": "code",
   "execution_count": null,
   "metadata": {
    "ExecuteTime": {
     "end_time": "2021-01-25T03:44:38.878816Z",
     "start_time": "2021-01-25T03:44:35.546Z"
    }
   },
   "outputs": [],
   "source": [
    "data = {}\n",
    "for i in stat_cols:\n",
    "    if i not in ['Team', 'G']:\n",
    "        data[i] = df[[q for q in df.columns if q.startswith(i)]]"
   ]
  },
  {
   "cell_type": "code",
   "execution_count": null,
   "metadata": {
    "ExecuteTime": {
     "end_time": "2021-01-25T03:44:38.878816Z",
     "start_time": "2021-01-25T03:44:35.550Z"
    }
   },
   "outputs": [],
   "source": [
    "data['TOV']"
   ]
  },
  {
   "cell_type": "code",
   "execution_count": null,
   "metadata": {
    "ExecuteTime": {
     "end_time": "2021-01-25T03:44:38.886810Z",
     "start_time": "2021-01-25T03:44:35.554Z"
    }
   },
   "outputs": [],
   "source": [
    "fta = data['FTA'].value_counts()\n",
    "fig = go.Figure([go.Bar(x=fta.index, y=fta.values)])\n",
    "fig.show()"
   ]
  },
  {
   "cell_type": "code",
   "execution_count": null,
   "metadata": {
    "ExecuteTime": {
     "end_time": "2021-01-25T03:44:38.886810Z",
     "start_time": "2021-01-25T03:44:35.557Z"
    }
   },
   "outputs": [],
   "source": [
    "Teams = {}\n",
    "for i in df.Team.unique():\n",
    "    Teams[i] = df[df.Team == i]"
   ]
  },
  {
   "cell_type": "code",
   "execution_count": null,
   "metadata": {
    "ExecuteTime": {
     "end_time": "2021-01-25T03:44:38.886810Z",
     "start_time": "2021-01-25T03:44:35.560Z"
    }
   },
   "outputs": [],
   "source": [
    "Teams.keys()"
   ]
  },
  {
   "cell_type": "code",
   "execution_count": null,
   "metadata": {
    "ExecuteTime": {
     "end_time": "2021-01-25T03:44:38.886810Z",
     "start_time": "2021-01-25T03:44:35.564Z"
    }
   },
   "outputs": [],
   "source": [
    "Teams['Los Angeles Lakers'].sort_values('FG%-PG', ascending=False)"
   ]
  },
  {
   "cell_type": "code",
   "execution_count": null,
   "metadata": {
    "ExecuteTime": {
     "end_time": "2021-01-25T03:44:38.886810Z",
     "start_time": "2021-01-25T03:44:35.568Z"
    }
   },
   "outputs": [],
   "source": [
    "min_per_game = df['MP-PG'].value_counts()\n",
    "min_per_game"
   ]
  },
  {
   "cell_type": "code",
   "execution_count": null,
   "metadata": {
    "ExecuteTime": {
     "end_time": "2021-01-25T03:44:38.896601Z",
     "start_time": "2021-01-25T03:44:35.571Z"
    }
   },
   "outputs": [],
   "source": [
    "Divisions = {}\n",
    "for i in df.division.unique():\n",
    "    Divisions[i] = df[df.division == i]"
   ]
  },
  {
   "cell_type": "code",
   "execution_count": null,
   "metadata": {
    "ExecuteTime": {
     "end_time": "2021-01-25T03:44:38.898081Z",
     "start_time": "2021-01-25T03:44:35.575Z"
    }
   },
   "outputs": [],
   "source": [
    "Divisions.keys()"
   ]
  },
  {
   "cell_type": "code",
   "execution_count": null,
   "metadata": {
    "ExecuteTime": {
     "end_time": "2021-01-25T03:44:38.898081Z",
     "start_time": "2021-01-25T03:44:35.579Z"
    }
   },
   "outputs": [],
   "source": [
    "Seasons = {}\n",
    "for i in df.season.unique():\n",
    "    Seasons[i] = df[df.season == i]"
   ]
  },
  {
   "cell_type": "code",
   "execution_count": null,
   "metadata": {
    "ExecuteTime": {
     "end_time": "2021-01-25T03:44:38.898081Z",
     "start_time": "2021-01-25T03:44:35.582Z"
    }
   },
   "outputs": [],
   "source": [
    "szn = pd.DataFrame(Seasons.items())\n",
    "szn.head()"
   ]
  },
  {
   "cell_type": "code",
   "execution_count": null,
   "metadata": {
    "ExecuteTime": {
     "end_time": "2021-01-25T03:44:38.898081Z",
     "start_time": "2021-01-25T03:44:35.585Z"
    }
   },
   "outputs": [],
   "source": [
    "Seasons.keys()"
   ]
  },
  {
   "cell_type": "code",
   "execution_count": null,
   "metadata": {
    "ExecuteTime": {
     "end_time": "2021-01-25T03:44:38.898081Z",
     "start_time": "2021-01-25T03:44:35.592Z"
    }
   },
   "outputs": [],
   "source": [
    "Divisions['Pacific'].columns = list(Divisions['Pacific'].mode().iloc[0:])\n",
    "pac = Divisions['Pacific'][['Team', 'season', 'FG%-PG']]\n",
    "pac = pac.sort_values('FG%-PG', ascending = False)\n",
    "fig = px.bar(x=pac.Team, y=pac['FG%-PG'], color = pac['season'])\n",
    "fig.update_layout(barmode='stack')\n",
    "fig.show()"
   ]
  },
  {
   "cell_type": "code",
   "execution_count": null,
   "metadata": {
    "ExecuteTime": {
     "end_time": "2021-01-25T03:44:38.906075Z",
     "start_time": "2021-01-25T03:44:35.598Z"
    }
   },
   "outputs": [],
   "source": [
    "fig = go.Figure(data=[\n",
    "    go.Histogram(name='atlantic', x=Divisions['Atlantic']['division'], y=Divisions['Atlantic']['3P%-PG'],),\n",
    "    go.Histogram(name='pacific', x=Divisions['Pacific']['division'], y=Divisions['Pacific']['3P%-PG'])\n",
    "])\n",
    "# Change the bar mode\n",
    "fig.update_layout(barmode='group')\n",
    "fig.show()"
   ]
  },
  {
   "cell_type": "code",
   "execution_count": null,
   "metadata": {
    "ExecuteTime": {
     "end_time": "2021-01-25T03:44:38.906075Z",
     "start_time": "2021-01-25T03:44:35.601Z"
    }
   },
   "outputs": [],
   "source": [
    "Divisions.keys()"
   ]
  },
  {
   "cell_type": "code",
   "execution_count": null,
   "metadata": {
    "ExecuteTime": {
     "end_time": "2021-01-25T03:44:38.906075Z",
     "start_time": "2021-01-25T03:44:35.608Z"
    }
   },
   "outputs": [],
   "source": [
    "fig = go.Figure(data=[\n",
    "    go.Histogram(name='atlantic', x=Divisions['Atlantic']['division'], y=Divisions['Atlantic']['3P%-PG'],),\n",
    "    go.Histogram(name='pacific', x=Divisions['Pacific']['division'], y=Divisions['Pacific']['3P%-PG'])\n",
    "])\n",
    "# Change the bar mode\n",
    "fig.update_layout(barmode='group')\n",
    "fig.show()"
   ]
  },
  {
   "cell_type": "code",
   "execution_count": null,
   "metadata": {
    "ExecuteTime": {
     "end_time": "2021-01-25T03:44:38.906075Z",
     "start_time": "2021-01-25T03:44:35.611Z"
    }
   },
   "outputs": [],
   "source": [
    "Seasons['2015-16']['division']"
   ]
  },
  {
   "cell_type": "code",
   "execution_count": null,
   "metadata": {
    "ExecuteTime": {
     "end_time": "2021-01-25T03:44:38.906075Z",
     "start_time": "2021-01-25T03:44:35.618Z"
    }
   },
   "outputs": [],
   "source": [
    "#https://stackoverflow.com/questions/59406167/plotly-how-to-filter-a-pandas-dataframe-using-a-dropdown-menu\n",
    "#https://plotly.com/python/dropdowns/\n",
    "\n",
    "\n",
    "fig = go.Figure()\n",
    "fig.add_trace(go.Bar(name = 'Team', x= df.index, y=df.values\n",
    "                    ))\n",
    "\n",
    "\n",
    "\n",
    "\n",
    "#fig.add_trace(go.Scatter(x=df[df.columns[0]],\n",
    "#                         y=df.index,\n",
    "#                         visible=True)\n",
    "#             )\n",
    "#buttons are the things you see in the dropdown \n",
    "buttons = []\n",
    "\n",
    "#for each graph we want to show, we need a button for it\n",
    "#you can do a lot with dropdowns, not just replace data \n",
    "# button with one option for each dataframe\n",
    "for col in df.columns:\n",
    "    buttons.append(dict(method='restyle',\n",
    "                        label=col,\n",
    "                        visible=True,\n",
    "                        args=[{'y':[df[col]],\n",
    "                               'x':[df.index],\n",
    "                               'type':'bar'}, [0]],\n",
    "                        )\n",
    "                  )\n",
    "\n",
    "\n",
    "updatemenu = []\n",
    "your_menu = {}\n",
    "updatemenu.append(your_menu)\n",
    "\n",
    "updatemenu[0]['buttons'] = buttons\n",
    "updatemenu[0]['direction'] = 'down'\n",
    "updatemenu[0]['showactive'] = True\n",
    "\n",
    "# add dropdown menus to the figure\n",
    "fig.update_layout(showlegend=True, updatemenus=updatemenu)\n",
    "fig.show()"
   ]
  },
  {
   "cell_type": "code",
   "execution_count": null,
   "metadata": {
    "ExecuteTime": {
     "end_time": "2021-01-25T03:44:38.914070Z",
     "start_time": "2021-01-25T03:44:35.626Z"
    }
   },
   "outputs": [],
   "source": [
    "fig = go.Figure(layout=go.Layout(title= go.layout.Title(text=\"Comparing Teams by Stats\")))\n",
    "fig.add_trace(go.Bar(name= 'Team 1', x= df.index, y=df.values))\n",
    "\n",
    "buttons = []\n",
    "# add buttons for first series of bars  \n",
    "for i in list(Teams.keys())[0:]:\n",
    "    buttons.append(dict(method='restyle',\n",
    "                        label= i,\n",
    "                        visible=True,\n",
    "                        args=[{'y':[Teams[i]['FG%-PG']],\n",
    "                               'x':[Teams[i]['3P%-PG'].index.name],\n",
    "                               'type':'bar'}, [0]], # the [0] at the end lets us know they are for the first trace\n",
    "                        )\n",
    "                  )\n",
    "\n",
    "fig.add_trace(go.Bar(name= 'Team 2',x= df.index, y=(df.values)))\n",
    "\n",
    "buttons2 = []\n",
    "# add buttons for second series of bars               \n",
    "for i in list(Teams.keys())[0:]:\n",
    "    buttons2.append(dict(method='restyle',\n",
    "                        label= i,\n",
    "                        visible=True,\n",
    "                        args=[{'y':[Teams[i]['3P%-PG']],\n",
    "                               'x':[Teams[i]['3P%-PG'].index.name],\n",
    "                               'type':'bar'}, [1]], # the [1] at the end lets us know they are for the first trace\n",
    "                        )                        #literally figured that out by just experimenting \n",
    "                  )\n",
    "    \n",
    "\n",
    "# adjusted dropdown placement \n",
    "#found out updatemenus take a dictionary of buttons and allow you to format how the dropdowns look etc.\n",
    "# https://plotly.com/python/dropdowns/\n",
    "button_layer_1_height = 1.23\n",
    "updatemenus = list([\n",
    "    dict(buttons=buttons,\n",
    "            direction=\"down\",\n",
    "            pad={\"r\": 10, \"t\": 10},\n",
    "            showactive=True,\n",
    "            x=0.1,\n",
    "            xanchor=\"left\",\n",
    "            y=button_layer_1_height,\n",
    "            yanchor=\"top\"),\n",
    "    dict(buttons=buttons2,\n",
    "            direction=\"down\",\n",
    "            pad={\"r\": 10, \"t\": 10},\n",
    "            showactive=True,\n",
    "            x=0.5,\n",
    "            xanchor=\"left\",\n",
    "            y=button_layer_1_height,\n",
    "            yanchor=\"top\")])\n",
    "\n",
    "\n",
    "fig.update_layout(annotations=[\n",
    "        dict(text=\"Team 1\", x=0, xref=\"paper\", y=1.15, yref=\"paper\",\n",
    "                             align=\"left\", showarrow=False),\n",
    "        dict(text=\"Team 2\", x=0.65, xref=\"paper\", y=1.15,\n",
    "                             yref=\"paper\", showarrow=False)\n",
    "    ])\n",
    "fig.update_xaxes(categoryorder= 'array', categoryarray=df.season.unique())\n",
    "#fig.update_xaxes(ticktext = ['2014-2015', '2015-2016', '2016-2017','2017-2018', '2018-2019'], tickmode='array')  \n",
    "fig.update_layout(updatemenus=updatemenus)\n",
    "fig.show()\n",
    "\n",
    "#add topline to each for all types\n",
    "# add seleciton 1 and selection 2"
   ]
  },
  {
   "cell_type": "code",
   "execution_count": null,
   "metadata": {
    "ExecuteTime": {
     "end_time": "2021-01-25T03:44:38.914070Z",
     "start_time": "2021-01-25T03:44:35.629Z"
    }
   },
   "outputs": [],
   "source": [
    "columns = df.season.unique()\n",
    "columns"
   ]
  },
  {
   "cell_type": "code",
   "execution_count": null,
   "metadata": {
    "ExecuteTime": {
     "end_time": "2021-01-25T03:44:38.914070Z",
     "start_time": "2021-01-25T03:44:35.631Z"
    }
   },
   "outputs": [],
   "source": [
    "headers = ['Team', 'Match-Up', 'Game-Date', 'Season', 'W/L', 'Min', 'PTS', 'FGM', 'FGA', 'FG%', '3PM', '3PA', '3P%'\n",
    "          'FTM', 'FTA', 'FT%', 'OREB', 'DREB', 'REB', 'AST', 'TOV', 'STL', 'BLK', 'PF', '+/-']"
   ]
  },
  {
   "cell_type": "code",
   "execution_count": null,
   "metadata": {
    "ExecuteTime": {
     "end_time": "2021-01-25T03:44:38.914070Z",
     "start_time": "2021-01-25T03:44:35.637Z"
    }
   },
   "outputs": [],
   "source": [
    "boxscores_2014 = pd.read_csv('data/totals_2014-15.csv', names=headers, skiprows=1, index_col=False)\n",
    "boxscores_2014.head(10)"
   ]
  },
  {
   "cell_type": "code",
   "execution_count": null,
   "metadata": {
    "ExecuteTime": {
     "end_time": "2021-01-25T03:44:38.914070Z",
     "start_time": "2021-01-25T03:44:35.641Z"
    }
   },
   "outputs": [],
   "source": [
    "boxscores_2014.info()"
   ]
  },
  {
   "cell_type": "code",
   "execution_count": null,
   "metadata": {
    "ExecuteTime": {
     "end_time": "2021-01-25T03:44:38.922065Z",
     "start_time": "2021-01-25T03:44:35.643Z"
    }
   },
   "outputs": [],
   "source": [
    "boxscores_2014 = boxscores_2014.replace('\\n','', regex=True)"
   ]
  },
  {
   "cell_type": "code",
   "execution_count": null,
   "metadata": {
    "ExecuteTime": {
     "end_time": "2021-01-25T03:44:38.922065Z",
     "start_time": "2021-01-25T03:44:35.647Z"
    }
   },
   "outputs": [],
   "source": [
    "boxscores_2014.head()"
   ]
  },
  {
   "cell_type": "code",
   "execution_count": null,
   "metadata": {
    "ExecuteTime": {
     "end_time": "2021-01-25T03:44:38.922065Z",
     "start_time": "2021-01-25T03:44:35.649Z"
    }
   },
   "outputs": [],
   "source": [
    "boxscores_2014.shape"
   ]
  },
  {
   "cell_type": "code",
   "execution_count": null,
   "metadata": {
    "ExecuteTime": {
     "end_time": "2021-01-25T03:44:38.922065Z",
     "start_time": "2021-01-25T03:44:35.652Z"
    }
   },
   "outputs": [],
   "source": [
    "boxscores_2014.Team.value_counts()"
   ]
  },
  {
   "cell_type": "code",
   "execution_count": null,
   "metadata": {},
   "outputs": [],
   "source": []
  }
 ],
 "metadata": {
  "kernelspec": {
   "display_name": "Python 3",
   "language": "python",
   "name": "python3"
  },
  "language_info": {
   "codemirror_mode": {
    "name": "ipython",
    "version": 3
   },
   "file_extension": ".py",
   "mimetype": "text/x-python",
   "name": "python",
   "nbconvert_exporter": "python",
   "pygments_lexer": "ipython3",
   "version": "3.8.3"
  },
  "toc": {
   "base_numbering": 1,
   "nav_menu": {},
   "number_sections": true,
   "sideBar": true,
   "skip_h1_title": false,
   "title_cell": "Table of Contents",
   "title_sidebar": "Contents",
   "toc_cell": false,
   "toc_position": {},
   "toc_section_display": true,
   "toc_window_display": false
  }
 },
 "nbformat": 4,
 "nbformat_minor": 4
}
