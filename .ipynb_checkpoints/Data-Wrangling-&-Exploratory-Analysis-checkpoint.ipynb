{
 "cells": [
  {
   "cell_type": "code",
   "execution_count": 1,
   "metadata": {
    "ExecuteTime": {
     "end_time": "2021-01-03T06:24:48.470668Z",
     "start_time": "2021-01-03T06:24:47.622581Z"
    }
   },
   "outputs": [],
   "source": [
    "import pandas as pd \n",
    "import numpy as np \n",
    "import matplotlib.pyplot as plt"
   ]
  },
  {
   "cell_type": "code",
   "execution_count": 2,
   "metadata": {
    "ExecuteTime": {
     "end_time": "2021-01-03T06:24:48.516354Z",
     "start_time": "2021-01-03T06:24:48.471274Z"
    }
   },
   "outputs": [],
   "source": [
    "df_2015 = pd.read_csv('data/totals_2015.csv')\n",
    "df_2016 = pd.read_csv('data/totals_2016.csv')\n",
    "df_2017 = pd.read_csv('data/totals_2017.csv')\n",
    "df_2018 = pd.read_csv('data/totals_2018.csv')\n",
    "df_2019 = pd.read_csv('data/totals_2019.csv')"
   ]
  },
  {
   "cell_type": "code",
   "execution_count": 5,
   "metadata": {
    "ExecuteTime": {
     "end_time": "2021-01-03T06:25:31.420058Z",
     "start_time": "2021-01-03T06:25:31.403959Z"
    }
   },
   "outputs": [],
   "source": [
    "df_2015 = df_2015.drop(['Team2', 'G2'], axis = 1)\n",
    "df_2016 = df_2016.drop(['Team2', 'G2'], axis = 1)\n",
    "df_2017 = df_2017.drop(['Team2', 'G2'], axis = 1)\n",
    "df_2018 = df_2018.drop(['Team2', 'G2'], axis = 1)\n",
    "df_2019 = df_2019.drop(['Team2', 'G2'], axis = 1)"
   ]
  },
  {
   "cell_type": "code",
   "execution_count": 6,
   "metadata": {
    "ExecuteTime": {
     "end_time": "2021-01-03T06:25:33.342598Z",
     "start_time": "2021-01-03T06:25:33.299726Z"
    }
   },
   "outputs": [
    {
     "data": {
      "text/html": [
       "<div>\n",
       "<style scoped>\n",
       "    .dataframe tbody tr th:only-of-type {\n",
       "        vertical-align: middle;\n",
       "    }\n",
       "\n",
       "    .dataframe tbody tr th {\n",
       "        vertical-align: top;\n",
       "    }\n",
       "\n",
       "    .dataframe thead th {\n",
       "        text-align: right;\n",
       "    }\n",
       "</style>\n",
       "<table border=\"1\" class=\"dataframe\">\n",
       "  <thead>\n",
       "    <tr style=\"text-align: right;\">\n",
       "      <th></th>\n",
       "      <th>Team</th>\n",
       "      <th>G</th>\n",
       "      <th>MP-Total</th>\n",
       "      <th>FGM-Total</th>\n",
       "      <th>FGA-Total</th>\n",
       "      <th>FG%-Total</th>\n",
       "      <th>3PM-Total</th>\n",
       "      <th>3PA-Total</th>\n",
       "      <th>3P%-Total</th>\n",
       "      <th>2PM-Total</th>\n",
       "      <th>...</th>\n",
       "      <th>FT%-PG</th>\n",
       "      <th>ORB-PG</th>\n",
       "      <th>DRB-PG</th>\n",
       "      <th>TRB-PG</th>\n",
       "      <th>AST-PG</th>\n",
       "      <th>STL-PG</th>\n",
       "      <th>BLK-PG</th>\n",
       "      <th>TOV-PG</th>\n",
       "      <th>PF-PG</th>\n",
       "      <th>PTS-PG</th>\n",
       "    </tr>\n",
       "  </thead>\n",
       "  <tbody>\n",
       "    <tr>\n",
       "      <th>0</th>\n",
       "      <td>Golden State Warriors*</td>\n",
       "      <td>82</td>\n",
       "      <td>19730</td>\n",
       "      <td>3410</td>\n",
       "      <td>7137</td>\n",
       "      <td>0.478</td>\n",
       "      <td>883</td>\n",
       "      <td>2217</td>\n",
       "      <td>0.398</td>\n",
       "      <td>2527</td>\n",
       "      <td>...</td>\n",
       "      <td>0.768</td>\n",
       "      <td>10.4</td>\n",
       "      <td>34.3</td>\n",
       "      <td>44.7</td>\n",
       "      <td>27.4</td>\n",
       "      <td>9.3</td>\n",
       "      <td>6.0</td>\n",
       "      <td>14.5</td>\n",
       "      <td>19.9</td>\n",
       "      <td>110.0</td>\n",
       "    </tr>\n",
       "    <tr>\n",
       "      <th>1</th>\n",
       "      <td>Los Angeles Clippers*</td>\n",
       "      <td>82</td>\n",
       "      <td>19730</td>\n",
       "      <td>3228</td>\n",
       "      <td>6830</td>\n",
       "      <td>0.473</td>\n",
       "      <td>827</td>\n",
       "      <td>2202</td>\n",
       "      <td>0.376</td>\n",
       "      <td>2401</td>\n",
       "      <td>...</td>\n",
       "      <td>0.710</td>\n",
       "      <td>9.6</td>\n",
       "      <td>33.1</td>\n",
       "      <td>42.6</td>\n",
       "      <td>24.8</td>\n",
       "      <td>7.8</td>\n",
       "      <td>5.0</td>\n",
       "      <td>12.3</td>\n",
       "      <td>21.3</td>\n",
       "      <td>106.7</td>\n",
       "    </tr>\n",
       "    <tr>\n",
       "      <th>2</th>\n",
       "      <td>Dallas Mavericks*</td>\n",
       "      <td>82</td>\n",
       "      <td>19880</td>\n",
       "      <td>3255</td>\n",
       "      <td>7036</td>\n",
       "      <td>0.463</td>\n",
       "      <td>732</td>\n",
       "      <td>2082</td>\n",
       "      <td>0.352</td>\n",
       "      <td>2523</td>\n",
       "      <td>...</td>\n",
       "      <td>0.752</td>\n",
       "      <td>10.5</td>\n",
       "      <td>31.8</td>\n",
       "      <td>42.3</td>\n",
       "      <td>22.5</td>\n",
       "      <td>8.1</td>\n",
       "      <td>4.5</td>\n",
       "      <td>13.0</td>\n",
       "      <td>20.0</td>\n",
       "      <td>105.2</td>\n",
       "    </tr>\n",
       "    <tr>\n",
       "      <th>3</th>\n",
       "      <td>Toronto Raptors*</td>\n",
       "      <td>82</td>\n",
       "      <td>19855</td>\n",
       "      <td>3108</td>\n",
       "      <td>6829</td>\n",
       "      <td>0.455</td>\n",
       "      <td>726</td>\n",
       "      <td>2060</td>\n",
       "      <td>0.352</td>\n",
       "      <td>2382</td>\n",
       "      <td>...</td>\n",
       "      <td>0.787</td>\n",
       "      <td>10.7</td>\n",
       "      <td>30.8</td>\n",
       "      <td>41.5</td>\n",
       "      <td>20.7</td>\n",
       "      <td>7.5</td>\n",
       "      <td>4.4</td>\n",
       "      <td>12.9</td>\n",
       "      <td>20.9</td>\n",
       "      <td>104.0</td>\n",
       "    </tr>\n",
       "    <tr>\n",
       "      <th>4</th>\n",
       "      <td>Oklahoma City Thunder</td>\n",
       "      <td>82</td>\n",
       "      <td>19830</td>\n",
       "      <td>3184</td>\n",
       "      <td>7119</td>\n",
       "      <td>0.447</td>\n",
       "      <td>632</td>\n",
       "      <td>1864</td>\n",
       "      <td>0.339</td>\n",
       "      <td>2552</td>\n",
       "      <td>...</td>\n",
       "      <td>0.754</td>\n",
       "      <td>12.8</td>\n",
       "      <td>34.7</td>\n",
       "      <td>47.5</td>\n",
       "      <td>20.5</td>\n",
       "      <td>7.3</td>\n",
       "      <td>5.5</td>\n",
       "      <td>14.7</td>\n",
       "      <td>22.3</td>\n",
       "      <td>104.0</td>\n",
       "    </tr>\n",
       "  </tbody>\n",
       "</table>\n",
       "<p>5 rows × 46 columns</p>\n",
       "</div>"
      ],
      "text/plain": [
       "                     Team   G  MP-Total  FGM-Total  FGA-Total  FG%-Total  \\\n",
       "0  Golden State Warriors*  82     19730       3410       7137      0.478   \n",
       "1   Los Angeles Clippers*  82     19730       3228       6830      0.473   \n",
       "2       Dallas Mavericks*  82     19880       3255       7036      0.463   \n",
       "3        Toronto Raptors*  82     19855       3108       6829      0.455   \n",
       "4   Oklahoma City Thunder  82     19830       3184       7119      0.447   \n",
       "\n",
       "   3PM-Total  3PA-Total  3P%-Total  2PM-Total  ...  FT%-PG  ORB-PG  DRB-PG  \\\n",
       "0        883       2217      0.398       2527  ...   0.768    10.4    34.3   \n",
       "1        827       2202      0.376       2401  ...   0.710     9.6    33.1   \n",
       "2        732       2082      0.352       2523  ...   0.752    10.5    31.8   \n",
       "3        726       2060      0.352       2382  ...   0.787    10.7    30.8   \n",
       "4        632       1864      0.339       2552  ...   0.754    12.8    34.7   \n",
       "\n",
       "   TRB-PG  AST-PG  STL-PG  BLK-PG  TOV-PG  PF-PG  PTS-PG  \n",
       "0    44.7    27.4     9.3     6.0    14.5   19.9   110.0  \n",
       "1    42.6    24.8     7.8     5.0    12.3   21.3   106.7  \n",
       "2    42.3    22.5     8.1     4.5    13.0   20.0   105.2  \n",
       "3    41.5    20.7     7.5     4.4    12.9   20.9   104.0  \n",
       "4    47.5    20.5     7.3     5.5    14.7   22.3   104.0  \n",
       "\n",
       "[5 rows x 46 columns]"
      ]
     },
     "execution_count": 6,
     "metadata": {},
     "output_type": "execute_result"
    }
   ],
   "source": [
    "df_2015.head()"
   ]
  },
  {
   "cell_type": "code",
   "execution_count": 26,
   "metadata": {
    "ExecuteTime": {
     "end_time": "2021-01-03T06:45:36.743894Z",
     "start_time": "2021-01-03T06:45:36.738073Z"
    }
   },
   "outputs": [
    {
     "data": {
      "text/plain": [
       "(31, 46)"
      ]
     },
     "execution_count": 26,
     "metadata": {},
     "output_type": "execute_result"
    }
   ],
   "source": [
    "df_2015.shape"
   ]
  },
  {
   "cell_type": "code",
   "execution_count": 8,
   "metadata": {
    "ExecuteTime": {
     "end_time": "2021-01-03T06:25:43.072930Z",
     "start_time": "2021-01-03T06:25:43.045918Z"
    }
   },
   "outputs": [
    {
     "name": "stdout",
     "output_type": "stream",
     "text": [
      "<class 'pandas.core.frame.DataFrame'>\n",
      "RangeIndex: 31 entries, 0 to 30\n",
      "Data columns (total 46 columns):\n",
      " #   Column     Non-Null Count  Dtype  \n",
      "---  ------     --------------  -----  \n",
      " 0   Team       31 non-null     object \n",
      " 1   G          31 non-null     int64  \n",
      " 2   MP-Total   31 non-null     int64  \n",
      " 3   FGM-Total  31 non-null     int64  \n",
      " 4   FGA-Total  31 non-null     int64  \n",
      " 5   FG%-Total  31 non-null     float64\n",
      " 6   3PM-Total  31 non-null     int64  \n",
      " 7   3PA-Total  31 non-null     int64  \n",
      " 8   3P%-Total  31 non-null     float64\n",
      " 9   2PM-Total  31 non-null     int64  \n",
      " 10  2PA-Total  31 non-null     int64  \n",
      " 11  2P%-Total  31 non-null     float64\n",
      " 12  FTM-Total  31 non-null     int64  \n",
      " 13  FTA-Total  31 non-null     int64  \n",
      " 14  FT%-Total  31 non-null     float64\n",
      " 15  ORB-Total  31 non-null     int64  \n",
      " 16  DRB-Total  31 non-null     int64  \n",
      " 17  TRB-Total  31 non-null     int64  \n",
      " 18  AST-Total  31 non-null     int64  \n",
      " 19  STL-Total  31 non-null     int64  \n",
      " 20  BLK-Total  31 non-null     int64  \n",
      " 21  TOV-Total  31 non-null     int64  \n",
      " 22  PF-Total   31 non-null     int64  \n",
      " 23  PTS-Total  31 non-null     int64  \n",
      " 24  MP-PG      31 non-null     float64\n",
      " 25  FGM-PG     31 non-null     float64\n",
      " 26  FGA-PG     31 non-null     float64\n",
      " 27  FG%-PG     31 non-null     float64\n",
      " 28  3PM-PG     31 non-null     float64\n",
      " 29  3PA-PG     31 non-null     float64\n",
      " 30  3P%-PG     31 non-null     float64\n",
      " 31  2PM-PG     31 non-null     float64\n",
      " 32  2PA-PG     31 non-null     float64\n",
      " 33  2P%-PG     31 non-null     float64\n",
      " 34  FTM-PG     31 non-null     float64\n",
      " 35  FTA-PG     31 non-null     float64\n",
      " 36  FT%-PG     31 non-null     float64\n",
      " 37  ORB-PG     31 non-null     float64\n",
      " 38  DRB-PG     31 non-null     float64\n",
      " 39  TRB-PG     31 non-null     float64\n",
      " 40  AST-PG     31 non-null     float64\n",
      " 41  STL-PG     31 non-null     float64\n",
      " 42  BLK-PG     31 non-null     float64\n",
      " 43  TOV-PG     31 non-null     float64\n",
      " 44  PF-PG      31 non-null     float64\n",
      " 45  PTS-PG     31 non-null     float64\n",
      "dtypes: float64(26), int64(19), object(1)\n",
      "memory usage: 11.3+ KB\n"
     ]
    }
   ],
   "source": [
    "df_2015.info()"
   ]
  },
  {
   "cell_type": "code",
   "execution_count": 25,
   "metadata": {
    "ExecuteTime": {
     "end_time": "2021-01-03T06:44:33.629715Z",
     "start_time": "2021-01-03T06:44:32.770925Z"
    }
   },
   "outputs": [
    {
     "data": {
      "image/png": "[encoded data removed]",
      "text/plain": [
       "<Figure size 864x432 with 1 Axes>"
      ]
     },
     "metadata": {
      "needs_background": "light"
     },
     "output_type": "display_data"
    }
   ],
   "source": [
    "plt.figure(figsize=(12,6))\n",
    "\n",
    "_ = plt.hist(df_2015['3P%-Total'], bins=7)\n",
    "_ = plt.xticks(rotation=90)\n",
    "plt.show()"
   ]
  },
  {
   "cell_type": "code",
   "execution_count": null,
   "metadata": {},
   "outputs": [],
   "source": []
  }
 ],
 "metadata": {
  "kernelspec": {
   "display_name": "Python 3",
   "language": "python",
   "name": "python3"
  },
  "language_info": {
   "codemirror_mode": {
    "name": "ipython",
    "version": 3
   },
   "file_extension": ".py",
   "mimetype": "text/x-python",
   "name": "python",
   "nbconvert_exporter": "python",
   "pygments_lexer": "ipython3",
   "version": "3.8.3"
  },
  "toc": {
   "base_numbering": 1,
   "nav_menu": {},
   "number_sections": true,
   "sideBar": true,
   "skip_h1_title": false,
   "title_cell": "Table of Contents",
   "title_sidebar": "Contents",
   "toc_cell": false,
   "toc_position": {},
   "toc_section_display": true,
   "toc_window_display": false
  }
 },
 "nbformat": 4,
 "nbformat_minor": 4
}
